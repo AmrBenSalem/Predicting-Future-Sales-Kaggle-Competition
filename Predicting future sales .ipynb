{
 "cells": [
  {
   "cell_type": "markdown",
   "metadata": {},
   "source": [
    "public score : 0.956484\n",
    "\n",
    "private score : 0.960154"
   ]
  },
  {
   "cell_type": "markdown",
   "metadata": {
    "_uuid": "f03379ee467570732ebb2b3d20062fea0584d57d"
   },
   "source": [
    "## Importing libraries : "
   ]
  },
  {
   "cell_type": "code",
   "execution_count": 1,
   "metadata": {
    "_cell_guid": "b1076dfc-b9ad-4769-8c92-a6c4dae69d19",
    "_uuid": "8f2839f25d086af736a60e9eeb907d3b93b6e0e5"
   },
   "outputs": [],
   "source": [
    "import numpy as np\n",
    "import pandas as pd\n",
    "import seaborn as sns\n",
    "import matplotlib.pyplot as plt\n",
    "from itertools import product\n",
    "from sklearn.preprocessing import LabelEncoder\n",
    "import pickle"
   ]
  },
  {
   "cell_type": "code",
   "execution_count": 103,
   "metadata": {
    "_uuid": "f0a1c729d4fb3d6609f9dfb163ebe92fa9dc654c"
   },
   "outputs": [],
   "source": [
    "items = pd.read_csv('items.csv')\n",
    "shops = pd.read_csv('shops.csv')\n",
    "item_cat = pd.read_csv('item_categories.csv')\n",
    "sales_train = pd.read_csv('sales_train_v2.csv')\n",
    "test  = pd.read_csv('test.csv').set_index('ID')"
   ]
  },
  {
   "cell_type": "markdown",
   "metadata": {
    "_uuid": "ed7a190645750a818e29a6291ba2553a91764c7c"
   },
   "source": [
    "## Deleting Outliers :"
   ]
  },
  {
   "cell_type": "code",
   "execution_count": 104,
   "metadata": {
    "_uuid": "5a864412fafc3129a3e9bd5bb1f18a7cf0c62935"
   },
   "outputs": [
    {
     "data": {
      "text/plain": [
       "<matplotlib.axes._subplots.AxesSubplot at 0x7f9ad1f59668>"
      ]
     },
     "execution_count": 104,
     "metadata": {},
     "output_type": "execute_result"
    },
    {
     "data": {
      "image/png": "[encoded data removed]",
      "text/plain": [
       "<Figure size 720x288 with 1 Axes>"
      ]
     },
     "metadata": {},
     "output_type": "display_data"
    },
    {
     "data": {
      "image/png": "[encoded data removed]",
      "text/plain": [
       "<Figure size 720x288 with 1 Axes>"
      ]
     },
     "metadata": {},
     "output_type": "display_data"
    }
   ],
   "source": [
    "plt.figure(figsize=(10,4))\n",
    "sns.boxplot(x=sales_train.item_cnt_day)\n",
    "\n",
    "plt.figure(figsize=(10,4))\n",
    "plt.xlim(sales_train.item_price.min(), sales_train.item_price.max()*1.1)\n",
    "sns.boxplot(x=sales_train.item_price)"
   ]
  },
  {
   "cell_type": "code",
   "execution_count": 105,
   "metadata": {
    "_uuid": "7e621535d112603c60aeb2c2f83dbbf96d36b732"
   },
   "outputs": [],
   "source": [
    "sales_train = sales_train[sales_train.item_price<250000]\n",
    "sales_train = sales_train[sales_train.item_cnt_day<1000]"
   ]
  },
  {
   "cell_type": "code",
   "execution_count": 106,
   "metadata": {
    "_uuid": "0fc6b90b22fe232f4240ac8f965cc52b3db5526a"
   },
   "outputs": [],
   "source": [
    "median = sales_train[(sales_train.shop_id==32)&(sales_train.item_id==2973)&(sales_train.date_block_num==4)&(sales_train.item_price>0)].item_price.median()\n",
    "sales_train.loc[sales_train.item_price<0, 'item_price'] = median"
   ]
  },
  {
   "cell_type": "markdown",
   "metadata": {
    "_uuid": "a30f0521464e1fa20444e66d24bbdcb76b93f6de"
   },
   "source": [
    "## Extracting and encoding city name , category , subcategory : "
   ]
  },
  {
   "cell_type": "code",
   "execution_count": 107,
   "metadata": {
    "_uuid": "12fae4c8d0c8f3e817307d1e0ffc6831e9a8d696"
   },
   "outputs": [],
   "source": [
    "shops.loc[shops.shop_name == 'Сергиев Посад ТЦ \"7Я\"', 'shop_name'] = 'СергиевПосад ТЦ \"7Я\"'\n",
    "shops['city'] = shops['shop_name'].str.split(' ').map(lambda x: x[0])\n",
    "shops.loc[shops.city == '!Якутск', 'city'] = 'Якутск'\n",
    "shops['city_code'] = LabelEncoder().fit_transform(shops['city'])\n",
    "shops = shops[['shop_id','city_code']]\n",
    "\n",
    "item_cat['split'] = item_cat['item_category_name'].str.split('-')\n",
    "item_cat['type'] = item_cat['split'].map(lambda x: x[0].strip())\n",
    "item_cat['type_code'] = LabelEncoder().fit_transform(item_cat['type'])\n",
    "# if subtype is nan then type\n",
    "item_cat['subtype'] = item_cat['split'].map(lambda x: x[1].strip() if len(x) > 1 else x[0].strip())\n",
    "item_cat['subtype_code'] = LabelEncoder().fit_transform(item_cat['subtype'])\n",
    "item_cat = item_cat[['item_category_id','type_code', 'subtype_code']]\n",
    "\n",
    "items.drop(['item_name'], axis=1, inplace=True)"
   ]
  },
  {
   "cell_type": "markdown",
   "metadata": {
    "_uuid": "62c5f83fa222595da99294f465ab28e80ce415e9"
   },
   "source": [
    "\n",
    "## Here we have to generate missing rows and make the train set like the test set"
   ]
  },
  {
   "cell_type": "code",
   "execution_count": 108,
   "metadata": {
    "_uuid": "7626c7455ea71b65894c6c866519df15080fa2ac"
   },
   "outputs": [],
   "source": [
    "matrix = []\n",
    "cols = ['date_block_num','shop_id','item_id']\n",
    "for i in range(34):\n",
    "    sales = sales_train[sales_train.date_block_num==i]\n",
    "    matrix.append(np.array(list(product([i], sales.shop_id.unique(), sales.item_id.unique())), dtype='int16'))\n",
    "    \n",
    "matrix = pd.DataFrame(np.vstack(matrix), columns=cols)\n",
    "matrix['date_block_num'] = matrix['date_block_num'].astype(np.int8)\n",
    "matrix['shop_id'] = matrix['shop_id'].astype(np.int8)\n",
    "matrix['item_id'] = matrix['item_id'].astype(np.int16)\n",
    "matrix.sort_values(cols,inplace=True)"
   ]
  },
  {
   "cell_type": "markdown",
   "metadata": {},
   "source": [
    "Revenue Feature : "
   ]
  },
  {
   "cell_type": "code",
   "execution_count": 109,
   "metadata": {
    "_uuid": "9fef5477060be7d2e6c85dcb79d8e18e6253f7dd"
   },
   "outputs": [],
   "source": [
    "sales_train['revenue'] = sales_train['item_price'] *  sales_train['item_cnt_day']"
   ]
  },
  {
   "cell_type": "markdown",
   "metadata": {
    "_uuid": "867e91a7570dd78b4834f4f1a166e58f80b63f93"
   },
   "source": [
    "## Aggregation by month : "
   ]
  },
  {
   "cell_type": "code",
   "execution_count": 110,
   "metadata": {
    "_uuid": "7dd27181918fc7df89676e24d72130d183929d2d"
   },
   "outputs": [],
   "source": [
    "group = sales_train.groupby(['date_block_num','shop_id','item_id']).agg({'item_cnt_day': ['sum']})\n",
    "group.columns = ['item_cnt_month']\n",
    "group.reset_index(inplace=True)\n",
    "\n",
    "matrix = pd.merge(matrix, group, on=cols, how='left')\n",
    "matrix['item_cnt_month'] = (matrix['item_cnt_month'].fillna(0).clip(0,20).astype(np.float16))"
   ]
  },
  {
   "cell_type": "markdown",
   "metadata": {
    "_uuid": "315bc6107a93f3926a64fd09ea9244e9281ee41f"
   },
   "source": [
    "## We add the month for the test set (34), we concatinate matrix and test :"
   ]
  },
  {
   "cell_type": "code",
   "execution_count": 111,
   "metadata": {
    "_uuid": "29d02bdb4fa768577607bf735b918ca81da85d41"
   },
   "outputs": [],
   "source": [
    "test['date_block_num'] = 34\n",
    "test['date_block_num'] = test['date_block_num'].astype(np.int8)\n",
    "test['shop_id'] = test['shop_id'].astype(np.int8)\n",
    "test['item_id'] = test['item_id'].astype(np.int16)\n",
    "\n",
    "matrix = pd.concat([matrix, test], ignore_index=True, sort=False, keys=cols)\n",
    "matrix.fillna(0, inplace=True)"
   ]
  },
  {
   "cell_type": "markdown",
   "metadata": {
    "_uuid": "233e394a6cebf36ef002dc76fef8d430026a52b3"
   },
   "source": [
    "## Adding the city,item category , type and subtype features :"
   ]
  },
  {
   "cell_type": "code",
   "execution_count": 112,
   "metadata": {
    "_uuid": "7dfd5df3e2bcaee4c312f3979736f52c40f2560f"
   },
   "outputs": [],
   "source": [
    "matrix = pd.merge(matrix, shops, on=['shop_id'], how='left')\n",
    "matrix = pd.merge(matrix, items, on=['item_id'], how='left')\n",
    "matrix = pd.merge(matrix, item_cat, on=['item_category_id'], how='left')\n",
    "matrix['city_code'] = matrix['city_code'].astype(np.int8)\n",
    "matrix['item_category_id'] = matrix['item_category_id'].astype(np.int8)\n",
    "matrix['type_code'] = matrix['type_code'].astype(np.int8)\n",
    "matrix['subtype_code'] = matrix['subtype_code'].astype(np.int8)"
   ]
  },
  {
   "cell_type": "markdown",
   "metadata": {
    "_uuid": "8358b291fdc8e0e7d1b5700974803b3f104715f7"
   },
   "source": [
    "## Function to generate lags : "
   ]
  },
  {
   "cell_type": "code",
   "execution_count": 113,
   "metadata": {
    "_uuid": "9cd7bcc7643ce4545475e8e6f80d09a979aac42d"
   },
   "outputs": [],
   "source": [
    "def lag_feature(df, lags, col):\n",
    "    tmp = df[['date_block_num','shop_id','item_id',col]]\n",
    "    for i in lags:\n",
    "        shifted = tmp.copy()\n",
    "        shifted.columns = ['date_block_num','shop_id','item_id', col+'_lag_'+str(i)]\n",
    "        shifted['date_block_num'] += i\n",
    "        df = pd.merge(df, shifted, on=['date_block_num','shop_id','item_id'], how='left')\n",
    "    return df"
   ]
  },
  {
   "cell_type": "code",
   "execution_count": 114,
   "metadata": {
    "_uuid": "78bf7ece93ebc4629ad0e48cd6a9927788d8706d"
   },
   "outputs": [],
   "source": [
    "matrix = lag_feature(matrix, [1,2,3,6,12], 'item_cnt_month')"
   ]
  },
  {
   "cell_type": "markdown",
   "metadata": {
    "_uuid": "c67bf4dbcef884ffe9d19c65d37bc4de1f287ef6"
   },
   "source": [
    "## Generating mean encoded features : "
   ]
  },
  {
   "cell_type": "code",
   "execution_count": 115,
   "metadata": {
    "_uuid": "763aca242154ea10fa0a62fffadb4ef90e9532d6"
   },
   "outputs": [],
   "source": [
    "group = matrix.groupby(['date_block_num']).agg({'item_cnt_month': ['mean']})\n",
    "group.columns = [ 'date_avg_item_cnt' ]\n",
    "group.reset_index(inplace=True)\n",
    "\n",
    "matrix = pd.merge(matrix, group, on=['date_block_num'], how='left')\n",
    "matrix['date_avg_item_cnt'] = matrix['date_avg_item_cnt'].astype(np.float16)\n",
    "matrix = lag_feature(matrix, [1], 'date_avg_item_cnt')\n",
    "matrix.drop(['date_avg_item_cnt'], axis=1, inplace=True)"
   ]
  },
  {
   "cell_type": "code",
   "execution_count": 116,
   "metadata": {
    "_uuid": "fc9166c4e678ebb99d03566f1751b7d4b5c690d2"
   },
   "outputs": [],
   "source": [
    "group = matrix.groupby(['date_block_num', 'item_id']).agg({'item_cnt_month': ['mean']})\n",
    "group.columns = [ 'date_item_avg_item_cnt' ]\n",
    "group.reset_index(inplace=True)\n",
    "\n",
    "matrix = pd.merge(matrix, group, on=['date_block_num','item_id'], how='left')\n",
    "matrix['date_item_avg_item_cnt'] = matrix['date_item_avg_item_cnt'].astype(np.float16)\n",
    "matrix = lag_feature(matrix, [1,2,3,6,12], 'date_item_avg_item_cnt')\n",
    "matrix.drop(['date_item_avg_item_cnt'], axis=1, inplace=True)"
   ]
  },
  {
   "cell_type": "code",
   "execution_count": 117,
   "metadata": {
    "_uuid": "73f2552c403c5f67bbf07f28d69efcc015d00f32"
   },
   "outputs": [],
   "source": [
    "group = matrix.groupby(['date_block_num', 'shop_id']).agg({'item_cnt_month': ['mean']})\n",
    "group.columns = [ 'date_shop_avg_item_cnt' ]\n",
    "group.reset_index(inplace=True)\n",
    "\n",
    "matrix = pd.merge(matrix, group, on=['date_block_num','shop_id'], how='left')\n",
    "matrix['date_shop_avg_item_cnt'] = matrix['date_shop_avg_item_cnt'].astype(np.float16)\n",
    "matrix = lag_feature(matrix, [1,2,3,6,12], 'date_shop_avg_item_cnt')\n",
    "matrix.drop(['date_shop_avg_item_cnt'], axis=1, inplace=True)"
   ]
  },
  {
   "cell_type": "code",
   "execution_count": 118,
   "metadata": {
    "_uuid": "c3948a9b206bc480b31385c29a713aa49747de19"
   },
   "outputs": [],
   "source": [
    "group = matrix.groupby(['date_block_num', 'item_category_id']).agg({'item_cnt_month': ['mean']})\n",
    "group.columns = [ 'date_cat_avg_item_cnt' ]\n",
    "group.reset_index(inplace=True)\n",
    "\n",
    "matrix = pd.merge(matrix, group, on=['date_block_num','item_category_id'], how='left')\n",
    "matrix['date_cat_avg_item_cnt'] = matrix['date_cat_avg_item_cnt'].astype(np.float16)\n",
    "matrix = lag_feature(matrix, [1], 'date_cat_avg_item_cnt')\n",
    "matrix.drop(['date_cat_avg_item_cnt'], axis=1, inplace=True)"
   ]
  },
  {
   "cell_type": "code",
   "execution_count": 119,
   "metadata": {
    "_uuid": "bf98335755692f0d7666eeac2db1961692f09a16"
   },
   "outputs": [],
   "source": [
    "group = matrix.groupby(['date_block_num', 'shop_id', 'item_category_id']).agg({'item_cnt_month': ['mean']})\n",
    "group.columns = ['date_shop_cat_avg_item_cnt']\n",
    "group.reset_index(inplace=True)\n",
    "\n",
    "matrix = pd.merge(matrix, group, on=['date_block_num', 'shop_id', 'item_category_id'], how='left')\n",
    "matrix['date_shop_cat_avg_item_cnt'] = matrix['date_shop_cat_avg_item_cnt'].astype(np.float16)\n",
    "matrix = lag_feature(matrix, [1], 'date_shop_cat_avg_item_cnt')\n",
    "matrix.drop(['date_shop_cat_avg_item_cnt'], axis=1, inplace=True)"
   ]
  },
  {
   "cell_type": "code",
   "execution_count": 120,
   "metadata": {
    "_uuid": "3959603ea684eb3cbfd17d557399caa6e9da88e4"
   },
   "outputs": [],
   "source": [
    "group = matrix.groupby(['date_block_num', 'shop_id', 'type_code']).agg({'item_cnt_month': ['mean']})\n",
    "group.columns = ['date_shop_type_avg_item_cnt']\n",
    "group.reset_index(inplace=True)\n",
    "\n",
    "matrix = pd.merge(matrix, group, on=['date_block_num', 'shop_id', 'type_code'], how='left')\n",
    "matrix['date_shop_type_avg_item_cnt'] = matrix['date_shop_type_avg_item_cnt'].astype(np.float16)\n",
    "matrix = lag_feature(matrix, [1], 'date_shop_type_avg_item_cnt')\n",
    "matrix.drop(['date_shop_type_avg_item_cnt'], axis=1, inplace=True)"
   ]
  },
  {
   "cell_type": "code",
   "execution_count": 121,
   "metadata": {
    "_uuid": "39f66d2e30f691237aa5d41ff9fc3a0eb7e9a788"
   },
   "outputs": [],
   "source": [
    "group = matrix.groupby(['date_block_num', 'shop_id', 'subtype_code']).agg({'item_cnt_month': ['mean']})\n",
    "group.columns = ['date_shop_subtype_avg_item_cnt']\n",
    "group.reset_index(inplace=True)\n",
    "\n",
    "matrix = pd.merge(matrix, group, on=['date_block_num', 'shop_id', 'subtype_code'], how='left')\n",
    "matrix['date_shop_subtype_avg_item_cnt'] = matrix['date_shop_subtype_avg_item_cnt'].astype(np.float16)\n",
    "matrix = lag_feature(matrix, [1], 'date_shop_subtype_avg_item_cnt')\n",
    "matrix.drop(['date_shop_subtype_avg_item_cnt'], axis=1, inplace=True)"
   ]
  },
  {
   "cell_type": "code",
   "execution_count": 122,
   "metadata": {
    "_uuid": "87d57d01beb0830138dabae79b4022d4c6a9cc12"
   },
   "outputs": [],
   "source": [
    "group = matrix.groupby(['date_block_num', 'city_code']).agg({'item_cnt_month': ['mean']})\n",
    "group.columns = [ 'date_city_avg_item_cnt' ]\n",
    "group.reset_index(inplace=True)\n",
    "\n",
    "matrix = pd.merge(matrix, group, on=['date_block_num', 'city_code'], how='left')\n",
    "matrix['date_city_avg_item_cnt'] = matrix['date_city_avg_item_cnt'].astype(np.float16)\n",
    "matrix = lag_feature(matrix, [1], 'date_city_avg_item_cnt')\n",
    "matrix.drop(['date_city_avg_item_cnt'], axis=1, inplace=True)"
   ]
  },
  {
   "cell_type": "code",
   "execution_count": 123,
   "metadata": {
    "_uuid": "db1f0170ec4a6fd9894bc53b36f3166d4b26abcf"
   },
   "outputs": [],
   "source": [
    "group = matrix.groupby(['date_block_num', 'item_id', 'city_code']).agg({'item_cnt_month': ['mean']})\n",
    "group.columns = [ 'date_item_city_avg_item_cnt' ]\n",
    "group.reset_index(inplace=True)\n",
    "\n",
    "matrix = pd.merge(matrix, group, on=['date_block_num', 'item_id', 'city_code'], how='left')\n",
    "matrix['date_item_city_avg_item_cnt'] = matrix['date_item_city_avg_item_cnt'].astype(np.float16)\n",
    "matrix = lag_feature(matrix, [1], 'date_item_city_avg_item_cnt')\n",
    "matrix.drop(['date_item_city_avg_item_cnt'], axis=1, inplace=True)"
   ]
  },
  {
   "cell_type": "code",
   "execution_count": 124,
   "metadata": {
    "_uuid": "3cd5232ad63357dacebe9d223cc93dd669132bb7"
   },
   "outputs": [],
   "source": [
    "group = matrix.groupby(['date_block_num', 'type_code']).agg({'item_cnt_month': ['mean']})\n",
    "group.columns = [ 'date_type_avg_item_cnt' ]\n",
    "group.reset_index(inplace=True)\n",
    "\n",
    "matrix = pd.merge(matrix, group, on=['date_block_num', 'type_code'], how='left')\n",
    "matrix['date_type_avg_item_cnt'] = matrix['date_type_avg_item_cnt'].astype(np.float16)\n",
    "matrix = lag_feature(matrix, [1], 'date_type_avg_item_cnt')\n",
    "matrix.drop(['date_type_avg_item_cnt'], axis=1, inplace=True)"
   ]
  },
  {
   "cell_type": "code",
   "execution_count": 125,
   "metadata": {
    "_uuid": "00394f3694ae9c7093176eadac7abeaa79ff5467"
   },
   "outputs": [],
   "source": [
    "group = matrix.groupby(['date_block_num', 'subtype_code']).agg({'item_cnt_month': ['mean']})\n",
    "group.columns = [ 'date_subtype_avg_item_cnt' ]\n",
    "group.reset_index(inplace=True)\n",
    "\n",
    "matrix = pd.merge(matrix, group, on=['date_block_num', 'subtype_code'], how='left')\n",
    "matrix['date_subtype_avg_item_cnt'] = matrix['date_subtype_avg_item_cnt'].astype(np.float16)\n",
    "matrix = lag_feature(matrix, [1], 'date_subtype_avg_item_cnt')\n",
    "matrix.drop(['date_subtype_avg_item_cnt'], axis=1, inplace=True)"
   ]
  },
  {
   "cell_type": "markdown",
   "metadata": {
    "_uuid": "47e06af411b7d26cd93dad3d6735e48e5fbdee50"
   },
   "source": [
    "## Generating the month feature from date_block_num : "
   ]
  },
  {
   "cell_type": "code",
   "execution_count": 126,
   "metadata": {
    "_uuid": "bb521e1f33d4124a3b90b47447bdb29150770b6e"
   },
   "outputs": [],
   "source": [
    "matrix['month'] = matrix['date_block_num'] % 12"
   ]
  },
  {
   "cell_type": "markdown",
   "metadata": {
    "_uuid": "966cb34ccfe849fbb3707d93270691cb8eef7a89"
   },
   "source": [
    "## Dropping the first 12 months because of the lag generated and filling nulls : "
   ]
  },
  {
   "cell_type": "code",
   "execution_count": 127,
   "metadata": {
    "_uuid": "04df1bc4240f409a5d4521c6f70c2ced44f7c3d4"
   },
   "outputs": [],
   "source": [
    "matrix = matrix[matrix.date_block_num > 11]\n",
    "\n",
    "def fill_na(df):\n",
    "    for col in df.columns:\n",
    "        if ('_lag_' in col) & (df[col].isnull().any()):\n",
    "            if ('item_cnt' in col):\n",
    "                df[col].fillna(0, inplace=True)         \n",
    "    return df\n",
    "\n",
    "matrix = fill_na(matrix)"
   ]
  },
  {
   "cell_type": "code",
   "execution_count": 128,
   "metadata": {
    "_uuid": "5d9988f8da8876f74092fbf827ceb6c61dd09d5e"
   },
   "outputs": [],
   "source": [
    "matrix.to_pickle('data.pkl')"
   ]
  },
  {
   "cell_type": "code",
   "execution_count": 129,
   "metadata": {
    "_uuid": "a54364495b1818e9f069efa0c53500bf9e21d5f9"
   },
   "outputs": [],
   "source": [
    "data = pd.read_pickle('data.pkl')"
   ]
  },
  {
   "cell_type": "markdown",
   "metadata": {
    "_uuid": "11eb4f2f5ada18aa8993ec55e8c63e80758fc19e"
   },
   "source": [
    "## Our test is the month 34 , our validation set are months 30,31,32,33 and our train set are remaining months"
   ]
  },
  {
   "cell_type": "code",
   "execution_count": 130,
   "metadata": {
    "_uuid": "9af76d7b80064573a453e5e10c35b76fc31c47a4"
   },
   "outputs": [],
   "source": [
    "X_train = data[data.date_block_num < 30].drop(['item_cnt_month'], axis=1)\n",
    "y_train = data[data.date_block_num < 30]['item_cnt_month']\n",
    "X_valid = data[data.date_block_num.isin([30,31,32,33])].drop(['item_cnt_month'], axis=1)\n",
    "y_valid = data[data.date_block_num.isin([30,31,32,33])]['item_cnt_month']\n",
    "X_test = data[data.date_block_num == 34].drop(['item_cnt_month'], axis=1)"
   ]
  },
  {
   "cell_type": "markdown",
   "metadata": {},
   "source": [
    "## Next for the model , I used lightgbm :"
   ]
  },
  {
   "cell_type": "code",
   "execution_count": 131,
   "metadata": {},
   "outputs": [],
   "source": [
    "import lightgbm as lgb"
   ]
  },
  {
   "cell_type": "code",
   "execution_count": 132,
   "metadata": {},
   "outputs": [],
   "source": [
    "model_lgb = lgb.LGBMRegressor(n_estimators=5000,learning_rate=0.3,random_state=0,early_stopping_rounds = 1000)"
   ]
  },
  {
   "cell_type": "code",
   "execution_count": 133,
   "metadata": {},
   "outputs": [
    {
     "name": "stderr",
     "output_type": "stream",
     "text": [
      "/opt/conda/lib/python3.6/site-packages/lightgbm/engine.py:123: UserWarning: Found `early_stopping_rounds` in params. Will use it instead of argument\n",
      "  warnings.warn(\"Found `{}` in params. Will use it instead of argument\".format(alias))\n"
     ]
    },
    {
     "name": "stdout",
     "output_type": "stream",
     "text": [
      "[1]\ttraining's l2: 1.14062\ttraining's rmse: 1.068\tvalid_1's l2: 0.960567\tvalid_1's rmse: 0.980085\n",
      "Training until validation scores don't improve for 1000 rounds.\n",
      "[2]\ttraining's l2: 0.982716\ttraining's rmse: 0.99132\tvalid_1's l2: 0.847883\tvalid_1's rmse: 0.920806\n",
      "[3]\ttraining's l2: 0.896643\ttraining's rmse: 0.946912\tvalid_1's l2: 0.787763\tvalid_1's rmse: 0.88756\n",
      "[4]\ttraining's l2: 0.847345\ttraining's rmse: 0.920513\tvalid_1's l2: 0.757798\tvalid_1's rmse: 0.870516\n",
      "[5]\ttraining's l2: 0.817784\ttraining's rmse: 0.904314\tvalid_1's l2: 0.735301\tvalid_1's rmse: 0.857497\n",
      "[6]\ttraining's l2: 0.798748\ttraining's rmse: 0.893727\tvalid_1's l2: 0.724047\tvalid_1's rmse: 0.850909\n",
      "[7]\ttraining's l2: 0.782409\ttraining's rmse: 0.884539\tvalid_1's l2: 0.71433\tvalid_1's rmse: 0.845181\n",
      "[8]\ttraining's l2: 0.772055\ttraining's rmse: 0.878667\tvalid_1's l2: 0.708212\tvalid_1's rmse: 0.841553\n",
      "[9]\ttraining's l2: 0.763781\ttraining's rmse: 0.873945\tvalid_1's l2: 0.705985\tvalid_1's rmse: 0.840229\n",
      "[10]\ttraining's l2: 0.755909\ttraining's rmse: 0.869431\tvalid_1's l2: 0.703367\tvalid_1's rmse: 0.83867\n",
      "[11]\ttraining's l2: 0.746747\ttraining's rmse: 0.864145\tvalid_1's l2: 0.715884\tvalid_1's rmse: 0.8461\n",
      "[12]\ttraining's l2: 0.741528\ttraining's rmse: 0.86112\tvalid_1's l2: 0.714006\tvalid_1's rmse: 0.844989\n",
      "[13]\ttraining's l2: 0.736825\ttraining's rmse: 0.858385\tvalid_1's l2: 0.71363\tvalid_1's rmse: 0.844766\n",
      "[14]\ttraining's l2: 0.733168\ttraining's rmse: 0.856252\tvalid_1's l2: 0.714224\tvalid_1's rmse: 0.845118\n",
      "[15]\ttraining's l2: 0.729291\ttraining's rmse: 0.853986\tvalid_1's l2: 0.713602\tvalid_1's rmse: 0.844749\n",
      "[16]\ttraining's l2: 0.725656\ttraining's rmse: 0.851854\tvalid_1's l2: 0.711987\tvalid_1's rmse: 0.843793\n",
      "[17]\ttraining's l2: 0.722385\ttraining's rmse: 0.849933\tvalid_1's l2: 0.710689\tvalid_1's rmse: 0.843023\n",
      "[18]\ttraining's l2: 0.716586\ttraining's rmse: 0.846514\tvalid_1's l2: 0.708724\tvalid_1's rmse: 0.841858\n",
      "[19]\ttraining's l2: 0.71402\ttraining's rmse: 0.844997\tvalid_1's l2: 0.70828\tvalid_1's rmse: 0.841594\n",
      "[20]\ttraining's l2: 0.711257\ttraining's rmse: 0.843361\tvalid_1's l2: 0.708074\tvalid_1's rmse: 0.841471\n",
      "[21]\ttraining's l2: 0.709494\ttraining's rmse: 0.842314\tvalid_1's l2: 0.707505\tvalid_1's rmse: 0.841133\n",
      "[22]\ttraining's l2: 0.707195\ttraining's rmse: 0.840949\tvalid_1's l2: 0.707195\tvalid_1's rmse: 0.840949\n",
      "[23]\ttraining's l2: 0.704964\ttraining's rmse: 0.839621\tvalid_1's l2: 0.706358\tvalid_1's rmse: 0.840451\n",
      "[24]\ttraining's l2: 0.702785\ttraining's rmse: 0.838323\tvalid_1's l2: 0.706054\tvalid_1's rmse: 0.84027\n",
      "[25]\ttraining's l2: 0.701115\ttraining's rmse: 0.837326\tvalid_1's l2: 0.705166\tvalid_1's rmse: 0.839742\n",
      "[26]\ttraining's l2: 0.698791\ttraining's rmse: 0.835937\tvalid_1's l2: 0.705066\tvalid_1's rmse: 0.839682\n",
      "[27]\ttraining's l2: 0.696575\ttraining's rmse: 0.83461\tvalid_1's l2: 0.704546\tvalid_1's rmse: 0.839372\n",
      "[28]\ttraining's l2: 0.694242\ttraining's rmse: 0.833212\tvalid_1's l2: 0.70473\tvalid_1's rmse: 0.839482\n",
      "[29]\ttraining's l2: 0.692695\ttraining's rmse: 0.832283\tvalid_1's l2: 0.705117\tvalid_1's rmse: 0.839712\n",
      "[30]\ttraining's l2: 0.69088\ttraining's rmse: 0.831192\tvalid_1's l2: 0.704948\tvalid_1's rmse: 0.839612\n",
      "[31]\ttraining's l2: 0.689683\ttraining's rmse: 0.830471\tvalid_1's l2: 0.704913\tvalid_1's rmse: 0.839591\n",
      "[32]\ttraining's l2: 0.688389\ttraining's rmse: 0.829692\tvalid_1's l2: 0.704139\tvalid_1's rmse: 0.83913\n",
      "[33]\ttraining's l2: 0.679209\ttraining's rmse: 0.824141\tvalid_1's l2: 0.704994\tvalid_1's rmse: 0.839639\n",
      "[34]\ttraining's l2: 0.676299\ttraining's rmse: 0.822374\tvalid_1's l2: 0.702691\tvalid_1's rmse: 0.838266\n",
      "[35]\ttraining's l2: 0.675365\ttraining's rmse: 0.821806\tvalid_1's l2: 0.703085\tvalid_1's rmse: 0.838502\n",
      "[36]\ttraining's l2: 0.672692\ttraining's rmse: 0.820178\tvalid_1's l2: 0.703015\tvalid_1's rmse: 0.83846\n",
      "[37]\ttraining's l2: 0.671224\ttraining's rmse: 0.819283\tvalid_1's l2: 0.702637\tvalid_1's rmse: 0.838234\n",
      "[38]\ttraining's l2: 0.670302\ttraining's rmse: 0.818719\tvalid_1's l2: 0.702576\tvalid_1's rmse: 0.838198\n",
      "[39]\ttraining's l2: 0.668958\ttraining's rmse: 0.817899\tvalid_1's l2: 0.702433\tvalid_1's rmse: 0.838113\n",
      "[40]\ttraining's l2: 0.668156\ttraining's rmse: 0.817408\tvalid_1's l2: 0.702329\tvalid_1's rmse: 0.83805\n",
      "[41]\ttraining's l2: 0.667054\ttraining's rmse: 0.816734\tvalid_1's l2: 0.702817\tvalid_1's rmse: 0.838342\n",
      "[42]\ttraining's l2: 0.665872\ttraining's rmse: 0.81601\tvalid_1's l2: 0.702565\tvalid_1's rmse: 0.838191\n",
      "[43]\ttraining's l2: 0.664931\ttraining's rmse: 0.815433\tvalid_1's l2: 0.702697\tvalid_1's rmse: 0.83827\n",
      "[44]\ttraining's l2: 0.663766\ttraining's rmse: 0.814718\tvalid_1's l2: 0.702662\tvalid_1's rmse: 0.838249\n",
      "[45]\ttraining's l2: 0.662935\ttraining's rmse: 0.814208\tvalid_1's l2: 0.70262\tvalid_1's rmse: 0.838224\n",
      "[46]\ttraining's l2: 0.66222\ttraining's rmse: 0.813769\tvalid_1's l2: 0.702753\tvalid_1's rmse: 0.838304\n",
      "[47]\ttraining's l2: 0.661531\ttraining's rmse: 0.813345\tvalid_1's l2: 0.702585\tvalid_1's rmse: 0.838203\n",
      "[48]\ttraining's l2: 0.659039\ttraining's rmse: 0.811812\tvalid_1's l2: 0.701085\tvalid_1's rmse: 0.837308\n",
      "[49]\ttraining's l2: 0.65826\ttraining's rmse: 0.811332\tvalid_1's l2: 0.701161\tvalid_1's rmse: 0.837353\n",
      "[50]\ttraining's l2: 0.657262\ttraining's rmse: 0.810717\tvalid_1's l2: 0.700498\tvalid_1's rmse: 0.836958\n",
      "[51]\ttraining's l2: 0.656507\ttraining's rmse: 0.810251\tvalid_1's l2: 0.700289\tvalid_1's rmse: 0.836833\n",
      "[52]\ttraining's l2: 0.654323\ttraining's rmse: 0.808902\tvalid_1's l2: 0.700511\tvalid_1's rmse: 0.836965\n",
      "[53]\ttraining's l2: 0.65357\ttraining's rmse: 0.808437\tvalid_1's l2: 0.700289\tvalid_1's rmse: 0.836833\n",
      "[54]\ttraining's l2: 0.652148\ttraining's rmse: 0.807557\tvalid_1's l2: 0.699614\tvalid_1's rmse: 0.836429\n",
      "[55]\ttraining's l2: 0.651582\ttraining's rmse: 0.807206\tvalid_1's l2: 0.699584\tvalid_1's rmse: 0.836411\n",
      "[56]\ttraining's l2: 0.650271\ttraining's rmse: 0.806394\tvalid_1's l2: 0.699509\tvalid_1's rmse: 0.836367\n",
      "[57]\ttraining's l2: 0.649392\ttraining's rmse: 0.805848\tvalid_1's l2: 0.699699\tvalid_1's rmse: 0.83648\n",
      "[58]\ttraining's l2: 0.648816\ttraining's rmse: 0.805491\tvalid_1's l2: 0.699824\tvalid_1's rmse: 0.836555\n",
      "[59]\ttraining's l2: 0.648143\ttraining's rmse: 0.805073\tvalid_1's l2: 0.699776\tvalid_1's rmse: 0.836526\n",
      "[60]\ttraining's l2: 0.647408\ttraining's rmse: 0.804617\tvalid_1's l2: 0.699655\tvalid_1's rmse: 0.836454\n",
      "[61]\ttraining's l2: 0.642881\ttraining's rmse: 0.801798\tvalid_1's l2: 0.709359\tvalid_1's rmse: 0.842235\n",
      "[62]\ttraining's l2: 0.641901\ttraining's rmse: 0.801187\tvalid_1's l2: 0.709423\tvalid_1's rmse: 0.842273\n",
      "[63]\ttraining's l2: 0.641297\ttraining's rmse: 0.80081\tvalid_1's l2: 0.709341\tvalid_1's rmse: 0.842224\n",
      "[64]\ttraining's l2: 0.640325\ttraining's rmse: 0.800203\tvalid_1's l2: 0.709325\tvalid_1's rmse: 0.842214\n",
      "[65]\ttraining's l2: 0.639581\ttraining's rmse: 0.799738\tvalid_1's l2: 0.709321\tvalid_1's rmse: 0.842212\n",
      "[66]\ttraining's l2: 0.63901\ttraining's rmse: 0.799381\tvalid_1's l2: 0.709202\tvalid_1's rmse: 0.842141\n",
      "[67]\ttraining's l2: 0.63846\ttraining's rmse: 0.799037\tvalid_1's l2: 0.709333\tvalid_1's rmse: 0.842219\n",
      "[68]\ttraining's l2: 0.637626\ttraining's rmse: 0.798515\tvalid_1's l2: 0.709165\tvalid_1's rmse: 0.842119\n",
      "[69]\ttraining's l2: 0.63617\ttraining's rmse: 0.797602\tvalid_1's l2: 0.709077\tvalid_1's rmse: 0.842067\n",
      "[70]\ttraining's l2: 0.635697\ttraining's rmse: 0.797306\tvalid_1's l2: 0.709028\tvalid_1's rmse: 0.842038\n",
      "[71]\ttraining's l2: 0.635234\ttraining's rmse: 0.797015\tvalid_1's l2: 0.709041\tvalid_1's rmse: 0.842046\n",
      "[72]\ttraining's l2: 0.634203\ttraining's rmse: 0.796369\tvalid_1's l2: 0.710006\tvalid_1's rmse: 0.842619\n",
      "[73]\ttraining's l2: 0.633689\ttraining's rmse: 0.796046\tvalid_1's l2: 0.710089\tvalid_1's rmse: 0.842668\n",
      "[74]\ttraining's l2: 0.633291\ttraining's rmse: 0.795796\tvalid_1's l2: 0.709733\tvalid_1's rmse: 0.842456\n",
      "[75]\ttraining's l2: 0.632199\ttraining's rmse: 0.795109\tvalid_1's l2: 0.709875\tvalid_1's rmse: 0.842541\n",
      "[76]\ttraining's l2: 0.631557\ttraining's rmse: 0.794706\tvalid_1's l2: 0.709924\tvalid_1's rmse: 0.84257\n",
      "[77]\ttraining's l2: 0.631203\ttraining's rmse: 0.794483\tvalid_1's l2: 0.709931\tvalid_1's rmse: 0.842574\n",
      "[78]\ttraining's l2: 0.630689\ttraining's rmse: 0.794159\tvalid_1's l2: 0.709771\tvalid_1's rmse: 0.842479\n",
      "[79]\ttraining's l2: 0.630263\ttraining's rmse: 0.793891\tvalid_1's l2: 0.709885\tvalid_1's rmse: 0.842546\n",
      "[80]\ttraining's l2: 0.629168\ttraining's rmse: 0.793201\tvalid_1's l2: 0.709883\tvalid_1's rmse: 0.842545\n",
      "[81]\ttraining's l2: 0.628475\ttraining's rmse: 0.792764\tvalid_1's l2: 0.709877\tvalid_1's rmse: 0.842542\n",
      "[82]\ttraining's l2: 0.627845\ttraining's rmse: 0.792367\tvalid_1's l2: 0.709978\tvalid_1's rmse: 0.842602\n",
      "[83]\ttraining's l2: 0.627324\ttraining's rmse: 0.792038\tvalid_1's l2: 0.709787\tvalid_1's rmse: 0.842489\n",
      "[84]\ttraining's l2: 0.626935\ttraining's rmse: 0.791793\tvalid_1's l2: 0.709805\tvalid_1's rmse: 0.842499\n",
      "[85]\ttraining's l2: 0.626529\ttraining's rmse: 0.791536\tvalid_1's l2: 0.709937\tvalid_1's rmse: 0.842577\n",
      "[86]\ttraining's l2: 0.626099\ttraining's rmse: 0.791264\tvalid_1's l2: 0.7097\tvalid_1's rmse: 0.842437\n",
      "[87]\ttraining's l2: 0.625661\ttraining's rmse: 0.790988\tvalid_1's l2: 0.709619\tvalid_1's rmse: 0.842389\n",
      "[88]\ttraining's l2: 0.625161\ttraining's rmse: 0.790671\tvalid_1's l2: 0.709816\tvalid_1's rmse: 0.842506\n",
      "[89]\ttraining's l2: 0.624488\ttraining's rmse: 0.790245\tvalid_1's l2: 0.70967\tvalid_1's rmse: 0.842419\n",
      "[90]\ttraining's l2: 0.62405\ttraining's rmse: 0.789968\tvalid_1's l2: 0.709715\tvalid_1's rmse: 0.842446\n",
      "[91]\ttraining's l2: 0.623703\ttraining's rmse: 0.789749\tvalid_1's l2: 0.709681\tvalid_1's rmse: 0.842426\n",
      "[92]\ttraining's l2: 0.623102\ttraining's rmse: 0.789368\tvalid_1's l2: 0.709775\tvalid_1's rmse: 0.842482\n",
      "[93]\ttraining's l2: 0.622634\ttraining's rmse: 0.789072\tvalid_1's l2: 0.709745\tvalid_1's rmse: 0.842464\n",
      "[94]\ttraining's l2: 0.622112\ttraining's rmse: 0.788741\tvalid_1's l2: 0.709748\tvalid_1's rmse: 0.842465\n",
      "[95]\ttraining's l2: 0.619503\ttraining's rmse: 0.787085\tvalid_1's l2: 0.708666\tvalid_1's rmse: 0.841823\n",
      "[96]\ttraining's l2: 0.619096\ttraining's rmse: 0.786827\tvalid_1's l2: 0.708726\tvalid_1's rmse: 0.841859\n",
      "[97]\ttraining's l2: 0.618658\ttraining's rmse: 0.786548\tvalid_1's l2: 0.708915\tvalid_1's rmse: 0.841971\n",
      "[98]\ttraining's l2: 0.618353\ttraining's rmse: 0.786354\tvalid_1's l2: 0.708815\tvalid_1's rmse: 0.841911\n",
      "[99]\ttraining's l2: 0.617953\ttraining's rmse: 0.7861\tvalid_1's l2: 0.709102\tvalid_1's rmse: 0.842082\n",
      "[100]\ttraining's l2: 0.617664\ttraining's rmse: 0.785916\tvalid_1's l2: 0.709006\tvalid_1's rmse: 0.842025\n",
      "[101]\ttraining's l2: 0.615718\ttraining's rmse: 0.784677\tvalid_1's l2: 0.708787\tvalid_1's rmse: 0.841895\n",
      "[102]\ttraining's l2: 0.614997\ttraining's rmse: 0.784218\tvalid_1's l2: 0.709622\tvalid_1's rmse: 0.842391\n",
      "[103]\ttraining's l2: 0.614484\ttraining's rmse: 0.783891\tvalid_1's l2: 0.709344\tvalid_1's rmse: 0.842225\n",
      "[104]\ttraining's l2: 0.614228\ttraining's rmse: 0.783727\tvalid_1's l2: 0.709315\tvalid_1's rmse: 0.842209\n",
      "[105]\ttraining's l2: 0.613702\ttraining's rmse: 0.783392\tvalid_1's l2: 0.709211\tvalid_1's rmse: 0.842146\n",
      "[106]\ttraining's l2: 0.613269\ttraining's rmse: 0.783115\tvalid_1's l2: 0.709226\tvalid_1's rmse: 0.842156\n",
      "[107]\ttraining's l2: 0.612864\ttraining's rmse: 0.782856\tvalid_1's l2: 0.709204\tvalid_1's rmse: 0.842142\n",
      "[108]\ttraining's l2: 0.612351\ttraining's rmse: 0.782528\tvalid_1's l2: 0.709176\tvalid_1's rmse: 0.842126\n",
      "[109]\ttraining's l2: 0.611998\ttraining's rmse: 0.782303\tvalid_1's l2: 0.709154\tvalid_1's rmse: 0.842113\n",
      "[110]\ttraining's l2: 0.611539\ttraining's rmse: 0.78201\tvalid_1's l2: 0.709623\tvalid_1's rmse: 0.842391\n",
      "[111]\ttraining's l2: 0.611279\ttraining's rmse: 0.781843\tvalid_1's l2: 0.709542\tvalid_1's rmse: 0.842343\n",
      "[112]\ttraining's l2: 0.610378\ttraining's rmse: 0.781267\tvalid_1's l2: 0.709519\tvalid_1's rmse: 0.84233\n",
      "[113]\ttraining's l2: 0.609616\ttraining's rmse: 0.780779\tvalid_1's l2: 0.709513\tvalid_1's rmse: 0.842326\n",
      "[114]\ttraining's l2: 0.608052\ttraining's rmse: 0.779777\tvalid_1's l2: 0.709203\tvalid_1's rmse: 0.842142\n",
      "[115]\ttraining's l2: 0.607724\ttraining's rmse: 0.779567\tvalid_1's l2: 0.709237\tvalid_1's rmse: 0.842162\n",
      "[116]\ttraining's l2: 0.607312\ttraining's rmse: 0.779302\tvalid_1's l2: 0.710016\tvalid_1's rmse: 0.842624\n",
      "[117]\ttraining's l2: 0.603444\ttraining's rmse: 0.776816\tvalid_1's l2: 0.709473\tvalid_1's rmse: 0.842302\n",
      "[118]\ttraining's l2: 0.602956\ttraining's rmse: 0.776502\tvalid_1's l2: 0.70905\tvalid_1's rmse: 0.842051\n",
      "[119]\ttraining's l2: 0.601807\ttraining's rmse: 0.775762\tvalid_1's l2: 0.709001\tvalid_1's rmse: 0.842022\n",
      "[120]\ttraining's l2: 0.601431\ttraining's rmse: 0.77552\tvalid_1's l2: 0.709096\tvalid_1's rmse: 0.842079\n",
      "[121]\ttraining's l2: 0.601054\ttraining's rmse: 0.775277\tvalid_1's l2: 0.709093\tvalid_1's rmse: 0.842077\n",
      "[122]\ttraining's l2: 0.600695\ttraining's rmse: 0.775045\tvalid_1's l2: 0.709351\tvalid_1's rmse: 0.84223\n",
      "[123]\ttraining's l2: 0.600243\ttraining's rmse: 0.774753\tvalid_1's l2: 0.70924\tvalid_1's rmse: 0.842164\n",
      "[124]\ttraining's l2: 0.598416\ttraining's rmse: 0.773573\tvalid_1's l2: 0.708902\tvalid_1's rmse: 0.841963\n",
      "[125]\ttraining's l2: 0.598065\ttraining's rmse: 0.773347\tvalid_1's l2: 0.708482\tvalid_1's rmse: 0.841714\n",
      "[126]\ttraining's l2: 0.596887\ttraining's rmse: 0.772585\tvalid_1's l2: 0.709655\tvalid_1's rmse: 0.84241\n",
      "[127]\ttraining's l2: 0.59655\ttraining's rmse: 0.772367\tvalid_1's l2: 0.709489\tvalid_1's rmse: 0.842312\n",
      "[128]\ttraining's l2: 0.596236\ttraining's rmse: 0.772163\tvalid_1's l2: 0.709552\tvalid_1's rmse: 0.842349\n",
      "[129]\ttraining's l2: 0.595862\ttraining's rmse: 0.771921\tvalid_1's l2: 0.709372\tvalid_1's rmse: 0.842242\n",
      "[130]\ttraining's l2: 0.595468\ttraining's rmse: 0.771666\tvalid_1's l2: 0.709389\tvalid_1's rmse: 0.842252\n",
      "[131]\ttraining's l2: 0.594082\ttraining's rmse: 0.770767\tvalid_1's l2: 0.709339\tvalid_1's rmse: 0.842222\n",
      "[132]\ttraining's l2: 0.593814\ttraining's rmse: 0.770593\tvalid_1's l2: 0.709367\tvalid_1's rmse: 0.842239\n",
      "[133]\ttraining's l2: 0.592742\ttraining's rmse: 0.769897\tvalid_1's l2: 0.708743\tvalid_1's rmse: 0.841869\n",
      "[134]\ttraining's l2: 0.592348\ttraining's rmse: 0.769642\tvalid_1's l2: 0.708692\tvalid_1's rmse: 0.841838\n",
      "[135]\ttraining's l2: 0.592123\ttraining's rmse: 0.769495\tvalid_1's l2: 0.708744\tvalid_1's rmse: 0.841869\n",
      "[136]\ttraining's l2: 0.591295\ttraining's rmse: 0.768957\tvalid_1's l2: 0.709315\tvalid_1's rmse: 0.842208\n",
      "[137]\ttraining's l2: 0.590998\ttraining's rmse: 0.768764\tvalid_1's l2: 0.709334\tvalid_1's rmse: 0.84222\n",
      "[138]\ttraining's l2: 0.59062\ttraining's rmse: 0.768518\tvalid_1's l2: 0.709168\tvalid_1's rmse: 0.842121\n",
      "[139]\ttraining's l2: 0.588151\ttraining's rmse: 0.76691\tvalid_1's l2: 0.712736\tvalid_1's rmse: 0.844237\n",
      "[140]\ttraining's l2: 0.587892\ttraining's rmse: 0.766741\tvalid_1's l2: 0.71271\tvalid_1's rmse: 0.844221\n",
      "[141]\ttraining's l2: 0.58651\ttraining's rmse: 0.765839\tvalid_1's l2: 0.714185\tvalid_1's rmse: 0.845094\n",
      "[142]\ttraining's l2: 0.586207\ttraining's rmse: 0.765641\tvalid_1's l2: 0.714049\tvalid_1's rmse: 0.845014\n",
      "[143]\ttraining's l2: 0.585901\ttraining's rmse: 0.765442\tvalid_1's l2: 0.714027\tvalid_1's rmse: 0.845001\n",
      "[144]\ttraining's l2: 0.585668\ttraining's rmse: 0.765289\tvalid_1's l2: 0.714178\tvalid_1's rmse: 0.845091\n",
      "[145]\ttraining's l2: 0.585406\ttraining's rmse: 0.765118\tvalid_1's l2: 0.714262\tvalid_1's rmse: 0.84514\n",
      "[146]\ttraining's l2: 0.585118\ttraining's rmse: 0.76493\tvalid_1's l2: 0.714246\tvalid_1's rmse: 0.845131\n",
      "[147]\ttraining's l2: 0.584844\ttraining's rmse: 0.764751\tvalid_1's l2: 0.714181\tvalid_1's rmse: 0.845092\n",
      "[148]\ttraining's l2: 0.584584\ttraining's rmse: 0.764581\tvalid_1's l2: 0.714173\tvalid_1's rmse: 0.845088\n",
      "[149]\ttraining's l2: 0.584195\ttraining's rmse: 0.764326\tvalid_1's l2: 0.714169\tvalid_1's rmse: 0.845085\n",
      "[150]\ttraining's l2: 0.582501\ttraining's rmse: 0.763217\tvalid_1's l2: 0.714815\tvalid_1's rmse: 0.845467\n",
      "[151]\ttraining's l2: 0.582307\ttraining's rmse: 0.76309\tvalid_1's l2: 0.71476\tvalid_1's rmse: 0.845435\n",
      "[152]\ttraining's l2: 0.58208\ttraining's rmse: 0.762942\tvalid_1's l2: 0.714731\tvalid_1's rmse: 0.845418\n",
      "[153]\ttraining's l2: 0.581838\ttraining's rmse: 0.762783\tvalid_1's l2: 0.71473\tvalid_1's rmse: 0.845417\n",
      "[154]\ttraining's l2: 0.581465\ttraining's rmse: 0.762538\tvalid_1's l2: 0.714607\tvalid_1's rmse: 0.845344\n",
      "[155]\ttraining's l2: 0.581259\ttraining's rmse: 0.762404\tvalid_1's l2: 0.714613\tvalid_1's rmse: 0.845348\n",
      "[156]\ttraining's l2: 0.58097\ttraining's rmse: 0.762214\tvalid_1's l2: 0.714781\tvalid_1's rmse: 0.845447\n",
      "[157]\ttraining's l2: 0.580755\ttraining's rmse: 0.762073\tvalid_1's l2: 0.714872\tvalid_1's rmse: 0.845501\n",
      "[158]\ttraining's l2: 0.580047\ttraining's rmse: 0.761608\tvalid_1's l2: 0.714802\tvalid_1's rmse: 0.845459\n",
      "[159]\ttraining's l2: 0.579686\ttraining's rmse: 0.761371\tvalid_1's l2: 0.714894\tvalid_1's rmse: 0.845514\n",
      "[160]\ttraining's l2: 0.579456\ttraining's rmse: 0.76122\tvalid_1's l2: 0.714785\tvalid_1's rmse: 0.84545\n",
      "[161]\ttraining's l2: 0.579211\ttraining's rmse: 0.761059\tvalid_1's l2: 0.714874\tvalid_1's rmse: 0.845502\n",
      "[162]\ttraining's l2: 0.578942\ttraining's rmse: 0.760882\tvalid_1's l2: 0.71492\tvalid_1's rmse: 0.845529\n",
      "[163]\ttraining's l2: 0.578322\ttraining's rmse: 0.760475\tvalid_1's l2: 0.715153\tvalid_1's rmse: 0.845667\n",
      "[164]\ttraining's l2: 0.578131\ttraining's rmse: 0.760349\tvalid_1's l2: 0.715174\tvalid_1's rmse: 0.84568\n",
      "[165]\ttraining's l2: 0.576103\ttraining's rmse: 0.759014\tvalid_1's l2: 0.715559\tvalid_1's rmse: 0.845907\n",
      "[166]\ttraining's l2: 0.575802\ttraining's rmse: 0.758816\tvalid_1's l2: 0.715486\tvalid_1's rmse: 0.845864\n",
      "[167]\ttraining's l2: 0.575387\ttraining's rmse: 0.758543\tvalid_1's l2: 0.715611\tvalid_1's rmse: 0.845938\n",
      "[168]\ttraining's l2: 0.575122\ttraining's rmse: 0.758368\tvalid_1's l2: 0.715599\tvalid_1's rmse: 0.845931\n",
      "[169]\ttraining's l2: 0.574888\ttraining's rmse: 0.758214\tvalid_1's l2: 0.715501\tvalid_1's rmse: 0.845873\n",
      "[170]\ttraining's l2: 0.574553\ttraining's rmse: 0.757993\tvalid_1's l2: 0.715458\tvalid_1's rmse: 0.845847\n",
      "[171]\ttraining's l2: 0.574322\ttraining's rmse: 0.75784\tvalid_1's l2: 0.715443\tvalid_1's rmse: 0.845839\n",
      "[172]\ttraining's l2: 0.5739\ttraining's rmse: 0.757562\tvalid_1's l2: 0.715434\tvalid_1's rmse: 0.845833\n",
      "[173]\ttraining's l2: 0.573237\ttraining's rmse: 0.757124\tvalid_1's l2: 0.715507\tvalid_1's rmse: 0.845876\n",
      "[174]\ttraining's l2: 0.572937\ttraining's rmse: 0.756926\tvalid_1's l2: 0.715527\tvalid_1's rmse: 0.845889\n",
      "[175]\ttraining's l2: 0.572728\ttraining's rmse: 0.756788\tvalid_1's l2: 0.715529\tvalid_1's rmse: 0.845889\n",
      "[176]\ttraining's l2: 0.572506\ttraining's rmse: 0.756641\tvalid_1's l2: 0.715563\tvalid_1's rmse: 0.84591\n",
      "[177]\ttraining's l2: 0.572345\ttraining's rmse: 0.756535\tvalid_1's l2: 0.715596\tvalid_1's rmse: 0.845929\n",
      "[178]\ttraining's l2: 0.572152\ttraining's rmse: 0.756407\tvalid_1's l2: 0.715533\tvalid_1's rmse: 0.845892\n",
      "[179]\ttraining's l2: 0.569778\ttraining's rmse: 0.754836\tvalid_1's l2: 0.716854\tvalid_1's rmse: 0.846672\n",
      "[180]\ttraining's l2: 0.569569\ttraining's rmse: 0.754698\tvalid_1's l2: 0.716881\tvalid_1's rmse: 0.846688\n",
      "[181]\ttraining's l2: 0.569342\ttraining's rmse: 0.754547\tvalid_1's l2: 0.716879\tvalid_1's rmse: 0.846687\n",
      "[182]\ttraining's l2: 0.569081\ttraining's rmse: 0.754375\tvalid_1's l2: 0.717093\tvalid_1's rmse: 0.846813\n",
      "[183]\ttraining's l2: 0.56891\ttraining's rmse: 0.754261\tvalid_1's l2: 0.717221\tvalid_1's rmse: 0.846889\n",
      "[184]\ttraining's l2: 0.56873\ttraining's rmse: 0.754142\tvalid_1's l2: 0.716967\tvalid_1's rmse: 0.846739\n",
      "[185]\ttraining's l2: 0.568165\ttraining's rmse: 0.753767\tvalid_1's l2: 0.716974\tvalid_1's rmse: 0.846743\n",
      "[186]\ttraining's l2: 0.567141\ttraining's rmse: 0.753087\tvalid_1's l2: 0.717042\tvalid_1's rmse: 0.846783\n",
      "[187]\ttraining's l2: 0.565993\ttraining's rmse: 0.752325\tvalid_1's l2: 0.716431\tvalid_1's rmse: 0.846423\n",
      "[188]\ttraining's l2: 0.565666\ttraining's rmse: 0.752108\tvalid_1's l2: 0.716418\tvalid_1's rmse: 0.846415\n",
      "[189]\ttraining's l2: 0.565417\ttraining's rmse: 0.751942\tvalid_1's l2: 0.71646\tvalid_1's rmse: 0.846439\n",
      "[190]\ttraining's l2: 0.564958\ttraining's rmse: 0.751637\tvalid_1's l2: 0.716348\tvalid_1's rmse: 0.846373\n",
      "[191]\ttraining's l2: 0.56464\ttraining's rmse: 0.751425\tvalid_1's l2: 0.71641\tvalid_1's rmse: 0.84641\n",
      "[192]\ttraining's l2: 0.564413\ttraining's rmse: 0.751274\tvalid_1's l2: 0.716398\tvalid_1's rmse: 0.846403\n",
      "[193]\ttraining's l2: 0.564166\ttraining's rmse: 0.75111\tvalid_1's l2: 0.71632\tvalid_1's rmse: 0.846357\n",
      "[194]\ttraining's l2: 0.563801\ttraining's rmse: 0.750867\tvalid_1's l2: 0.716268\tvalid_1's rmse: 0.846326\n",
      "[195]\ttraining's l2: 0.563572\ttraining's rmse: 0.750714\tvalid_1's l2: 0.716286\tvalid_1's rmse: 0.846337\n",
      "[196]\ttraining's l2: 0.563188\ttraining's rmse: 0.750458\tvalid_1's l2: 0.717064\tvalid_1's rmse: 0.846796\n",
      "[197]\ttraining's l2: 0.562907\ttraining's rmse: 0.750271\tvalid_1's l2: 0.717124\tvalid_1's rmse: 0.846832\n",
      "[198]\ttraining's l2: 0.5626\ttraining's rmse: 0.750067\tvalid_1's l2: 0.717288\tvalid_1's rmse: 0.846929\n",
      "[199]\ttraining's l2: 0.562426\ttraining's rmse: 0.749951\tvalid_1's l2: 0.71735\tvalid_1's rmse: 0.846965\n",
      "[200]\ttraining's l2: 0.562232\ttraining's rmse: 0.749821\tvalid_1's l2: 0.717458\tvalid_1's rmse: 0.847029\n",
      "[201]\ttraining's l2: 0.562038\ttraining's rmse: 0.749692\tvalid_1's l2: 0.717425\tvalid_1's rmse: 0.847009\n",
      "[202]\ttraining's l2: 0.561758\ttraining's rmse: 0.749505\tvalid_1's l2: 0.717591\tvalid_1's rmse: 0.847108\n",
      "[203]\ttraining's l2: 0.561494\ttraining's rmse: 0.749329\tvalid_1's l2: 0.717643\tvalid_1's rmse: 0.847138\n",
      "[204]\ttraining's l2: 0.561155\ttraining's rmse: 0.749103\tvalid_1's l2: 0.717567\tvalid_1's rmse: 0.847093\n",
      "[205]\ttraining's l2: 0.560946\ttraining's rmse: 0.748963\tvalid_1's l2: 0.717578\tvalid_1's rmse: 0.8471\n",
      "[206]\ttraining's l2: 0.560621\ttraining's rmse: 0.748746\tvalid_1's l2: 0.717817\tvalid_1's rmse: 0.847241\n",
      "[207]\ttraining's l2: 0.560317\ttraining's rmse: 0.748543\tvalid_1's l2: 0.717819\tvalid_1's rmse: 0.847242\n",
      "[208]\ttraining's l2: 0.560056\ttraining's rmse: 0.748369\tvalid_1's l2: 0.717815\tvalid_1's rmse: 0.84724\n",
      "[209]\ttraining's l2: 0.559837\ttraining's rmse: 0.748222\tvalid_1's l2: 0.71784\tvalid_1's rmse: 0.847255\n",
      "[210]\ttraining's l2: 0.559718\ttraining's rmse: 0.748143\tvalid_1's l2: 0.717803\tvalid_1's rmse: 0.847232\n",
      "[211]\ttraining's l2: 0.559371\ttraining's rmse: 0.747911\tvalid_1's l2: 0.718162\tvalid_1's rmse: 0.847444\n",
      "[212]\ttraining's l2: 0.559154\ttraining's rmse: 0.747766\tvalid_1's l2: 0.718014\tvalid_1's rmse: 0.847357\n",
      "[213]\ttraining's l2: 0.558936\ttraining's rmse: 0.74762\tvalid_1's l2: 0.717952\tvalid_1's rmse: 0.84732\n",
      "[214]\ttraining's l2: 0.558683\ttraining's rmse: 0.747451\tvalid_1's l2: 0.71806\tvalid_1's rmse: 0.847384\n",
      "[215]\ttraining's l2: 0.558477\ttraining's rmse: 0.747313\tvalid_1's l2: 0.718103\tvalid_1's rmse: 0.847409\n",
      "[216]\ttraining's l2: 0.558209\ttraining's rmse: 0.747134\tvalid_1's l2: 0.718195\tvalid_1's rmse: 0.847464\n",
      "[217]\ttraining's l2: 0.558007\ttraining's rmse: 0.746998\tvalid_1's l2: 0.718245\tvalid_1's rmse: 0.847494\n",
      "[218]\ttraining's l2: 0.557821\ttraining's rmse: 0.746874\tvalid_1's l2: 0.718252\tvalid_1's rmse: 0.847497\n",
      "[219]\ttraining's l2: 0.557568\ttraining's rmse: 0.746705\tvalid_1's l2: 0.718329\tvalid_1's rmse: 0.847543\n",
      "[220]\ttraining's l2: 0.557387\ttraining's rmse: 0.746584\tvalid_1's l2: 0.718363\tvalid_1's rmse: 0.847563\n",
      "[221]\ttraining's l2: 0.556685\ttraining's rmse: 0.746113\tvalid_1's l2: 0.718309\tvalid_1's rmse: 0.847531\n",
      "[222]\ttraining's l2: 0.556517\ttraining's rmse: 0.746\tvalid_1's l2: 0.718329\tvalid_1's rmse: 0.847543\n",
      "[223]\ttraining's l2: 0.556295\ttraining's rmse: 0.745852\tvalid_1's l2: 0.718401\tvalid_1's rmse: 0.847585\n",
      "[224]\ttraining's l2: 0.556092\ttraining's rmse: 0.745716\tvalid_1's l2: 0.718471\tvalid_1's rmse: 0.847627\n",
      "[225]\ttraining's l2: 0.555847\ttraining's rmse: 0.745551\tvalid_1's l2: 0.718557\tvalid_1's rmse: 0.847678\n",
      "[226]\ttraining's l2: 0.555649\ttraining's rmse: 0.745419\tvalid_1's l2: 0.7186\tvalid_1's rmse: 0.847703\n",
      "[227]\ttraining's l2: 0.555508\ttraining's rmse: 0.745324\tvalid_1's l2: 0.718626\tvalid_1's rmse: 0.847718\n",
      "[228]\ttraining's l2: 0.555257\ttraining's rmse: 0.745156\tvalid_1's l2: 0.718651\tvalid_1's rmse: 0.847733\n",
      "[229]\ttraining's l2: 0.555038\ttraining's rmse: 0.745009\tvalid_1's l2: 0.718422\tvalid_1's rmse: 0.847598\n",
      "[230]\ttraining's l2: 0.554895\ttraining's rmse: 0.744913\tvalid_1's l2: 0.71841\tvalid_1's rmse: 0.847591\n",
      "[231]\ttraining's l2: 0.554757\ttraining's rmse: 0.74482\tvalid_1's l2: 0.71842\tvalid_1's rmse: 0.847597\n",
      "[232]\ttraining's l2: 0.554553\ttraining's rmse: 0.744683\tvalid_1's l2: 0.718488\tvalid_1's rmse: 0.847636\n",
      "[233]\ttraining's l2: 0.554254\ttraining's rmse: 0.744482\tvalid_1's l2: 0.718497\tvalid_1's rmse: 0.847642\n",
      "[234]\ttraining's l2: 0.554032\ttraining's rmse: 0.744333\tvalid_1's l2: 0.718479\tvalid_1's rmse: 0.847631\n",
      "[235]\ttraining's l2: 0.553875\ttraining's rmse: 0.744228\tvalid_1's l2: 0.718478\tvalid_1's rmse: 0.847631\n",
      "[236]\ttraining's l2: 0.553518\ttraining's rmse: 0.743988\tvalid_1's l2: 0.718321\tvalid_1's rmse: 0.847538\n",
      "[237]\ttraining's l2: 0.553438\ttraining's rmse: 0.743934\tvalid_1's l2: 0.718321\tvalid_1's rmse: 0.847538\n",
      "[238]\ttraining's l2: 0.553147\ttraining's rmse: 0.743739\tvalid_1's l2: 0.718451\tvalid_1's rmse: 0.847615\n",
      "[239]\ttraining's l2: 0.552907\ttraining's rmse: 0.743577\tvalid_1's l2: 0.718437\tvalid_1's rmse: 0.847607\n",
      "[240]\ttraining's l2: 0.552668\ttraining's rmse: 0.743416\tvalid_1's l2: 0.718464\tvalid_1's rmse: 0.847623\n",
      "[241]\ttraining's l2: 0.552487\ttraining's rmse: 0.743294\tvalid_1's l2: 0.718399\tvalid_1's rmse: 0.847584\n",
      "[242]\ttraining's l2: 0.552358\ttraining's rmse: 0.743208\tvalid_1's l2: 0.718295\tvalid_1's rmse: 0.847523\n",
      "[243]\ttraining's l2: 0.55198\ttraining's rmse: 0.742954\tvalid_1's l2: 0.71854\tvalid_1's rmse: 0.847668\n",
      "[244]\ttraining's l2: 0.551767\ttraining's rmse: 0.74281\tvalid_1's l2: 0.718634\tvalid_1's rmse: 0.847723\n",
      "[245]\ttraining's l2: 0.551586\ttraining's rmse: 0.742688\tvalid_1's l2: 0.71872\tvalid_1's rmse: 0.847774\n",
      "[246]\ttraining's l2: 0.551385\ttraining's rmse: 0.742553\tvalid_1's l2: 0.71873\tvalid_1's rmse: 0.847779\n",
      "[247]\ttraining's l2: 0.55123\ttraining's rmse: 0.742449\tvalid_1's l2: 0.718751\tvalid_1's rmse: 0.847792\n",
      "[248]\ttraining's l2: 0.550871\ttraining's rmse: 0.742207\tvalid_1's l2: 0.71875\tvalid_1's rmse: 0.847791\n",
      "[249]\ttraining's l2: 0.550607\ttraining's rmse: 0.742029\tvalid_1's l2: 0.718986\tvalid_1's rmse: 0.84793\n",
      "[250]\ttraining's l2: 0.550492\ttraining's rmse: 0.741952\tvalid_1's l2: 0.719198\tvalid_1's rmse: 0.848055\n",
      "[251]\ttraining's l2: 0.550404\ttraining's rmse: 0.741892\tvalid_1's l2: 0.719198\tvalid_1's rmse: 0.848055\n",
      "[252]\ttraining's l2: 0.550247\ttraining's rmse: 0.741786\tvalid_1's l2: 0.719421\tvalid_1's rmse: 0.848187\n",
      "[253]\ttraining's l2: 0.550058\ttraining's rmse: 0.741659\tvalid_1's l2: 0.719276\tvalid_1's rmse: 0.848102\n",
      "[254]\ttraining's l2: 0.549865\ttraining's rmse: 0.741529\tvalid_1's l2: 0.719361\tvalid_1's rmse: 0.848152\n",
      "[255]\ttraining's l2: 0.549672\ttraining's rmse: 0.741399\tvalid_1's l2: 0.719337\tvalid_1's rmse: 0.848137\n",
      "[256]\ttraining's l2: 0.549482\ttraining's rmse: 0.741271\tvalid_1's l2: 0.719349\tvalid_1's rmse: 0.848145\n",
      "[257]\ttraining's l2: 0.549357\ttraining's rmse: 0.741186\tvalid_1's l2: 0.719319\tvalid_1's rmse: 0.848127\n",
      "[258]\ttraining's l2: 0.549184\ttraining's rmse: 0.74107\tvalid_1's l2: 0.719341\tvalid_1's rmse: 0.84814\n",
      "[259]\ttraining's l2: 0.549013\ttraining's rmse: 0.740954\tvalid_1's l2: 0.71933\tvalid_1's rmse: 0.848133\n",
      "[260]\ttraining's l2: 0.548886\ttraining's rmse: 0.740869\tvalid_1's l2: 0.719467\tvalid_1's rmse: 0.848214\n",
      "[261]\ttraining's l2: 0.548602\ttraining's rmse: 0.740677\tvalid_1's l2: 0.719451\tvalid_1's rmse: 0.848205\n",
      "[262]\ttraining's l2: 0.548525\ttraining's rmse: 0.740624\tvalid_1's l2: 0.719451\tvalid_1's rmse: 0.848205\n",
      "[263]\ttraining's l2: 0.548375\ttraining's rmse: 0.740523\tvalid_1's l2: 0.719199\tvalid_1's rmse: 0.848056\n",
      "[264]\ttraining's l2: 0.54825\ttraining's rmse: 0.740439\tvalid_1's l2: 0.719201\tvalid_1's rmse: 0.848057\n",
      "[265]\ttraining's l2: 0.547525\ttraining's rmse: 0.739949\tvalid_1's l2: 0.718694\tvalid_1's rmse: 0.847758\n",
      "[266]\ttraining's l2: 0.547357\ttraining's rmse: 0.739836\tvalid_1's l2: 0.718693\tvalid_1's rmse: 0.847758\n",
      "[267]\ttraining's l2: 0.546563\ttraining's rmse: 0.739299\tvalid_1's l2: 0.719483\tvalid_1's rmse: 0.848223\n",
      "[268]\ttraining's l2: 0.54587\ttraining's rmse: 0.73883\tvalid_1's l2: 0.71949\tvalid_1's rmse: 0.848228\n",
      "[269]\ttraining's l2: 0.545532\ttraining's rmse: 0.738601\tvalid_1's l2: 0.719476\tvalid_1's rmse: 0.848219\n",
      "[270]\ttraining's l2: 0.545359\ttraining's rmse: 0.738484\tvalid_1's l2: 0.719454\tvalid_1's rmse: 0.848207\n",
      "[271]\ttraining's l2: 0.545129\ttraining's rmse: 0.738329\tvalid_1's l2: 0.719371\tvalid_1's rmse: 0.848157\n",
      "[272]\ttraining's l2: 0.544977\ttraining's rmse: 0.738226\tvalid_1's l2: 0.719373\tvalid_1's rmse: 0.848159\n",
      "[273]\ttraining's l2: 0.544197\ttraining's rmse: 0.737697\tvalid_1's l2: 0.719494\tvalid_1's rmse: 0.84823\n",
      "[274]\ttraining's l2: 0.544036\ttraining's rmse: 0.737588\tvalid_1's l2: 0.719898\tvalid_1's rmse: 0.848468\n",
      "[275]\ttraining's l2: 0.543583\ttraining's rmse: 0.737281\tvalid_1's l2: 0.719894\tvalid_1's rmse: 0.848466\n",
      "[276]\ttraining's l2: 0.543111\ttraining's rmse: 0.73696\tvalid_1's l2: 0.720078\tvalid_1's rmse: 0.848574\n",
      "[277]\ttraining's l2: 0.542938\ttraining's rmse: 0.736844\tvalid_1's l2: 0.720127\tvalid_1's rmse: 0.848603\n",
      "[278]\ttraining's l2: 0.542754\ttraining's rmse: 0.736718\tvalid_1's l2: 0.720126\tvalid_1's rmse: 0.848602\n",
      "[279]\ttraining's l2: 0.542548\ttraining's rmse: 0.736578\tvalid_1's l2: 0.719911\tvalid_1's rmse: 0.848476\n",
      "[280]\ttraining's l2: 0.542351\ttraining's rmse: 0.736445\tvalid_1's l2: 0.719954\tvalid_1's rmse: 0.848501\n",
      "[281]\ttraining's l2: 0.542181\ttraining's rmse: 0.73633\tvalid_1's l2: 0.719993\tvalid_1's rmse: 0.848524\n",
      "[282]\ttraining's l2: 0.542037\ttraining's rmse: 0.736232\tvalid_1's l2: 0.719989\tvalid_1's rmse: 0.848522\n",
      "[283]\ttraining's l2: 0.54193\ttraining's rmse: 0.736159\tvalid_1's l2: 0.719936\tvalid_1's rmse: 0.848491\n",
      "[284]\ttraining's l2: 0.540549\ttraining's rmse: 0.73522\tvalid_1's l2: 0.717999\tvalid_1's rmse: 0.847348\n",
      "[285]\ttraining's l2: 0.540177\ttraining's rmse: 0.734967\tvalid_1's l2: 0.718359\tvalid_1's rmse: 0.847561\n",
      "[286]\ttraining's l2: 0.540045\ttraining's rmse: 0.734878\tvalid_1's l2: 0.719175\tvalid_1's rmse: 0.848042\n",
      "[287]\ttraining's l2: 0.539702\ttraining's rmse: 0.734644\tvalid_1's l2: 0.719249\tvalid_1's rmse: 0.848086\n",
      "[288]\ttraining's l2: 0.53838\ttraining's rmse: 0.733744\tvalid_1's l2: 0.719249\tvalid_1's rmse: 0.848086\n",
      "[289]\ttraining's l2: 0.537465\ttraining's rmse: 0.73312\tvalid_1's l2: 0.719624\tvalid_1's rmse: 0.848307\n",
      "[290]\ttraining's l2: 0.537057\ttraining's rmse: 0.732842\tvalid_1's l2: 0.719782\tvalid_1's rmse: 0.8484\n",
      "[291]\ttraining's l2: 0.53687\ttraining's rmse: 0.732714\tvalid_1's l2: 0.719809\tvalid_1's rmse: 0.848415\n",
      "[292]\ttraining's l2: 0.53648\ttraining's rmse: 0.732448\tvalid_1's l2: 0.719929\tvalid_1's rmse: 0.848486\n",
      "[293]\ttraining's l2: 0.536306\ttraining's rmse: 0.732329\tvalid_1's l2: 0.719946\tvalid_1's rmse: 0.848496\n",
      "[294]\ttraining's l2: 0.536041\ttraining's rmse: 0.732149\tvalid_1's l2: 0.719945\tvalid_1's rmse: 0.848496\n",
      "[295]\ttraining's l2: 0.535674\ttraining's rmse: 0.731897\tvalid_1's l2: 0.720932\tvalid_1's rmse: 0.849077\n",
      "[296]\ttraining's l2: 0.535381\ttraining's rmse: 0.731697\tvalid_1's l2: 0.720935\tvalid_1's rmse: 0.849079\n",
      "[297]\ttraining's l2: 0.534813\ttraining's rmse: 0.731309\tvalid_1's l2: 0.720891\tvalid_1's rmse: 0.849053\n",
      "[298]\ttraining's l2: 0.534627\ttraining's rmse: 0.731182\tvalid_1's l2: 0.720914\tvalid_1's rmse: 0.849067\n",
      "[299]\ttraining's l2: 0.534389\ttraining's rmse: 0.731019\tvalid_1's l2: 0.720882\tvalid_1's rmse: 0.849048\n",
      "[300]\ttraining's l2: 0.534224\ttraining's rmse: 0.730906\tvalid_1's l2: 0.720965\tvalid_1's rmse: 0.849096\n",
      "[301]\ttraining's l2: 0.534048\ttraining's rmse: 0.730786\tvalid_1's l2: 0.721007\tvalid_1's rmse: 0.849121\n",
      "[302]\ttraining's l2: 0.533937\ttraining's rmse: 0.73071\tvalid_1's l2: 0.721018\tvalid_1's rmse: 0.849128\n",
      "[303]\ttraining's l2: 0.5338\ttraining's rmse: 0.730616\tvalid_1's l2: 0.721004\tvalid_1's rmse: 0.84912\n",
      "[304]\ttraining's l2: 0.533626\ttraining's rmse: 0.730497\tvalid_1's l2: 0.721049\tvalid_1's rmse: 0.849146\n",
      "[305]\ttraining's l2: 0.533488\ttraining's rmse: 0.730402\tvalid_1's l2: 0.72103\tvalid_1's rmse: 0.849135\n",
      "[306]\ttraining's l2: 0.533241\ttraining's rmse: 0.730233\tvalid_1's l2: 0.721009\tvalid_1's rmse: 0.849123\n",
      "[307]\ttraining's l2: 0.533044\ttraining's rmse: 0.730099\tvalid_1's l2: 0.721128\tvalid_1's rmse: 0.849193\n",
      "[308]\ttraining's l2: 0.532873\ttraining's rmse: 0.729982\tvalid_1's l2: 0.721215\tvalid_1's rmse: 0.849244\n",
      "[309]\ttraining's l2: 0.532301\ttraining's rmse: 0.72959\tvalid_1's l2: 0.721052\tvalid_1's rmse: 0.849148\n",
      "[310]\ttraining's l2: 0.532165\ttraining's rmse: 0.729496\tvalid_1's l2: 0.721097\tvalid_1's rmse: 0.849174\n",
      "[311]\ttraining's l2: 0.531208\ttraining's rmse: 0.72884\tvalid_1's l2: 0.721047\tvalid_1's rmse: 0.849145\n",
      "[312]\ttraining's l2: 0.531063\ttraining's rmse: 0.72874\tvalid_1's l2: 0.721103\tvalid_1's rmse: 0.849178\n",
      "[313]\ttraining's l2: 0.530931\ttraining's rmse: 0.72865\tvalid_1's l2: 0.721144\tvalid_1's rmse: 0.849202\n",
      "[314]\ttraining's l2: 0.530744\ttraining's rmse: 0.728522\tvalid_1's l2: 0.72114\tvalid_1's rmse: 0.849199\n",
      "[315]\ttraining's l2: 0.53055\ttraining's rmse: 0.728388\tvalid_1's l2: 0.722147\tvalid_1's rmse: 0.849792\n",
      "[316]\ttraining's l2: 0.530377\ttraining's rmse: 0.72827\tvalid_1's l2: 0.722149\tvalid_1's rmse: 0.849794\n",
      "[317]\ttraining's l2: 0.530146\ttraining's rmse: 0.728111\tvalid_1's l2: 0.722106\tvalid_1's rmse: 0.849768\n",
      "[318]\ttraining's l2: 0.530005\ttraining's rmse: 0.728015\tvalid_1's l2: 0.722104\tvalid_1's rmse: 0.849767\n",
      "[319]\ttraining's l2: 0.529891\ttraining's rmse: 0.727936\tvalid_1's l2: 0.722098\tvalid_1's rmse: 0.849764\n",
      "[320]\ttraining's l2: 0.529838\ttraining's rmse: 0.727899\tvalid_1's l2: 0.722023\tvalid_1's rmse: 0.849719\n",
      "[321]\ttraining's l2: 0.529731\ttraining's rmse: 0.727826\tvalid_1's l2: 0.7221\tvalid_1's rmse: 0.849765\n",
      "[322]\ttraining's l2: 0.529541\ttraining's rmse: 0.727696\tvalid_1's l2: 0.7221\tvalid_1's rmse: 0.849765\n",
      "[323]\ttraining's l2: 0.529424\ttraining's rmse: 0.727616\tvalid_1's l2: 0.722105\tvalid_1's rmse: 0.849768\n",
      "[324]\ttraining's l2: 0.529156\ttraining's rmse: 0.727431\tvalid_1's l2: 0.722071\tvalid_1's rmse: 0.849748\n",
      "[325]\ttraining's l2: 0.528438\ttraining's rmse: 0.726938\tvalid_1's l2: 0.722318\tvalid_1's rmse: 0.849893\n",
      "[326]\ttraining's l2: 0.527091\ttraining's rmse: 0.72601\tvalid_1's l2: 0.7231\tvalid_1's rmse: 0.850353\n",
      "[327]\ttraining's l2: 0.526726\ttraining's rmse: 0.725759\tvalid_1's l2: 0.72359\tvalid_1's rmse: 0.850641\n",
      "[328]\ttraining's l2: 0.525558\ttraining's rmse: 0.724953\tvalid_1's l2: 0.72358\tvalid_1's rmse: 0.850635\n",
      "[329]\ttraining's l2: 0.524731\ttraining's rmse: 0.724383\tvalid_1's l2: 0.726991\tvalid_1's rmse: 0.852638\n",
      "[330]\ttraining's l2: 0.524402\ttraining's rmse: 0.724156\tvalid_1's l2: 0.726787\tvalid_1's rmse: 0.852518\n",
      "[331]\ttraining's l2: 0.524216\ttraining's rmse: 0.724028\tvalid_1's l2: 0.726783\tvalid_1's rmse: 0.852516\n",
      "[332]\ttraining's l2: 0.523746\ttraining's rmse: 0.723703\tvalid_1's l2: 0.726827\tvalid_1's rmse: 0.852542\n",
      "[333]\ttraining's l2: 0.523466\ttraining's rmse: 0.72351\tvalid_1's l2: 0.726811\tvalid_1's rmse: 0.852532\n",
      "[334]\ttraining's l2: 0.523345\ttraining's rmse: 0.723426\tvalid_1's l2: 0.726878\tvalid_1's rmse: 0.852572\n",
      "[335]\ttraining's l2: 0.523188\ttraining's rmse: 0.723317\tvalid_1's l2: 0.726894\tvalid_1's rmse: 0.852581\n",
      "[336]\ttraining's l2: 0.522856\ttraining's rmse: 0.723088\tvalid_1's l2: 0.726873\tvalid_1's rmse: 0.852568\n",
      "[337]\ttraining's l2: 0.522713\ttraining's rmse: 0.722989\tvalid_1's l2: 0.726873\tvalid_1's rmse: 0.852568\n",
      "[338]\ttraining's l2: 0.522585\ttraining's rmse: 0.7229\tvalid_1's l2: 0.726868\tvalid_1's rmse: 0.852566\n",
      "[339]\ttraining's l2: 0.521923\ttraining's rmse: 0.722442\tvalid_1's l2: 0.726864\tvalid_1's rmse: 0.852563\n",
      "[340]\ttraining's l2: 0.521773\ttraining's rmse: 0.722339\tvalid_1's l2: 0.726927\tvalid_1's rmse: 0.8526\n",
      "[341]\ttraining's l2: 0.521651\ttraining's rmse: 0.722254\tvalid_1's l2: 0.726946\tvalid_1's rmse: 0.852611\n",
      "[342]\ttraining's l2: 0.52149\ttraining's rmse: 0.722143\tvalid_1's l2: 0.726931\tvalid_1's rmse: 0.852603\n",
      "[343]\ttraining's l2: 0.521007\ttraining's rmse: 0.721808\tvalid_1's l2: 0.726934\tvalid_1's rmse: 0.852604\n",
      "[344]\ttraining's l2: 0.520801\ttraining's rmse: 0.721666\tvalid_1's l2: 0.727689\tvalid_1's rmse: 0.853047\n",
      "[345]\ttraining's l2: 0.520025\ttraining's rmse: 0.721127\tvalid_1's l2: 0.727703\tvalid_1's rmse: 0.853055\n",
      "[346]\ttraining's l2: 0.519878\ttraining's rmse: 0.721026\tvalid_1's l2: 0.727699\tvalid_1's rmse: 0.853053\n",
      "[347]\ttraining's l2: 0.51971\ttraining's rmse: 0.720909\tvalid_1's l2: 0.727736\tvalid_1's rmse: 0.853074\n",
      "[348]\ttraining's l2: 0.519529\ttraining's rmse: 0.720784\tvalid_1's l2: 0.727636\tvalid_1's rmse: 0.853016\n",
      "[349]\ttraining's l2: 0.519306\ttraining's rmse: 0.720629\tvalid_1's l2: 0.727643\tvalid_1's rmse: 0.85302\n",
      "[350]\ttraining's l2: 0.519183\ttraining's rmse: 0.720544\tvalid_1's l2: 0.727738\tvalid_1's rmse: 0.853076\n",
      "[351]\ttraining's l2: 0.519038\ttraining's rmse: 0.720443\tvalid_1's l2: 0.727789\tvalid_1's rmse: 0.853105\n",
      "[352]\ttraining's l2: 0.51889\ttraining's rmse: 0.72034\tvalid_1's l2: 0.727818\tvalid_1's rmse: 0.853123\n",
      "[353]\ttraining's l2: 0.518759\ttraining's rmse: 0.720249\tvalid_1's l2: 0.727817\tvalid_1's rmse: 0.853122\n",
      "[354]\ttraining's l2: 0.518608\ttraining's rmse: 0.720144\tvalid_1's l2: 0.727918\tvalid_1's rmse: 0.853181\n",
      "[355]\ttraining's l2: 0.518383\ttraining's rmse: 0.719988\tvalid_1's l2: 0.72792\tvalid_1's rmse: 0.853182\n",
      "[356]\ttraining's l2: 0.51772\ttraining's rmse: 0.719528\tvalid_1's l2: 0.729433\tvalid_1's rmse: 0.854068\n",
      "[357]\ttraining's l2: 0.516968\ttraining's rmse: 0.719005\tvalid_1's l2: 0.72964\tvalid_1's rmse: 0.85419\n",
      "[358]\ttraining's l2: 0.516082\ttraining's rmse: 0.718388\tvalid_1's l2: 0.730134\tvalid_1's rmse: 0.854479\n",
      "[359]\ttraining's l2: 0.515931\ttraining's rmse: 0.718283\tvalid_1's l2: 0.730232\tvalid_1's rmse: 0.854536\n",
      "[360]\ttraining's l2: 0.515815\ttraining's rmse: 0.718203\tvalid_1's l2: 0.730279\tvalid_1's rmse: 0.854563\n",
      "[361]\ttraining's l2: 0.515707\ttraining's rmse: 0.718127\tvalid_1's l2: 0.730294\tvalid_1's rmse: 0.854572\n",
      "[362]\ttraining's l2: 0.515556\ttraining's rmse: 0.718022\tvalid_1's l2: 0.730272\tvalid_1's rmse: 0.85456\n",
      "[363]\ttraining's l2: 0.51541\ttraining's rmse: 0.717921\tvalid_1's l2: 0.730277\tvalid_1's rmse: 0.854563\n",
      "[364]\ttraining's l2: 0.515243\ttraining's rmse: 0.717805\tvalid_1's l2: 0.730406\tvalid_1's rmse: 0.854638\n",
      "[365]\ttraining's l2: 0.515097\ttraining's rmse: 0.717702\tvalid_1's l2: 0.730305\tvalid_1's rmse: 0.854579\n",
      "[366]\ttraining's l2: 0.514947\ttraining's rmse: 0.717598\tvalid_1's l2: 0.730242\tvalid_1's rmse: 0.854542\n",
      "[367]\ttraining's l2: 0.514738\ttraining's rmse: 0.717452\tvalid_1's l2: 0.730281\tvalid_1's rmse: 0.854565\n",
      "[368]\ttraining's l2: 0.51462\ttraining's rmse: 0.71737\tvalid_1's l2: 0.730285\tvalid_1's rmse: 0.854567\n",
      "[369]\ttraining's l2: 0.514443\ttraining's rmse: 0.717247\tvalid_1's l2: 0.730334\tvalid_1's rmse: 0.854596\n",
      "[370]\ttraining's l2: 0.514239\ttraining's rmse: 0.717105\tvalid_1's l2: 0.730332\tvalid_1's rmse: 0.854595\n",
      "[371]\ttraining's l2: 0.514139\ttraining's rmse: 0.717035\tvalid_1's l2: 0.730368\tvalid_1's rmse: 0.854616\n",
      "[372]\ttraining's l2: 0.514001\ttraining's rmse: 0.716939\tvalid_1's l2: 0.730436\tvalid_1's rmse: 0.854655\n",
      "[373]\ttraining's l2: 0.513866\ttraining's rmse: 0.716844\tvalid_1's l2: 0.730448\tvalid_1's rmse: 0.854662\n",
      "[374]\ttraining's l2: 0.51375\ttraining's rmse: 0.716763\tvalid_1's l2: 0.730443\tvalid_1's rmse: 0.85466\n",
      "[375]\ttraining's l2: 0.513632\ttraining's rmse: 0.716681\tvalid_1's l2: 0.73047\tvalid_1's rmse: 0.854676\n",
      "[376]\ttraining's l2: 0.513477\ttraining's rmse: 0.716573\tvalid_1's l2: 0.730473\tvalid_1's rmse: 0.854677\n",
      "[377]\ttraining's l2: 0.5133\ttraining's rmse: 0.716449\tvalid_1's l2: 0.730374\tvalid_1's rmse: 0.854619\n",
      "[378]\ttraining's l2: 0.513068\ttraining's rmse: 0.716287\tvalid_1's l2: 0.730642\tvalid_1's rmse: 0.854776\n",
      "[379]\ttraining's l2: 0.512575\ttraining's rmse: 0.715943\tvalid_1's l2: 0.730348\tvalid_1's rmse: 0.854604\n",
      "[380]\ttraining's l2: 0.512044\ttraining's rmse: 0.715573\tvalid_1's l2: 0.728614\tvalid_1's rmse: 0.853589\n",
      "[381]\ttraining's l2: 0.511944\ttraining's rmse: 0.715502\tvalid_1's l2: 0.728629\tvalid_1's rmse: 0.853598\n",
      "[382]\ttraining's l2: 0.511752\ttraining's rmse: 0.715368\tvalid_1's l2: 0.728627\tvalid_1's rmse: 0.853597\n",
      "[383]\ttraining's l2: 0.511642\ttraining's rmse: 0.715292\tvalid_1's l2: 0.728637\tvalid_1's rmse: 0.853602\n",
      "[384]\ttraining's l2: 0.511522\ttraining's rmse: 0.715208\tvalid_1's l2: 0.728633\tvalid_1's rmse: 0.8536\n",
      "[385]\ttraining's l2: 0.511448\ttraining's rmse: 0.715156\tvalid_1's l2: 0.728662\tvalid_1's rmse: 0.853617\n",
      "[386]\ttraining's l2: 0.511254\ttraining's rmse: 0.71502\tvalid_1's l2: 0.728841\tvalid_1's rmse: 0.853722\n",
      "[387]\ttraining's l2: 0.510983\ttraining's rmse: 0.714831\tvalid_1's l2: 0.728853\tvalid_1's rmse: 0.853729\n",
      "[388]\ttraining's l2: 0.510783\ttraining's rmse: 0.714691\tvalid_1's l2: 0.728901\tvalid_1's rmse: 0.853757\n",
      "[389]\ttraining's l2: 0.510165\ttraining's rmse: 0.714259\tvalid_1's l2: 0.72763\tvalid_1's rmse: 0.853012\n",
      "[390]\ttraining's l2: 0.509936\ttraining's rmse: 0.714098\tvalid_1's l2: 0.728339\tvalid_1's rmse: 0.853428\n",
      "[391]\ttraining's l2: 0.509716\ttraining's rmse: 0.713944\tvalid_1's l2: 0.728385\tvalid_1's rmse: 0.853455\n",
      "[392]\ttraining's l2: 0.509541\ttraining's rmse: 0.713821\tvalid_1's l2: 0.728555\tvalid_1's rmse: 0.853554\n",
      "[393]\ttraining's l2: 0.50941\ttraining's rmse: 0.71373\tvalid_1's l2: 0.728536\tvalid_1's rmse: 0.853543\n",
      "[394]\ttraining's l2: 0.509115\ttraining's rmse: 0.713523\tvalid_1's l2: 0.728587\tvalid_1's rmse: 0.853573\n",
      "[395]\ttraining's l2: 0.508898\ttraining's rmse: 0.713371\tvalid_1's l2: 0.728416\tvalid_1's rmse: 0.853473\n",
      "[396]\ttraining's l2: 0.508663\ttraining's rmse: 0.713206\tvalid_1's l2: 0.728415\tvalid_1's rmse: 0.853472\n",
      "[397]\ttraining's l2: 0.508505\ttraining's rmse: 0.713096\tvalid_1's l2: 0.728699\tvalid_1's rmse: 0.853639\n",
      "[398]\ttraining's l2: 0.508095\ttraining's rmse: 0.712808\tvalid_1's l2: 0.728761\tvalid_1's rmse: 0.853675\n",
      "[399]\ttraining's l2: 0.507947\ttraining's rmse: 0.712704\tvalid_1's l2: 0.728779\tvalid_1's rmse: 0.853686\n",
      "[400]\ttraining's l2: 0.507207\ttraining's rmse: 0.712184\tvalid_1's l2: 0.728649\tvalid_1's rmse: 0.853609\n",
      "[401]\ttraining's l2: 0.507028\ttraining's rmse: 0.712059\tvalid_1's l2: 0.728702\tvalid_1's rmse: 0.853641\n",
      "[402]\ttraining's l2: 0.506911\ttraining's rmse: 0.711977\tvalid_1's l2: 0.728712\tvalid_1's rmse: 0.853646\n",
      "[403]\ttraining's l2: 0.506759\ttraining's rmse: 0.71187\tvalid_1's l2: 0.728822\tvalid_1's rmse: 0.853711\n",
      "[404]\ttraining's l2: 0.50663\ttraining's rmse: 0.71178\tvalid_1's l2: 0.728929\tvalid_1's rmse: 0.853774\n",
      "[405]\ttraining's l2: 0.506551\ttraining's rmse: 0.711724\tvalid_1's l2: 0.728919\tvalid_1's rmse: 0.853767\n",
      "[406]\ttraining's l2: 0.50631\ttraining's rmse: 0.711555\tvalid_1's l2: 0.728961\tvalid_1's rmse: 0.853792\n",
      "[407]\ttraining's l2: 0.506202\ttraining's rmse: 0.711479\tvalid_1's l2: 0.728941\tvalid_1's rmse: 0.853781\n",
      "[408]\ttraining's l2: 0.505787\ttraining's rmse: 0.711187\tvalid_1's l2: 0.728941\tvalid_1's rmse: 0.85378\n",
      "[409]\ttraining's l2: 0.505645\ttraining's rmse: 0.711087\tvalid_1's l2: 0.728907\tvalid_1's rmse: 0.85376\n",
      "[410]\ttraining's l2: 0.505542\ttraining's rmse: 0.711015\tvalid_1's l2: 0.728901\tvalid_1's rmse: 0.853757\n",
      "[411]\ttraining's l2: 0.505254\ttraining's rmse: 0.710813\tvalid_1's l2: 0.728814\tvalid_1's rmse: 0.853706\n",
      "[412]\ttraining's l2: 0.504962\ttraining's rmse: 0.710607\tvalid_1's l2: 0.728916\tvalid_1's rmse: 0.853766\n",
      "[413]\ttraining's l2: 0.504784\ttraining's rmse: 0.710482\tvalid_1's l2: 0.728981\tvalid_1's rmse: 0.853804\n",
      "[414]\ttraining's l2: 0.504598\ttraining's rmse: 0.710351\tvalid_1's l2: 0.729014\tvalid_1's rmse: 0.853823\n",
      "[415]\ttraining's l2: 0.503717\ttraining's rmse: 0.709731\tvalid_1's l2: 0.729786\tvalid_1's rmse: 0.854275\n",
      "[416]\ttraining's l2: 0.503577\ttraining's rmse: 0.709631\tvalid_1's l2: 0.729818\tvalid_1's rmse: 0.854294\n",
      "[417]\ttraining's l2: 0.503448\ttraining's rmse: 0.709541\tvalid_1's l2: 0.729779\tvalid_1's rmse: 0.854271\n",
      "[418]\ttraining's l2: 0.503344\ttraining's rmse: 0.709467\tvalid_1's l2: 0.72968\tvalid_1's rmse: 0.854213\n",
      "[419]\ttraining's l2: 0.503217\ttraining's rmse: 0.709378\tvalid_1's l2: 0.72996\tvalid_1's rmse: 0.854377\n",
      "[420]\ttraining's l2: 0.5031\ttraining's rmse: 0.709296\tvalid_1's l2: 0.729941\tvalid_1's rmse: 0.854366\n",
      "[421]\ttraining's l2: 0.503021\ttraining's rmse: 0.70924\tvalid_1's l2: 0.729933\tvalid_1's rmse: 0.854361\n",
      "[422]\ttraining's l2: 0.502845\ttraining's rmse: 0.709116\tvalid_1's l2: 0.72996\tvalid_1's rmse: 0.854377\n",
      "[423]\ttraining's l2: 0.502753\ttraining's rmse: 0.709051\tvalid_1's l2: 0.729952\tvalid_1's rmse: 0.854372\n",
      "[424]\ttraining's l2: 0.502533\ttraining's rmse: 0.708895\tvalid_1's l2: 0.730068\tvalid_1's rmse: 0.85444\n",
      "[425]\ttraining's l2: 0.502367\ttraining's rmse: 0.708779\tvalid_1's l2: 0.730053\tvalid_1's rmse: 0.854431\n",
      "[426]\ttraining's l2: 0.502007\ttraining's rmse: 0.708525\tvalid_1's l2: 0.729956\tvalid_1's rmse: 0.854375\n",
      "[427]\ttraining's l2: 0.501876\ttraining's rmse: 0.708432\tvalid_1's l2: 0.73002\tvalid_1's rmse: 0.854412\n",
      "[428]\ttraining's l2: 0.50182\ttraining's rmse: 0.708392\tvalid_1's l2: 0.73002\tvalid_1's rmse: 0.854412\n",
      "[429]\ttraining's l2: 0.501619\ttraining's rmse: 0.70825\tvalid_1's l2: 0.731054\tvalid_1's rmse: 0.855017\n",
      "[430]\ttraining's l2: 0.501468\ttraining's rmse: 0.708144\tvalid_1's l2: 0.731083\tvalid_1's rmse: 0.855034\n",
      "[431]\ttraining's l2: 0.50131\ttraining's rmse: 0.708033\tvalid_1's l2: 0.731083\tvalid_1's rmse: 0.855034\n",
      "[432]\ttraining's l2: 0.501179\ttraining's rmse: 0.70794\tvalid_1's l2: 0.73108\tvalid_1's rmse: 0.855032\n",
      "[433]\ttraining's l2: 0.500941\ttraining's rmse: 0.707772\tvalid_1's l2: 0.73128\tvalid_1's rmse: 0.855149\n",
      "[434]\ttraining's l2: 0.500816\ttraining's rmse: 0.707684\tvalid_1's l2: 0.731204\tvalid_1's rmse: 0.855104\n",
      "[435]\ttraining's l2: 0.50065\ttraining's rmse: 0.707566\tvalid_1's l2: 0.73112\tvalid_1's rmse: 0.855055\n",
      "[436]\ttraining's l2: 0.500508\ttraining's rmse: 0.707466\tvalid_1's l2: 0.731145\tvalid_1's rmse: 0.85507\n",
      "[437]\ttraining's l2: 0.500399\ttraining's rmse: 0.707389\tvalid_1's l2: 0.731135\tvalid_1's rmse: 0.855064\n",
      "[438]\ttraining's l2: 0.500205\ttraining's rmse: 0.707252\tvalid_1's l2: 0.731478\tvalid_1's rmse: 0.855265\n",
      "[439]\ttraining's l2: 0.500102\ttraining's rmse: 0.707179\tvalid_1's l2: 0.731423\tvalid_1's rmse: 0.855233\n",
      "[440]\ttraining's l2: 0.499967\ttraining's rmse: 0.707083\tvalid_1's l2: 0.731377\tvalid_1's rmse: 0.855206\n",
      "[441]\ttraining's l2: 0.499843\ttraining's rmse: 0.706996\tvalid_1's l2: 0.731412\tvalid_1's rmse: 0.855226\n",
      "[442]\ttraining's l2: 0.49972\ttraining's rmse: 0.706909\tvalid_1's l2: 0.731405\tvalid_1's rmse: 0.855222\n",
      "[443]\ttraining's l2: 0.499614\ttraining's rmse: 0.706834\tvalid_1's l2: 0.731434\tvalid_1's rmse: 0.855239\n",
      "[444]\ttraining's l2: 0.499528\ttraining's rmse: 0.706773\tvalid_1's l2: 0.73151\tvalid_1's rmse: 0.855283\n",
      "[445]\ttraining's l2: 0.499326\ttraining's rmse: 0.70663\tvalid_1's l2: 0.731496\tvalid_1's rmse: 0.855276\n",
      "[446]\ttraining's l2: 0.499205\ttraining's rmse: 0.706544\tvalid_1's l2: 0.731495\tvalid_1's rmse: 0.855275\n",
      "[447]\ttraining's l2: 0.498751\ttraining's rmse: 0.706223\tvalid_1's l2: 0.731256\tvalid_1's rmse: 0.855135\n",
      "[448]\ttraining's l2: 0.498616\ttraining's rmse: 0.706127\tvalid_1's l2: 0.731381\tvalid_1's rmse: 0.855208\n",
      "[449]\ttraining's l2: 0.498504\ttraining's rmse: 0.706048\tvalid_1's l2: 0.731348\tvalid_1's rmse: 0.855189\n",
      "[450]\ttraining's l2: 0.498303\ttraining's rmse: 0.705906\tvalid_1's l2: 0.731346\tvalid_1's rmse: 0.855188\n",
      "[451]\ttraining's l2: 0.49817\ttraining's rmse: 0.705811\tvalid_1's l2: 0.731347\tvalid_1's rmse: 0.855188\n",
      "[452]\ttraining's l2: 0.49805\ttraining's rmse: 0.705727\tvalid_1's l2: 0.731417\tvalid_1's rmse: 0.855229\n",
      "[453]\ttraining's l2: 0.49794\ttraining's rmse: 0.705649\tvalid_1's l2: 0.731378\tvalid_1's rmse: 0.855207\n",
      "[454]\ttraining's l2: 0.497822\ttraining's rmse: 0.705565\tvalid_1's l2: 0.731324\tvalid_1's rmse: 0.855175\n",
      "[455]\ttraining's l2: 0.497679\ttraining's rmse: 0.705464\tvalid_1's l2: 0.731597\tvalid_1's rmse: 0.855334\n",
      "[456]\ttraining's l2: 0.497572\ttraining's rmse: 0.705388\tvalid_1's l2: 0.731557\tvalid_1's rmse: 0.855311\n",
      "[457]\ttraining's l2: 0.497108\ttraining's rmse: 0.705059\tvalid_1's l2: 0.731747\tvalid_1's rmse: 0.855422\n",
      "[458]\ttraining's l2: 0.497005\ttraining's rmse: 0.704986\tvalid_1's l2: 0.731819\tvalid_1's rmse: 0.855464\n",
      "[459]\ttraining's l2: 0.496776\ttraining's rmse: 0.704824\tvalid_1's l2: 0.731796\tvalid_1's rmse: 0.855451\n",
      "[460]\ttraining's l2: 0.496704\ttraining's rmse: 0.704772\tvalid_1's l2: 0.731813\tvalid_1's rmse: 0.85546\n",
      "[461]\ttraining's l2: 0.496623\ttraining's rmse: 0.704715\tvalid_1's l2: 0.731851\tvalid_1's rmse: 0.855483\n",
      "[462]\ttraining's l2: 0.496524\ttraining's rmse: 0.704645\tvalid_1's l2: 0.731887\tvalid_1's rmse: 0.855504\n",
      "[463]\ttraining's l2: 0.496396\ttraining's rmse: 0.704553\tvalid_1's l2: 0.731869\tvalid_1's rmse: 0.855493\n",
      "[464]\ttraining's l2: 0.496252\ttraining's rmse: 0.704452\tvalid_1's l2: 0.731802\tvalid_1's rmse: 0.855454\n",
      "[465]\ttraining's l2: 0.496146\ttraining's rmse: 0.704377\tvalid_1's l2: 0.731832\tvalid_1's rmse: 0.855472\n",
      "[466]\ttraining's l2: 0.496105\ttraining's rmse: 0.704347\tvalid_1's l2: 0.731832\tvalid_1's rmse: 0.855472\n",
      "[467]\ttraining's l2: 0.495949\ttraining's rmse: 0.704237\tvalid_1's l2: 0.731833\tvalid_1's rmse: 0.855473\n",
      "[468]\ttraining's l2: 0.495798\ttraining's rmse: 0.70413\tvalid_1's l2: 0.731904\tvalid_1's rmse: 0.855514\n",
      "[469]\ttraining's l2: 0.495608\ttraining's rmse: 0.703994\tvalid_1's l2: 0.731902\tvalid_1's rmse: 0.855513\n",
      "[470]\ttraining's l2: 0.49554\ttraining's rmse: 0.703946\tvalid_1's l2: 0.731959\tvalid_1's rmse: 0.855546\n",
      "[471]\ttraining's l2: 0.495385\ttraining's rmse: 0.703836\tvalid_1's l2: 0.731898\tvalid_1's rmse: 0.85551\n",
      "[472]\ttraining's l2: 0.495274\ttraining's rmse: 0.703757\tvalid_1's l2: 0.731849\tvalid_1's rmse: 0.855482\n",
      "[473]\ttraining's l2: 0.495154\ttraining's rmse: 0.703672\tvalid_1's l2: 0.731798\tvalid_1's rmse: 0.855452\n",
      "[474]\ttraining's l2: 0.495014\ttraining's rmse: 0.703573\tvalid_1's l2: 0.731798\tvalid_1's rmse: 0.855452\n",
      "[475]\ttraining's l2: 0.494917\ttraining's rmse: 0.703504\tvalid_1's l2: 0.731797\tvalid_1's rmse: 0.855452\n",
      "[476]\ttraining's l2: 0.494662\ttraining's rmse: 0.703322\tvalid_1's l2: 0.731756\tvalid_1's rmse: 0.855427\n",
      "[477]\ttraining's l2: 0.494301\ttraining's rmse: 0.703065\tvalid_1's l2: 0.731763\tvalid_1's rmse: 0.855432\n",
      "[478]\ttraining's l2: 0.493935\ttraining's rmse: 0.702805\tvalid_1's l2: 0.731596\tvalid_1's rmse: 0.855334\n",
      "[479]\ttraining's l2: 0.493766\ttraining's rmse: 0.702685\tvalid_1's l2: 0.731441\tvalid_1's rmse: 0.855243\n",
      "[480]\ttraining's l2: 0.493644\ttraining's rmse: 0.702598\tvalid_1's l2: 0.731404\tvalid_1's rmse: 0.855222\n",
      "[481]\ttraining's l2: 0.493507\ttraining's rmse: 0.702501\tvalid_1's l2: 0.731371\tvalid_1's rmse: 0.855202\n",
      "[482]\ttraining's l2: 0.493284\ttraining's rmse: 0.702342\tvalid_1's l2: 0.731402\tvalid_1's rmse: 0.85522\n",
      "[483]\ttraining's l2: 0.493138\ttraining's rmse: 0.702238\tvalid_1's l2: 0.731339\tvalid_1's rmse: 0.855184\n",
      "[484]\ttraining's l2: 0.493048\ttraining's rmse: 0.702173\tvalid_1's l2: 0.731345\tvalid_1's rmse: 0.855187\n",
      "[485]\ttraining's l2: 0.492941\ttraining's rmse: 0.702098\tvalid_1's l2: 0.73135\tvalid_1's rmse: 0.85519\n",
      "[486]\ttraining's l2: 0.492869\ttraining's rmse: 0.702046\tvalid_1's l2: 0.731421\tvalid_1's rmse: 0.855231\n",
      "[487]\ttraining's l2: 0.492773\ttraining's rmse: 0.701978\tvalid_1's l2: 0.731425\tvalid_1's rmse: 0.855234\n",
      "[488]\ttraining's l2: 0.492688\ttraining's rmse: 0.701917\tvalid_1's l2: 0.731418\tvalid_1's rmse: 0.85523\n",
      "[489]\ttraining's l2: 0.492557\ttraining's rmse: 0.701824\tvalid_1's l2: 0.731453\tvalid_1's rmse: 0.85525\n",
      "[490]\ttraining's l2: 0.492343\ttraining's rmse: 0.701671\tvalid_1's l2: 0.731455\tvalid_1's rmse: 0.855251\n",
      "[491]\ttraining's l2: 0.492236\ttraining's rmse: 0.701595\tvalid_1's l2: 0.731472\tvalid_1's rmse: 0.855261\n",
      "[492]\ttraining's l2: 0.492143\ttraining's rmse: 0.701529\tvalid_1's l2: 0.731557\tvalid_1's rmse: 0.855311\n",
      "[493]\ttraining's l2: 0.492062\ttraining's rmse: 0.701471\tvalid_1's l2: 0.731572\tvalid_1's rmse: 0.85532\n",
      "[494]\ttraining's l2: 0.49197\ttraining's rmse: 0.701406\tvalid_1's l2: 0.731563\tvalid_1's rmse: 0.855314\n",
      "[495]\ttraining's l2: 0.491911\ttraining's rmse: 0.701363\tvalid_1's l2: 0.731563\tvalid_1's rmse: 0.855314\n",
      "[496]\ttraining's l2: 0.491373\ttraining's rmse: 0.70098\tvalid_1's l2: 0.731558\tvalid_1's rmse: 0.855312\n",
      "[497]\ttraining's l2: 0.491236\ttraining's rmse: 0.700883\tvalid_1's l2: 0.731816\tvalid_1's rmse: 0.855462\n",
      "[498]\ttraining's l2: 0.491163\ttraining's rmse: 0.70083\tvalid_1's l2: 0.7318\tvalid_1's rmse: 0.855453\n",
      "[499]\ttraining's l2: 0.49108\ttraining's rmse: 0.700771\tvalid_1's l2: 0.731683\tvalid_1's rmse: 0.855384\n",
      "[500]\ttraining's l2: 0.490981\ttraining's rmse: 0.7007\tvalid_1's l2: 0.731721\tvalid_1's rmse: 0.855407\n",
      "[501]\ttraining's l2: 0.490871\ttraining's rmse: 0.700622\tvalid_1's l2: 0.731804\tvalid_1's rmse: 0.855456\n",
      "[502]\ttraining's l2: 0.490779\ttraining's rmse: 0.700556\tvalid_1's l2: 0.731846\tvalid_1's rmse: 0.85548\n",
      "[503]\ttraining's l2: 0.490671\ttraining's rmse: 0.700479\tvalid_1's l2: 0.73183\tvalid_1's rmse: 0.85547\n",
      "[504]\ttraining's l2: 0.490575\ttraining's rmse: 0.700411\tvalid_1's l2: 0.731822\tvalid_1's rmse: 0.855466\n",
      "[505]\ttraining's l2: 0.490486\ttraining's rmse: 0.700347\tvalid_1's l2: 0.731818\tvalid_1's rmse: 0.855463\n",
      "[506]\ttraining's l2: 0.490328\ttraining's rmse: 0.700234\tvalid_1's l2: 0.731833\tvalid_1's rmse: 0.855472\n",
      "[507]\ttraining's l2: 0.490114\ttraining's rmse: 0.700081\tvalid_1's l2: 0.731873\tvalid_1's rmse: 0.855496\n",
      "[508]\ttraining's l2: 0.490034\ttraining's rmse: 0.700024\tvalid_1's l2: 0.731834\tvalid_1's rmse: 0.855473\n",
      "[509]\ttraining's l2: 0.489921\ttraining's rmse: 0.699944\tvalid_1's l2: 0.731784\tvalid_1's rmse: 0.855444\n",
      "[510]\ttraining's l2: 0.489822\ttraining's rmse: 0.699873\tvalid_1's l2: 0.731881\tvalid_1's rmse: 0.855501\n",
      "[511]\ttraining's l2: 0.489738\ttraining's rmse: 0.699813\tvalid_1's l2: 0.731723\tvalid_1's rmse: 0.855408\n",
      "[512]\ttraining's l2: 0.489614\ttraining's rmse: 0.699724\tvalid_1's l2: 0.731691\tvalid_1's rmse: 0.85539\n",
      "[513]\ttraining's l2: 0.489336\ttraining's rmse: 0.699525\tvalid_1's l2: 0.731691\tvalid_1's rmse: 0.855389\n",
      "[514]\ttraining's l2: 0.488962\ttraining's rmse: 0.699258\tvalid_1's l2: 0.731603\tvalid_1's rmse: 0.855338\n",
      "[515]\ttraining's l2: 0.488164\ttraining's rmse: 0.698688\tvalid_1's l2: 0.731985\tvalid_1's rmse: 0.855561\n",
      "[516]\ttraining's l2: 0.488033\ttraining's rmse: 0.698593\tvalid_1's l2: 0.732038\tvalid_1's rmse: 0.855592\n",
      "[517]\ttraining's l2: 0.487916\ttraining's rmse: 0.69851\tvalid_1's l2: 0.732082\tvalid_1's rmse: 0.855618\n",
      "[518]\ttraining's l2: 0.487811\ttraining's rmse: 0.698434\tvalid_1's l2: 0.732131\tvalid_1's rmse: 0.855647\n",
      "[519]\ttraining's l2: 0.487721\ttraining's rmse: 0.69837\tvalid_1's l2: 0.732132\tvalid_1's rmse: 0.855647\n",
      "[520]\ttraining's l2: 0.487508\ttraining's rmse: 0.698218\tvalid_1's l2: 0.732148\tvalid_1's rmse: 0.855656\n",
      "[521]\ttraining's l2: 0.487403\ttraining's rmse: 0.698142\tvalid_1's l2: 0.732099\tvalid_1's rmse: 0.855628\n",
      "[522]\ttraining's l2: 0.487294\ttraining's rmse: 0.698064\tvalid_1's l2: 0.732087\tvalid_1's rmse: 0.855621\n",
      "[523]\ttraining's l2: 0.487178\ttraining's rmse: 0.697981\tvalid_1's l2: 0.732094\tvalid_1's rmse: 0.855625\n",
      "[524]\ttraining's l2: 0.487078\ttraining's rmse: 0.697909\tvalid_1's l2: 0.732104\tvalid_1's rmse: 0.855631\n",
      "[525]\ttraining's l2: 0.486966\ttraining's rmse: 0.69783\tvalid_1's l2: 0.732184\tvalid_1's rmse: 0.855677\n",
      "[526]\ttraining's l2: 0.486856\ttraining's rmse: 0.69775\tvalid_1's l2: 0.732177\tvalid_1's rmse: 0.855673\n",
      "[527]\ttraining's l2: 0.486782\ttraining's rmse: 0.697698\tvalid_1's l2: 0.73221\tvalid_1's rmse: 0.855693\n",
      "[528]\ttraining's l2: 0.486694\ttraining's rmse: 0.697635\tvalid_1's l2: 0.732308\tvalid_1's rmse: 0.85575\n",
      "[529]\ttraining's l2: 0.486613\ttraining's rmse: 0.697577\tvalid_1's l2: 0.73232\tvalid_1's rmse: 0.855757\n",
      "[530]\ttraining's l2: 0.48651\ttraining's rmse: 0.697503\tvalid_1's l2: 0.73232\tvalid_1's rmse: 0.855757\n",
      "[531]\ttraining's l2: 0.486385\ttraining's rmse: 0.697413\tvalid_1's l2: 0.732321\tvalid_1's rmse: 0.855758\n",
      "[532]\ttraining's l2: 0.48624\ttraining's rmse: 0.697309\tvalid_1's l2: 0.732323\tvalid_1's rmse: 0.855758\n",
      "[533]\ttraining's l2: 0.486113\ttraining's rmse: 0.697218\tvalid_1's l2: 0.732371\tvalid_1's rmse: 0.855787\n",
      "[534]\ttraining's l2: 0.486004\ttraining's rmse: 0.69714\tvalid_1's l2: 0.73226\tvalid_1's rmse: 0.855722\n",
      "[535]\ttraining's l2: 0.485834\ttraining's rmse: 0.697018\tvalid_1's l2: 0.732251\tvalid_1's rmse: 0.855716\n",
      "[536]\ttraining's l2: 0.48574\ttraining's rmse: 0.696951\tvalid_1's l2: 0.732279\tvalid_1's rmse: 0.855733\n",
      "[537]\ttraining's l2: 0.485643\ttraining's rmse: 0.696881\tvalid_1's l2: 0.732282\tvalid_1's rmse: 0.855735\n",
      "[538]\ttraining's l2: 0.48556\ttraining's rmse: 0.696821\tvalid_1's l2: 0.732301\tvalid_1's rmse: 0.855746\n",
      "[539]\ttraining's l2: 0.485459\ttraining's rmse: 0.696749\tvalid_1's l2: 0.732403\tvalid_1's rmse: 0.855805\n",
      "[540]\ttraining's l2: 0.485387\ttraining's rmse: 0.696697\tvalid_1's l2: 0.732432\tvalid_1's rmse: 0.855823\n",
      "[541]\ttraining's l2: 0.485343\ttraining's rmse: 0.696666\tvalid_1's l2: 0.732432\tvalid_1's rmse: 0.855823\n",
      "[542]\ttraining's l2: 0.485267\ttraining's rmse: 0.696611\tvalid_1's l2: 0.732418\tvalid_1's rmse: 0.855814\n",
      "[543]\ttraining's l2: 0.485202\ttraining's rmse: 0.696564\tvalid_1's l2: 0.732418\tvalid_1's rmse: 0.855814\n",
      "[544]\ttraining's l2: 0.485106\ttraining's rmse: 0.696496\tvalid_1's l2: 0.732453\tvalid_1's rmse: 0.855834\n",
      "[545]\ttraining's l2: 0.48449\ttraining's rmse: 0.696053\tvalid_1's l2: 0.732429\tvalid_1's rmse: 0.855821\n",
      "[546]\ttraining's l2: 0.484429\ttraining's rmse: 0.696009\tvalid_1's l2: 0.732423\tvalid_1's rmse: 0.855817\n",
      "[547]\ttraining's l2: 0.484332\ttraining's rmse: 0.69594\tvalid_1's l2: 0.7324\tvalid_1's rmse: 0.855804\n",
      "[548]\ttraining's l2: 0.484268\ttraining's rmse: 0.695894\tvalid_1's l2: 0.732394\tvalid_1's rmse: 0.8558\n",
      "[549]\ttraining's l2: 0.484137\ttraining's rmse: 0.6958\tvalid_1's l2: 0.732436\tvalid_1's rmse: 0.855825\n",
      "[550]\ttraining's l2: 0.484037\ttraining's rmse: 0.695728\tvalid_1's l2: 0.732418\tvalid_1's rmse: 0.855814\n",
      "[551]\ttraining's l2: 0.483339\ttraining's rmse: 0.695226\tvalid_1's l2: 0.732972\tvalid_1's rmse: 0.856138\n",
      "[552]\ttraining's l2: 0.483096\ttraining's rmse: 0.695051\tvalid_1's l2: 0.732968\tvalid_1's rmse: 0.856135\n",
      "[553]\ttraining's l2: 0.482984\ttraining's rmse: 0.69497\tvalid_1's l2: 0.732929\tvalid_1's rmse: 0.856113\n",
      "[554]\ttraining's l2: 0.482874\ttraining's rmse: 0.694892\tvalid_1's l2: 0.733106\tvalid_1's rmse: 0.856216\n",
      "[555]\ttraining's l2: 0.482528\ttraining's rmse: 0.694643\tvalid_1's l2: 0.73386\tvalid_1's rmse: 0.856656\n",
      "[556]\ttraining's l2: 0.482438\ttraining's rmse: 0.694578\tvalid_1's l2: 0.733797\tvalid_1's rmse: 0.856619\n",
      "[557]\ttraining's l2: 0.48237\ttraining's rmse: 0.694528\tvalid_1's l2: 0.733797\tvalid_1's rmse: 0.85662\n",
      "[558]\ttraining's l2: 0.482312\ttraining's rmse: 0.694487\tvalid_1's l2: 0.733808\tvalid_1's rmse: 0.856626\n",
      "[559]\ttraining's l2: 0.482209\ttraining's rmse: 0.694413\tvalid_1's l2: 0.733913\tvalid_1's rmse: 0.856687\n",
      "[560]\ttraining's l2: 0.482077\ttraining's rmse: 0.694318\tvalid_1's l2: 0.733927\tvalid_1's rmse: 0.856695\n",
      "[561]\ttraining's l2: 0.481968\ttraining's rmse: 0.694239\tvalid_1's l2: 0.733899\tvalid_1's rmse: 0.856679\n",
      "[562]\ttraining's l2: 0.481906\ttraining's rmse: 0.694195\tvalid_1's l2: 0.733899\tvalid_1's rmse: 0.856679\n",
      "[563]\ttraining's l2: 0.481835\ttraining's rmse: 0.694143\tvalid_1's l2: 0.7339\tvalid_1's rmse: 0.856679\n",
      "[564]\ttraining's l2: 0.481545\ttraining's rmse: 0.693934\tvalid_1's l2: 0.733896\tvalid_1's rmse: 0.856677\n",
      "[565]\ttraining's l2: 0.481382\ttraining's rmse: 0.693817\tvalid_1's l2: 0.734319\tvalid_1's rmse: 0.856924\n",
      "[566]\ttraining's l2: 0.48126\ttraining's rmse: 0.693729\tvalid_1's l2: 0.734349\tvalid_1's rmse: 0.856942\n",
      "[567]\ttraining's l2: 0.48119\ttraining's rmse: 0.693678\tvalid_1's l2: 0.734365\tvalid_1's rmse: 0.856951\n",
      "[568]\ttraining's l2: 0.481085\ttraining's rmse: 0.693603\tvalid_1's l2: 0.734339\tvalid_1's rmse: 0.856936\n",
      "[569]\ttraining's l2: 0.481014\ttraining's rmse: 0.693552\tvalid_1's l2: 0.734402\tvalid_1's rmse: 0.856973\n",
      "[570]\ttraining's l2: 0.48092\ttraining's rmse: 0.693484\tvalid_1's l2: 0.734413\tvalid_1's rmse: 0.856979\n",
      "[571]\ttraining's l2: 0.480752\ttraining's rmse: 0.693363\tvalid_1's l2: 0.734599\tvalid_1's rmse: 0.857087\n",
      "[572]\ttraining's l2: 0.480687\ttraining's rmse: 0.693316\tvalid_1's l2: 0.734594\tvalid_1's rmse: 0.857085\n",
      "[573]\ttraining's l2: 0.480623\ttraining's rmse: 0.69327\tvalid_1's l2: 0.734589\tvalid_1's rmse: 0.857082\n",
      "[574]\ttraining's l2: 0.480489\ttraining's rmse: 0.693173\tvalid_1's l2: 0.734448\tvalid_1's rmse: 0.857\n",
      "[575]\ttraining's l2: 0.480372\ttraining's rmse: 0.693089\tvalid_1's l2: 0.734455\tvalid_1's rmse: 0.857004\n",
      "[576]\ttraining's l2: 0.48027\ttraining's rmse: 0.693015\tvalid_1's l2: 0.734441\tvalid_1's rmse: 0.856996\n",
      "[577]\ttraining's l2: 0.480197\ttraining's rmse: 0.692962\tvalid_1's l2: 0.734447\tvalid_1's rmse: 0.856999\n",
      "[578]\ttraining's l2: 0.480084\ttraining's rmse: 0.692881\tvalid_1's l2: 0.734455\tvalid_1's rmse: 0.857004\n",
      "[579]\ttraining's l2: 0.480056\ttraining's rmse: 0.692861\tvalid_1's l2: 0.734455\tvalid_1's rmse: 0.857004\n",
      "[580]\ttraining's l2: 0.480014\ttraining's rmse: 0.692831\tvalid_1's l2: 0.734455\tvalid_1's rmse: 0.857004\n",
      "[581]\ttraining's l2: 0.479924\ttraining's rmse: 0.692766\tvalid_1's l2: 0.734429\tvalid_1's rmse: 0.856989\n",
      "[582]\ttraining's l2: 0.479865\ttraining's rmse: 0.692723\tvalid_1's l2: 0.734478\tvalid_1's rmse: 0.857017\n",
      "[583]\ttraining's l2: 0.479766\ttraining's rmse: 0.692651\tvalid_1's l2: 0.734476\tvalid_1's rmse: 0.857016\n",
      "[584]\ttraining's l2: 0.479676\ttraining's rmse: 0.692586\tvalid_1's l2: 0.734635\tvalid_1's rmse: 0.857109\n",
      "[585]\ttraining's l2: 0.47956\ttraining's rmse: 0.692502\tvalid_1's l2: 0.734674\tvalid_1's rmse: 0.857131\n",
      "[586]\ttraining's l2: 0.479451\ttraining's rmse: 0.692424\tvalid_1's l2: 0.734591\tvalid_1's rmse: 0.857083\n",
      "[587]\ttraining's l2: 0.479337\ttraining's rmse: 0.692342\tvalid_1's l2: 0.734498\tvalid_1's rmse: 0.857028\n",
      "[588]\ttraining's l2: 0.479218\ttraining's rmse: 0.692256\tvalid_1's l2: 0.734349\tvalid_1's rmse: 0.856942\n",
      "[589]\ttraining's l2: 0.479084\ttraining's rmse: 0.692159\tvalid_1's l2: 0.734373\tvalid_1's rmse: 0.856956\n",
      "[590]\ttraining's l2: 0.478977\ttraining's rmse: 0.692082\tvalid_1's l2: 0.734335\tvalid_1's rmse: 0.856934\n",
      "[591]\ttraining's l2: 0.478898\ttraining's rmse: 0.692025\tvalid_1's l2: 0.734351\tvalid_1's rmse: 0.856943\n",
      "[592]\ttraining's l2: 0.478825\ttraining's rmse: 0.691972\tvalid_1's l2: 0.734355\tvalid_1's rmse: 0.856945\n",
      "[593]\ttraining's l2: 0.478766\ttraining's rmse: 0.691929\tvalid_1's l2: 0.734374\tvalid_1's rmse: 0.856956\n",
      "[594]\ttraining's l2: 0.478638\ttraining's rmse: 0.691837\tvalid_1's l2: 0.734399\tvalid_1's rmse: 0.856971\n",
      "[595]\ttraining's l2: 0.478556\ttraining's rmse: 0.691778\tvalid_1's l2: 0.73447\tvalid_1's rmse: 0.857012\n",
      "[596]\ttraining's l2: 0.478301\ttraining's rmse: 0.691593\tvalid_1's l2: 0.734388\tvalid_1's rmse: 0.856964\n",
      "[597]\ttraining's l2: 0.478164\ttraining's rmse: 0.691494\tvalid_1's l2: 0.734385\tvalid_1's rmse: 0.856963\n",
      "[598]\ttraining's l2: 0.478071\ttraining's rmse: 0.691427\tvalid_1's l2: 0.734394\tvalid_1's rmse: 0.856968\n",
      "[599]\ttraining's l2: 0.477975\ttraining's rmse: 0.691358\tvalid_1's l2: 0.734447\tvalid_1's rmse: 0.856999\n",
      "[600]\ttraining's l2: 0.477841\ttraining's rmse: 0.691261\tvalid_1's l2: 0.734452\tvalid_1's rmse: 0.857002\n",
      "[601]\ttraining's l2: 0.47772\ttraining's rmse: 0.691173\tvalid_1's l2: 0.734452\tvalid_1's rmse: 0.857002\n",
      "[602]\ttraining's l2: 0.477194\ttraining's rmse: 0.690792\tvalid_1's l2: 0.734452\tvalid_1's rmse: 0.857002\n",
      "[603]\ttraining's l2: 0.4769\ttraining's rmse: 0.69058\tvalid_1's l2: 0.734492\tvalid_1's rmse: 0.857025\n",
      "[604]\ttraining's l2: 0.47664\ttraining's rmse: 0.690391\tvalid_1's l2: 0.734634\tvalid_1's rmse: 0.857108\n",
      "[605]\ttraining's l2: 0.476577\ttraining's rmse: 0.690345\tvalid_1's l2: 0.734599\tvalid_1's rmse: 0.857087\n",
      "[606]\ttraining's l2: 0.476421\ttraining's rmse: 0.690233\tvalid_1's l2: 0.734617\tvalid_1's rmse: 0.857098\n",
      "[607]\ttraining's l2: 0.476324\ttraining's rmse: 0.690162\tvalid_1's l2: 0.734675\tvalid_1's rmse: 0.857132\n",
      "[608]\ttraining's l2: 0.476198\ttraining's rmse: 0.690071\tvalid_1's l2: 0.734676\tvalid_1's rmse: 0.857133\n",
      "[609]\ttraining's l2: 0.476104\ttraining's rmse: 0.690003\tvalid_1's l2: 0.73466\tvalid_1's rmse: 0.857123\n",
      "[610]\ttraining's l2: 0.476007\ttraining's rmse: 0.689933\tvalid_1's l2: 0.734687\tvalid_1's rmse: 0.857139\n",
      "[611]\ttraining's l2: 0.475896\ttraining's rmse: 0.689852\tvalid_1's l2: 0.734695\tvalid_1's rmse: 0.857143\n",
      "[612]\ttraining's l2: 0.475611\ttraining's rmse: 0.689646\tvalid_1's l2: 0.734901\tvalid_1's rmse: 0.857264\n",
      "[613]\ttraining's l2: 0.47552\ttraining's rmse: 0.68958\tvalid_1's l2: 0.734855\tvalid_1's rmse: 0.857237\n",
      "[614]\ttraining's l2: 0.475432\ttraining's rmse: 0.689516\tvalid_1's l2: 0.734912\tvalid_1's rmse: 0.85727\n",
      "[615]\ttraining's l2: 0.47534\ttraining's rmse: 0.689449\tvalid_1's l2: 0.734908\tvalid_1's rmse: 0.857268\n",
      "[616]\ttraining's l2: 0.475256\ttraining's rmse: 0.689388\tvalid_1's l2: 0.73492\tvalid_1's rmse: 0.857275\n",
      "[617]\ttraining's l2: 0.475192\ttraining's rmse: 0.689342\tvalid_1's l2: 0.734914\tvalid_1's rmse: 0.857271\n",
      "[618]\ttraining's l2: 0.475145\ttraining's rmse: 0.689308\tvalid_1's l2: 0.734914\tvalid_1's rmse: 0.857271\n",
      "[619]\ttraining's l2: 0.47504\ttraining's rmse: 0.689231\tvalid_1's l2: 0.734834\tvalid_1's rmse: 0.857224\n",
      "[620]\ttraining's l2: 0.474935\ttraining's rmse: 0.689155\tvalid_1's l2: 0.734837\tvalid_1's rmse: 0.857226\n",
      "[621]\ttraining's l2: 0.474754\ttraining's rmse: 0.689024\tvalid_1's l2: 0.734852\tvalid_1's rmse: 0.857235\n",
      "[622]\ttraining's l2: 0.474686\ttraining's rmse: 0.688974\tvalid_1's l2: 0.734834\tvalid_1's rmse: 0.857225\n",
      "[623]\ttraining's l2: 0.474596\ttraining's rmse: 0.688909\tvalid_1's l2: 0.73477\tvalid_1's rmse: 0.857188\n",
      "[624]\ttraining's l2: 0.47453\ttraining's rmse: 0.688861\tvalid_1's l2: 0.734753\tvalid_1's rmse: 0.857178\n",
      "[625]\ttraining's l2: 0.474442\ttraining's rmse: 0.688798\tvalid_1's l2: 0.734764\tvalid_1's rmse: 0.857184\n",
      "[626]\ttraining's l2: 0.474343\ttraining's rmse: 0.688726\tvalid_1's l2: 0.734766\tvalid_1's rmse: 0.857185\n",
      "[627]\ttraining's l2: 0.474247\ttraining's rmse: 0.688656\tvalid_1's l2: 0.73484\tvalid_1's rmse: 0.857228\n",
      "[628]\ttraining's l2: 0.47414\ttraining's rmse: 0.688578\tvalid_1's l2: 0.734822\tvalid_1's rmse: 0.857217\n",
      "[629]\ttraining's l2: 0.473952\ttraining's rmse: 0.688442\tvalid_1's l2: 0.734911\tvalid_1's rmse: 0.85727\n",
      "[630]\ttraining's l2: 0.47384\ttraining's rmse: 0.68836\tvalid_1's l2: 0.734949\tvalid_1's rmse: 0.857292\n",
      "[631]\ttraining's l2: 0.473726\ttraining's rmse: 0.688277\tvalid_1's l2: 0.73495\tvalid_1's rmse: 0.857292\n",
      "[632]\ttraining's l2: 0.473652\ttraining's rmse: 0.688224\tvalid_1's l2: 0.735137\tvalid_1's rmse: 0.857401\n",
      "[633]\ttraining's l2: 0.473579\ttraining's rmse: 0.688171\tvalid_1's l2: 0.735119\tvalid_1's rmse: 0.857391\n",
      "[634]\ttraining's l2: 0.473453\ttraining's rmse: 0.688079\tvalid_1's l2: 0.735102\tvalid_1's rmse: 0.857381\n",
      "[635]\ttraining's l2: 0.473368\ttraining's rmse: 0.688017\tvalid_1's l2: 0.735089\tvalid_1's rmse: 0.857374\n",
      "[636]\ttraining's l2: 0.473278\ttraining's rmse: 0.687952\tvalid_1's l2: 0.735127\tvalid_1's rmse: 0.857395\n",
      "[637]\ttraining's l2: 0.473166\ttraining's rmse: 0.687871\tvalid_1's l2: 0.735045\tvalid_1's rmse: 0.857348\n",
      "[638]\ttraining's l2: 0.473057\ttraining's rmse: 0.687792\tvalid_1's l2: 0.735062\tvalid_1's rmse: 0.857358\n",
      "[639]\ttraining's l2: 0.472983\ttraining's rmse: 0.687738\tvalid_1's l2: 0.735067\tvalid_1's rmse: 0.85736\n",
      "[640]\ttraining's l2: 0.472861\ttraining's rmse: 0.687649\tvalid_1's l2: 0.735052\tvalid_1's rmse: 0.857352\n",
      "[641]\ttraining's l2: 0.472696\ttraining's rmse: 0.687529\tvalid_1's l2: 0.735376\tvalid_1's rmse: 0.857541\n",
      "[642]\ttraining's l2: 0.472621\ttraining's rmse: 0.687475\tvalid_1's l2: 0.735373\tvalid_1's rmse: 0.857539\n",
      "[643]\ttraining's l2: 0.47254\ttraining's rmse: 0.687415\tvalid_1's l2: 0.73536\tvalid_1's rmse: 0.857531\n",
      "[644]\ttraining's l2: 0.472471\ttraining's rmse: 0.687365\tvalid_1's l2: 0.735378\tvalid_1's rmse: 0.857542\n",
      "[645]\ttraining's l2: 0.472379\ttraining's rmse: 0.687299\tvalid_1's l2: 0.735337\tvalid_1's rmse: 0.857518\n",
      "[646]\ttraining's l2: 0.472274\ttraining's rmse: 0.687222\tvalid_1's l2: 0.735337\tvalid_1's rmse: 0.857518\n",
      "[647]\ttraining's l2: 0.472211\ttraining's rmse: 0.687176\tvalid_1's l2: 0.735447\tvalid_1's rmse: 0.857582\n",
      "[648]\ttraining's l2: 0.472116\ttraining's rmse: 0.687107\tvalid_1's l2: 0.735444\tvalid_1's rmse: 0.857581\n",
      "[649]\ttraining's l2: 0.472044\ttraining's rmse: 0.687055\tvalid_1's l2: 0.73538\tvalid_1's rmse: 0.857543\n",
      "[650]\ttraining's l2: 0.471962\ttraining's rmse: 0.686995\tvalid_1's l2: 0.735277\tvalid_1's rmse: 0.857483\n",
      "[651]\ttraining's l2: 0.471898\ttraining's rmse: 0.686948\tvalid_1's l2: 0.735266\tvalid_1's rmse: 0.857477\n",
      "[652]\ttraining's l2: 0.471557\ttraining's rmse: 0.6867\tvalid_1's l2: 0.735802\tvalid_1's rmse: 0.857789\n",
      "[653]\ttraining's l2: 0.471404\ttraining's rmse: 0.686588\tvalid_1's l2: 0.737306\tvalid_1's rmse: 0.858665\n",
      "[654]\ttraining's l2: 0.470934\ttraining's rmse: 0.686246\tvalid_1's l2: 0.736534\tvalid_1's rmse: 0.858216\n",
      "[655]\ttraining's l2: 0.470844\ttraining's rmse: 0.686181\tvalid_1's l2: 0.736501\tvalid_1's rmse: 0.858196\n",
      "[656]\ttraining's l2: 0.470722\ttraining's rmse: 0.686092\tvalid_1's l2: 0.736585\tvalid_1's rmse: 0.858245\n",
      "[657]\ttraining's l2: 0.470639\ttraining's rmse: 0.686032\tvalid_1's l2: 0.736607\tvalid_1's rmse: 0.858258\n",
      "[658]\ttraining's l2: 0.470245\ttraining's rmse: 0.685744\tvalid_1's l2: 0.736725\tvalid_1's rmse: 0.858327\n",
      "[659]\ttraining's l2: 0.469729\ttraining's rmse: 0.685368\tvalid_1's l2: 0.736799\tvalid_1's rmse: 0.85837\n",
      "[660]\ttraining's l2: 0.469657\ttraining's rmse: 0.685315\tvalid_1's l2: 0.736799\tvalid_1's rmse: 0.85837\n",
      "[661]\ttraining's l2: 0.469582\ttraining's rmse: 0.685261\tvalid_1's l2: 0.736859\tvalid_1's rmse: 0.858405\n",
      "[662]\ttraining's l2: 0.469481\ttraining's rmse: 0.685187\tvalid_1's l2: 0.736771\tvalid_1's rmse: 0.858354\n",
      "[663]\ttraining's l2: 0.469415\ttraining's rmse: 0.685139\tvalid_1's l2: 0.73677\tvalid_1's rmse: 0.858353\n",
      "[664]\ttraining's l2: 0.469329\ttraining's rmse: 0.685076\tvalid_1's l2: 0.736869\tvalid_1's rmse: 0.858411\n",
      "[665]\ttraining's l2: 0.469254\ttraining's rmse: 0.685021\tvalid_1's l2: 0.737022\tvalid_1's rmse: 0.8585\n",
      "[666]\ttraining's l2: 0.468927\ttraining's rmse: 0.684782\tvalid_1's l2: 0.737021\tvalid_1's rmse: 0.858499\n",
      "[667]\ttraining's l2: 0.468614\ttraining's rmse: 0.684554\tvalid_1's l2: 0.73699\tvalid_1's rmse: 0.858481\n",
      "[668]\ttraining's l2: 0.468478\ttraining's rmse: 0.684455\tvalid_1's l2: 0.736947\tvalid_1's rmse: 0.858456\n",
      "[669]\ttraining's l2: 0.468163\ttraining's rmse: 0.684225\tvalid_1's l2: 0.736847\tvalid_1's rmse: 0.858398\n",
      "[670]\ttraining's l2: 0.467885\ttraining's rmse: 0.684021\tvalid_1's l2: 0.73712\tvalid_1's rmse: 0.858557\n",
      "[671]\ttraining's l2: 0.467786\ttraining's rmse: 0.683949\tvalid_1's l2: 0.737103\tvalid_1's rmse: 0.858547\n",
      "[672]\ttraining's l2: 0.46769\ttraining's rmse: 0.683879\tvalid_1's l2: 0.737055\tvalid_1's rmse: 0.858519\n",
      "[673]\ttraining's l2: 0.46758\ttraining's rmse: 0.683798\tvalid_1's l2: 0.737019\tvalid_1's rmse: 0.858498\n",
      "[674]\ttraining's l2: 0.467484\ttraining's rmse: 0.683728\tvalid_1's l2: 0.736904\tvalid_1's rmse: 0.858431\n",
      "[675]\ttraining's l2: 0.467355\ttraining's rmse: 0.683634\tvalid_1's l2: 0.736906\tvalid_1's rmse: 0.858432\n",
      "[676]\ttraining's l2: 0.467264\ttraining's rmse: 0.683567\tvalid_1's l2: 0.736903\tvalid_1's rmse: 0.85843\n",
      "[677]\ttraining's l2: 0.467112\ttraining's rmse: 0.683456\tvalid_1's l2: 0.7368\tvalid_1's rmse: 0.858371\n",
      "[678]\ttraining's l2: 0.467039\ttraining's rmse: 0.683403\tvalid_1's l2: 0.736848\tvalid_1's rmse: 0.858398\n",
      "[679]\ttraining's l2: 0.466966\ttraining's rmse: 0.683349\tvalid_1's l2: 0.736893\tvalid_1's rmse: 0.858425\n",
      "[680]\ttraining's l2: 0.46689\ttraining's rmse: 0.683294\tvalid_1's l2: 0.736901\tvalid_1's rmse: 0.858429\n",
      "[681]\ttraining's l2: 0.466804\ttraining's rmse: 0.683231\tvalid_1's l2: 0.736852\tvalid_1's rmse: 0.858401\n",
      "[682]\ttraining's l2: 0.466715\ttraining's rmse: 0.683165\tvalid_1's l2: 0.736851\tvalid_1's rmse: 0.8584\n",
      "[683]\ttraining's l2: 0.466648\ttraining's rmse: 0.683117\tvalid_1's l2: 0.736902\tvalid_1's rmse: 0.85843\n",
      "[684]\ttraining's l2: 0.46656\ttraining's rmse: 0.683052\tvalid_1's l2: 0.736829\tvalid_1's rmse: 0.858387\n",
      "[685]\ttraining's l2: 0.466485\ttraining's rmse: 0.682997\tvalid_1's l2: 0.736809\tvalid_1's rmse: 0.858376\n",
      "[686]\ttraining's l2: 0.466395\ttraining's rmse: 0.682931\tvalid_1's l2: 0.736852\tvalid_1's rmse: 0.858401\n",
      "[687]\ttraining's l2: 0.466313\ttraining's rmse: 0.682871\tvalid_1's l2: 0.736871\tvalid_1's rmse: 0.858412\n",
      "[688]\ttraining's l2: 0.466189\ttraining's rmse: 0.68278\tvalid_1's l2: 0.736811\tvalid_1's rmse: 0.858377\n",
      "[689]\ttraining's l2: 0.466105\ttraining's rmse: 0.682719\tvalid_1's l2: 0.73681\tvalid_1's rmse: 0.858376\n",
      "[690]\ttraining's l2: 0.466026\ttraining's rmse: 0.682661\tvalid_1's l2: 0.736671\tvalid_1's rmse: 0.858295\n",
      "[691]\ttraining's l2: 0.465944\ttraining's rmse: 0.682601\tvalid_1's l2: 0.736746\tvalid_1's rmse: 0.858339\n",
      "[692]\ttraining's l2: 0.465845\ttraining's rmse: 0.682529\tvalid_1's l2: 0.73674\tvalid_1's rmse: 0.858336\n",
      "[693]\ttraining's l2: 0.465781\ttraining's rmse: 0.682481\tvalid_1's l2: 0.736773\tvalid_1's rmse: 0.858355\n",
      "[694]\ttraining's l2: 0.465708\ttraining's rmse: 0.682428\tvalid_1's l2: 0.736792\tvalid_1's rmse: 0.858366\n",
      "[695]\ttraining's l2: 0.465619\ttraining's rmse: 0.682363\tvalid_1's l2: 0.736771\tvalid_1's rmse: 0.858354\n",
      "[696]\ttraining's l2: 0.465554\ttraining's rmse: 0.682315\tvalid_1's l2: 0.736769\tvalid_1's rmse: 0.858352\n",
      "[697]\ttraining's l2: 0.465457\ttraining's rmse: 0.682244\tvalid_1's l2: 0.736779\tvalid_1's rmse: 0.858358\n",
      "[698]\ttraining's l2: 0.465383\ttraining's rmse: 0.68219\tvalid_1's l2: 0.736689\tvalid_1's rmse: 0.858306\n",
      "[699]\ttraining's l2: 0.465296\ttraining's rmse: 0.682126\tvalid_1's l2: 0.736721\tvalid_1's rmse: 0.858324\n",
      "[700]\ttraining's l2: 0.465071\ttraining's rmse: 0.681961\tvalid_1's l2: 0.737\tvalid_1's rmse: 0.858487\n",
      "[701]\ttraining's l2: 0.464925\ttraining's rmse: 0.681854\tvalid_1's l2: 0.737019\tvalid_1's rmse: 0.858498\n",
      "[702]\ttraining's l2: 0.464817\ttraining's rmse: 0.681775\tvalid_1's l2: 0.736951\tvalid_1's rmse: 0.858459\n",
      "[703]\ttraining's l2: 0.464752\ttraining's rmse: 0.681728\tvalid_1's l2: 0.736972\tvalid_1's rmse: 0.858471\n",
      "[704]\ttraining's l2: 0.464671\ttraining's rmse: 0.681668\tvalid_1's l2: 0.736871\tvalid_1's rmse: 0.858412\n",
      "[705]\ttraining's l2: 0.464312\ttraining's rmse: 0.681404\tvalid_1's l2: 0.737145\tvalid_1's rmse: 0.858571\n",
      "[706]\ttraining's l2: 0.464245\ttraining's rmse: 0.681355\tvalid_1's l2: 0.73715\tvalid_1's rmse: 0.858574\n",
      "[707]\ttraining's l2: 0.464177\ttraining's rmse: 0.681306\tvalid_1's l2: 0.73716\tvalid_1's rmse: 0.85858\n",
      "[708]\ttraining's l2: 0.464033\ttraining's rmse: 0.6812\tvalid_1's l2: 0.736927\tvalid_1's rmse: 0.858445\n",
      "[709]\ttraining's l2: 0.463939\ttraining's rmse: 0.681131\tvalid_1's l2: 0.736938\tvalid_1's rmse: 0.858451\n",
      "[710]\ttraining's l2: 0.463866\ttraining's rmse: 0.681077\tvalid_1's l2: 0.736937\tvalid_1's rmse: 0.85845\n",
      "[711]\ttraining's l2: 0.463791\ttraining's rmse: 0.681022\tvalid_1's l2: 0.736929\tvalid_1's rmse: 0.858446\n",
      "[712]\ttraining's l2: 0.463691\ttraining's rmse: 0.680948\tvalid_1's l2: 0.737499\tvalid_1's rmse: 0.858778\n",
      "[713]\ttraining's l2: 0.463604\ttraining's rmse: 0.680885\tvalid_1's l2: 0.73744\tvalid_1's rmse: 0.858743\n",
      "[714]\ttraining's l2: 0.463514\ttraining's rmse: 0.680819\tvalid_1's l2: 0.737487\tvalid_1's rmse: 0.858771\n",
      "[715]\ttraining's l2: 0.463423\ttraining's rmse: 0.680752\tvalid_1's l2: 0.737553\tvalid_1's rmse: 0.858809\n",
      "[716]\ttraining's l2: 0.463355\ttraining's rmse: 0.680702\tvalid_1's l2: 0.73758\tvalid_1's rmse: 0.858825\n",
      "[717]\ttraining's l2: 0.463295\ttraining's rmse: 0.680658\tvalid_1's l2: 0.737708\tvalid_1's rmse: 0.858899\n",
      "[718]\ttraining's l2: 0.463228\ttraining's rmse: 0.680609\tvalid_1's l2: 0.737712\tvalid_1's rmse: 0.858901\n",
      "[719]\ttraining's l2: 0.463111\ttraining's rmse: 0.680523\tvalid_1's l2: 0.737718\tvalid_1's rmse: 0.858905\n",
      "[720]\ttraining's l2: 0.462974\ttraining's rmse: 0.680422\tvalid_1's l2: 0.737733\tvalid_1's rmse: 0.858914\n",
      "[721]\ttraining's l2: 0.462386\ttraining's rmse: 0.67999\tvalid_1's l2: 0.737435\tvalid_1's rmse: 0.858741\n",
      "[722]\ttraining's l2: 0.462275\ttraining's rmse: 0.679908\tvalid_1's l2: 0.737433\tvalid_1's rmse: 0.858739\n",
      "[723]\ttraining's l2: 0.462201\ttraining's rmse: 0.679853\tvalid_1's l2: 0.737455\tvalid_1's rmse: 0.858752\n",
      "[724]\ttraining's l2: 0.462091\ttraining's rmse: 0.679772\tvalid_1's l2: 0.737478\tvalid_1's rmse: 0.858765\n",
      "[725]\ttraining's l2: 0.462023\ttraining's rmse: 0.679723\tvalid_1's l2: 0.73748\tvalid_1's rmse: 0.858767\n",
      "[726]\ttraining's l2: 0.461895\ttraining's rmse: 0.679629\tvalid_1's l2: 0.737986\tvalid_1's rmse: 0.859061\n",
      "[727]\ttraining's l2: 0.461739\ttraining's rmse: 0.679514\tvalid_1's l2: 0.740885\tvalid_1's rmse: 0.860747\n",
      "[728]\ttraining's l2: 0.461646\ttraining's rmse: 0.679445\tvalid_1's l2: 0.740882\tvalid_1's rmse: 0.860745\n",
      "[729]\ttraining's l2: 0.461074\ttraining's rmse: 0.679024\tvalid_1's l2: 0.740883\tvalid_1's rmse: 0.860746\n",
      "[730]\ttraining's l2: 0.460916\ttraining's rmse: 0.678908\tvalid_1's l2: 0.740899\tvalid_1's rmse: 0.860755\n",
      "[731]\ttraining's l2: 0.460831\ttraining's rmse: 0.678845\tvalid_1's l2: 0.740916\tvalid_1's rmse: 0.860765\n",
      "[732]\ttraining's l2: 0.460762\ttraining's rmse: 0.678795\tvalid_1's l2: 0.740656\tvalid_1's rmse: 0.860614\n",
      "[733]\ttraining's l2: 0.460658\ttraining's rmse: 0.678718\tvalid_1's l2: 0.740644\tvalid_1's rmse: 0.860607\n",
      "[734]\ttraining's l2: 0.460604\ttraining's rmse: 0.678678\tvalid_1's l2: 0.740607\tvalid_1's rmse: 0.860585\n",
      "[735]\ttraining's l2: 0.460546\ttraining's rmse: 0.678635\tvalid_1's l2: 0.740548\tvalid_1's rmse: 0.860551\n",
      "[736]\ttraining's l2: 0.460404\ttraining's rmse: 0.678531\tvalid_1's l2: 0.740367\tvalid_1's rmse: 0.860446\n",
      "[737]\ttraining's l2: 0.460344\ttraining's rmse: 0.678486\tvalid_1's l2: 0.740391\tvalid_1's rmse: 0.86046\n",
      "[738]\ttraining's l2: 0.460271\ttraining's rmse: 0.678433\tvalid_1's l2: 0.74045\tvalid_1's rmse: 0.860494\n",
      "[739]\ttraining's l2: 0.459954\ttraining's rmse: 0.678199\tvalid_1's l2: 0.740082\tvalid_1's rmse: 0.86028\n",
      "[740]\ttraining's l2: 0.45978\ttraining's rmse: 0.678071\tvalid_1's l2: 0.740128\tvalid_1's rmse: 0.860307\n",
      "[741]\ttraining's l2: 0.45967\ttraining's rmse: 0.67799\tvalid_1's l2: 0.740127\tvalid_1's rmse: 0.860306\n",
      "[742]\ttraining's l2: 0.459612\ttraining's rmse: 0.677947\tvalid_1's l2: 0.74013\tvalid_1's rmse: 0.860308\n",
      "[743]\ttraining's l2: 0.459529\ttraining's rmse: 0.677886\tvalid_1's l2: 0.740191\tvalid_1's rmse: 0.860344\n",
      "[744]\ttraining's l2: 0.459438\ttraining's rmse: 0.677819\tvalid_1's l2: 0.740202\tvalid_1's rmse: 0.86035\n",
      "[745]\ttraining's l2: 0.459381\ttraining's rmse: 0.677777\tvalid_1's l2: 0.74024\tvalid_1's rmse: 0.860372\n",
      "[746]\ttraining's l2: 0.459323\ttraining's rmse: 0.677734\tvalid_1's l2: 0.740225\tvalid_1's rmse: 0.860363\n",
      "[747]\ttraining's l2: 0.459243\ttraining's rmse: 0.677675\tvalid_1's l2: 0.740247\tvalid_1's rmse: 0.860376\n",
      "[748]\ttraining's l2: 0.459185\ttraining's rmse: 0.677632\tvalid_1's l2: 0.740256\tvalid_1's rmse: 0.860382\n",
      "[749]\ttraining's l2: 0.459098\ttraining's rmse: 0.677568\tvalid_1's l2: 0.740372\tvalid_1's rmse: 0.860449\n",
      "[750]\ttraining's l2: 0.459046\ttraining's rmse: 0.67753\tvalid_1's l2: 0.740374\tvalid_1's rmse: 0.86045\n",
      "[751]\ttraining's l2: 0.458962\ttraining's rmse: 0.677467\tvalid_1's l2: 0.740315\tvalid_1's rmse: 0.860416\n",
      "[752]\ttraining's l2: 0.458916\ttraining's rmse: 0.677433\tvalid_1's l2: 0.740303\tvalid_1's rmse: 0.860409\n",
      "[753]\ttraining's l2: 0.458679\ttraining's rmse: 0.677258\tvalid_1's l2: 0.740451\tvalid_1's rmse: 0.860495\n",
      "[754]\ttraining's l2: 0.458587\ttraining's rmse: 0.677191\tvalid_1's l2: 0.740448\tvalid_1's rmse: 0.860493\n",
      "[755]\ttraining's l2: 0.458516\ttraining's rmse: 0.677138\tvalid_1's l2: 0.740457\tvalid_1's rmse: 0.860498\n",
      "[756]\ttraining's l2: 0.458448\ttraining's rmse: 0.677088\tvalid_1's l2: 0.740499\tvalid_1's rmse: 0.860522\n",
      "[757]\ttraining's l2: 0.45836\ttraining's rmse: 0.677023\tvalid_1's l2: 0.740543\tvalid_1's rmse: 0.860548\n",
      "[758]\ttraining's l2: 0.458299\ttraining's rmse: 0.676978\tvalid_1's l2: 0.740546\tvalid_1's rmse: 0.86055\n",
      "[759]\ttraining's l2: 0.458217\ttraining's rmse: 0.676917\tvalid_1's l2: 0.740547\tvalid_1's rmse: 0.86055\n",
      "[760]\ttraining's l2: 0.458151\ttraining's rmse: 0.676869\tvalid_1's l2: 0.74058\tvalid_1's rmse: 0.86057\n",
      "[761]\ttraining's l2: 0.45806\ttraining's rmse: 0.676801\tvalid_1's l2: 0.740559\tvalid_1's rmse: 0.860557\n",
      "[762]\ttraining's l2: 0.457997\ttraining's rmse: 0.676755\tvalid_1's l2: 0.740435\tvalid_1's rmse: 0.860485\n",
      "[763]\ttraining's l2: 0.457927\ttraining's rmse: 0.676703\tvalid_1's l2: 0.740451\tvalid_1's rmse: 0.860494\n",
      "[764]\ttraining's l2: 0.45783\ttraining's rmse: 0.676632\tvalid_1's l2: 0.740397\tvalid_1's rmse: 0.860463\n",
      "[765]\ttraining's l2: 0.45773\ttraining's rmse: 0.676557\tvalid_1's l2: 0.740393\tvalid_1's rmse: 0.860461\n",
      "[766]\ttraining's l2: 0.457659\ttraining's rmse: 0.676505\tvalid_1's l2: 0.740409\tvalid_1's rmse: 0.86047\n",
      "[767]\ttraining's l2: 0.457597\ttraining's rmse: 0.676459\tvalid_1's l2: 0.740385\tvalid_1's rmse: 0.860456\n",
      "[768]\ttraining's l2: 0.457521\ttraining's rmse: 0.676403\tvalid_1's l2: 0.740387\tvalid_1's rmse: 0.860457\n",
      "[769]\ttraining's l2: 0.457452\ttraining's rmse: 0.676352\tvalid_1's l2: 0.740522\tvalid_1's rmse: 0.860536\n",
      "[770]\ttraining's l2: 0.457381\ttraining's rmse: 0.676299\tvalid_1's l2: 0.740551\tvalid_1's rmse: 0.860553\n",
      "[771]\ttraining's l2: 0.457331\ttraining's rmse: 0.676263\tvalid_1's l2: 0.740563\tvalid_1's rmse: 0.860559\n",
      "[772]\ttraining's l2: 0.45702\ttraining's rmse: 0.676032\tvalid_1's l2: 0.740694\tvalid_1's rmse: 0.860636\n",
      "[773]\ttraining's l2: 0.456944\ttraining's rmse: 0.675976\tvalid_1's l2: 0.740724\tvalid_1's rmse: 0.860653\n",
      "[774]\ttraining's l2: 0.45683\ttraining's rmse: 0.675892\tvalid_1's l2: 0.740807\tvalid_1's rmse: 0.860702\n",
      "[775]\ttraining's l2: 0.456732\ttraining's rmse: 0.67582\tvalid_1's l2: 0.740837\tvalid_1's rmse: 0.860719\n",
      "[776]\ttraining's l2: 0.456666\ttraining's rmse: 0.67577\tvalid_1's l2: 0.740835\tvalid_1's rmse: 0.860718\n",
      "[777]\ttraining's l2: 0.456248\ttraining's rmse: 0.675461\tvalid_1's l2: 0.741266\tvalid_1's rmse: 0.860968\n",
      "[778]\ttraining's l2: 0.456077\ttraining's rmse: 0.675335\tvalid_1's l2: 0.741432\tvalid_1's rmse: 0.861065\n",
      "[779]\ttraining's l2: 0.456007\ttraining's rmse: 0.675283\tvalid_1's l2: 0.741527\tvalid_1's rmse: 0.86112\n",
      "[780]\ttraining's l2: 0.455965\ttraining's rmse: 0.675252\tvalid_1's l2: 0.741553\tvalid_1's rmse: 0.861135\n",
      "[781]\ttraining's l2: 0.455925\ttraining's rmse: 0.675223\tvalid_1's l2: 0.741583\tvalid_1's rmse: 0.861152\n",
      "[782]\ttraining's l2: 0.455824\ttraining's rmse: 0.675148\tvalid_1's l2: 0.741653\tvalid_1's rmse: 0.861193\n",
      "[783]\ttraining's l2: 0.455746\ttraining's rmse: 0.675089\tvalid_1's l2: 0.741667\tvalid_1's rmse: 0.861201\n",
      "[784]\ttraining's l2: 0.455631\ttraining's rmse: 0.675004\tvalid_1's l2: 0.741582\tvalid_1's rmse: 0.861152\n",
      "[785]\ttraining's l2: 0.455582\ttraining's rmse: 0.674968\tvalid_1's l2: 0.741536\tvalid_1's rmse: 0.861125\n",
      "[786]\ttraining's l2: 0.455517\ttraining's rmse: 0.67492\tvalid_1's l2: 0.741518\tvalid_1's rmse: 0.861114\n",
      "[787]\ttraining's l2: 0.45545\ttraining's rmse: 0.674871\tvalid_1's l2: 0.741518\tvalid_1's rmse: 0.861114\n",
      "[788]\ttraining's l2: 0.455224\ttraining's rmse: 0.674703\tvalid_1's l2: 0.741507\tvalid_1's rmse: 0.861108\n",
      "[789]\ttraining's l2: 0.45506\ttraining's rmse: 0.674581\tvalid_1's l2: 0.74151\tvalid_1's rmse: 0.861109\n",
      "[790]\ttraining's l2: 0.455002\ttraining's rmse: 0.674538\tvalid_1's l2: 0.741488\tvalid_1's rmse: 0.861097\n",
      "[791]\ttraining's l2: 0.454928\ttraining's rmse: 0.674484\tvalid_1's l2: 0.741531\tvalid_1's rmse: 0.861122\n",
      "[792]\ttraining's l2: 0.45487\ttraining's rmse: 0.67444\tvalid_1's l2: 0.741455\tvalid_1's rmse: 0.861078\n",
      "[793]\ttraining's l2: 0.454807\ttraining's rmse: 0.674394\tvalid_1's l2: 0.741452\tvalid_1's rmse: 0.861076\n",
      "[794]\ttraining's l2: 0.454679\ttraining's rmse: 0.674299\tvalid_1's l2: 0.741475\tvalid_1's rmse: 0.861089\n",
      "[795]\ttraining's l2: 0.454051\ttraining's rmse: 0.673833\tvalid_1's l2: 0.741471\tvalid_1's rmse: 0.861087\n",
      "[796]\ttraining's l2: 0.453947\ttraining's rmse: 0.673756\tvalid_1's l2: 0.741403\tvalid_1's rmse: 0.861048\n",
      "[797]\ttraining's l2: 0.453893\ttraining's rmse: 0.673716\tvalid_1's l2: 0.74163\tvalid_1's rmse: 0.86118\n",
      "[798]\ttraining's l2: 0.453759\ttraining's rmse: 0.673616\tvalid_1's l2: 0.743952\tvalid_1's rmse: 0.862527\n",
      "[799]\ttraining's l2: 0.453682\ttraining's rmse: 0.673559\tvalid_1's l2: 0.744018\tvalid_1's rmse: 0.862565\n",
      "[800]\ttraining's l2: 0.45362\ttraining's rmse: 0.673513\tvalid_1's l2: 0.743984\tvalid_1's rmse: 0.862545\n",
      "[801]\ttraining's l2: 0.453546\ttraining's rmse: 0.673458\tvalid_1's l2: 0.743997\tvalid_1's rmse: 0.862553\n",
      "[802]\ttraining's l2: 0.453482\ttraining's rmse: 0.673411\tvalid_1's l2: 0.743997\tvalid_1's rmse: 0.862553\n",
      "[803]\ttraining's l2: 0.453359\ttraining's rmse: 0.67332\tvalid_1's l2: 0.743912\tvalid_1's rmse: 0.862503\n",
      "[804]\ttraining's l2: 0.453291\ttraining's rmse: 0.673269\tvalid_1's l2: 0.74391\tvalid_1's rmse: 0.862502\n",
      "[805]\ttraining's l2: 0.453107\ttraining's rmse: 0.673132\tvalid_1's l2: 0.743914\tvalid_1's rmse: 0.862504\n",
      "[806]\ttraining's l2: 0.453073\ttraining's rmse: 0.673107\tvalid_1's l2: 0.743905\tvalid_1's rmse: 0.862499\n",
      "[807]\ttraining's l2: 0.452997\ttraining's rmse: 0.673051\tvalid_1's l2: 0.743838\tvalid_1's rmse: 0.86246\n",
      "[808]\ttraining's l2: 0.452936\ttraining's rmse: 0.673005\tvalid_1's l2: 0.743856\tvalid_1's rmse: 0.862471\n",
      "[809]\ttraining's l2: 0.452865\ttraining's rmse: 0.672952\tvalid_1's l2: 0.743866\tvalid_1's rmse: 0.862477\n",
      "[810]\ttraining's l2: 0.452776\ttraining's rmse: 0.672886\tvalid_1's l2: 0.743871\tvalid_1's rmse: 0.86248\n",
      "[811]\ttraining's l2: 0.452712\ttraining's rmse: 0.672838\tvalid_1's l2: 0.743828\tvalid_1's rmse: 0.862455\n",
      "[812]\ttraining's l2: 0.452653\ttraining's rmse: 0.672795\tvalid_1's l2: 0.743818\tvalid_1's rmse: 0.862449\n",
      "[813]\ttraining's l2: 0.452577\ttraining's rmse: 0.672738\tvalid_1's l2: 0.74382\tvalid_1's rmse: 0.86245\n",
      "[814]\ttraining's l2: 0.452519\ttraining's rmse: 0.672696\tvalid_1's l2: 0.743791\tvalid_1's rmse: 0.862433\n",
      "[815]\ttraining's l2: 0.452165\ttraining's rmse: 0.672432\tvalid_1's l2: 0.745444\tvalid_1's rmse: 0.863391\n",
      "[816]\ttraining's l2: 0.452071\ttraining's rmse: 0.672362\tvalid_1's l2: 0.745445\tvalid_1's rmse: 0.863391\n",
      "[817]\ttraining's l2: 0.451988\ttraining's rmse: 0.6723\tvalid_1's l2: 0.745444\tvalid_1's rmse: 0.863391\n",
      "[818]\ttraining's l2: 0.451914\ttraining's rmse: 0.672246\tvalid_1's l2: 0.745402\tvalid_1's rmse: 0.863367\n",
      "[819]\ttraining's l2: 0.451829\ttraining's rmse: 0.672182\tvalid_1's l2: 0.74542\tvalid_1's rmse: 0.863377\n",
      "[820]\ttraining's l2: 0.451733\ttraining's rmse: 0.672111\tvalid_1's l2: 0.745398\tvalid_1's rmse: 0.863364\n",
      "[821]\ttraining's l2: 0.451664\ttraining's rmse: 0.67206\tvalid_1's l2: 0.745416\tvalid_1's rmse: 0.863375\n",
      "[822]\ttraining's l2: 0.451604\ttraining's rmse: 0.672015\tvalid_1's l2: 0.745415\tvalid_1's rmse: 0.863374\n",
      "[823]\ttraining's l2: 0.451483\ttraining's rmse: 0.671925\tvalid_1's l2: 0.745555\tvalid_1's rmse: 0.863455\n",
      "[824]\ttraining's l2: 0.451448\ttraining's rmse: 0.671899\tvalid_1's l2: 0.745545\tvalid_1's rmse: 0.863449\n",
      "[825]\ttraining's l2: 0.451356\ttraining's rmse: 0.67183\tvalid_1's l2: 0.745521\tvalid_1's rmse: 0.863436\n",
      "[826]\ttraining's l2: 0.451293\ttraining's rmse: 0.671784\tvalid_1's l2: 0.745565\tvalid_1's rmse: 0.863461\n",
      "[827]\ttraining's l2: 0.451233\ttraining's rmse: 0.671738\tvalid_1's l2: 0.74557\tvalid_1's rmse: 0.863464\n",
      "[828]\ttraining's l2: 0.450888\ttraining's rmse: 0.671482\tvalid_1's l2: 0.745931\tvalid_1's rmse: 0.863673\n",
      "[829]\ttraining's l2: 0.450686\ttraining's rmse: 0.671332\tvalid_1's l2: 0.745915\tvalid_1's rmse: 0.863664\n",
      "[830]\ttraining's l2: 0.450586\ttraining's rmse: 0.671257\tvalid_1's l2: 0.74601\tvalid_1's rmse: 0.863719\n",
      "[831]\ttraining's l2: 0.450519\ttraining's rmse: 0.671207\tvalid_1's l2: 0.746039\tvalid_1's rmse: 0.863735\n",
      "[832]\ttraining's l2: 0.450409\ttraining's rmse: 0.671125\tvalid_1's l2: 0.746083\tvalid_1's rmse: 0.863761\n",
      "[833]\ttraining's l2: 0.450352\ttraining's rmse: 0.671082\tvalid_1's l2: 0.746126\tvalid_1's rmse: 0.863786\n",
      "[834]\ttraining's l2: 0.450253\ttraining's rmse: 0.671009\tvalid_1's l2: 0.74613\tvalid_1's rmse: 0.863788\n",
      "[835]\ttraining's l2: 0.450192\ttraining's rmse: 0.670963\tvalid_1's l2: 0.746156\tvalid_1's rmse: 0.863803\n",
      "[836]\ttraining's l2: 0.450112\ttraining's rmse: 0.670904\tvalid_1's l2: 0.74622\tvalid_1's rmse: 0.86384\n",
      "[837]\ttraining's l2: 0.450051\ttraining's rmse: 0.670859\tvalid_1's l2: 0.74627\tvalid_1's rmse: 0.863869\n",
      "[838]\ttraining's l2: 0.449993\ttraining's rmse: 0.670815\tvalid_1's l2: 0.746273\tvalid_1's rmse: 0.863871\n",
      "[839]\ttraining's l2: 0.449931\ttraining's rmse: 0.670769\tvalid_1's l2: 0.746295\tvalid_1's rmse: 0.863883\n",
      "[840]\ttraining's l2: 0.449659\ttraining's rmse: 0.670566\tvalid_1's l2: 0.747149\tvalid_1's rmse: 0.864378\n",
      "[841]\ttraining's l2: 0.449598\ttraining's rmse: 0.670521\tvalid_1's l2: 0.747149\tvalid_1's rmse: 0.864378\n",
      "[842]\ttraining's l2: 0.449507\ttraining's rmse: 0.670453\tvalid_1's l2: 0.747163\tvalid_1's rmse: 0.864386\n",
      "[843]\ttraining's l2: 0.449434\ttraining's rmse: 0.670398\tvalid_1's l2: 0.747145\tvalid_1's rmse: 0.864375\n",
      "[844]\ttraining's l2: 0.449352\ttraining's rmse: 0.670337\tvalid_1's l2: 0.747199\tvalid_1's rmse: 0.864407\n",
      "[845]\ttraining's l2: 0.449301\ttraining's rmse: 0.670299\tvalid_1's l2: 0.747124\tvalid_1's rmse: 0.864363\n",
      "[846]\ttraining's l2: 0.449244\ttraining's rmse: 0.670257\tvalid_1's l2: 0.747167\tvalid_1's rmse: 0.864388\n",
      "[847]\ttraining's l2: 0.449163\ttraining's rmse: 0.670196\tvalid_1's l2: 0.747172\tvalid_1's rmse: 0.864391\n",
      "[848]\ttraining's l2: 0.449067\ttraining's rmse: 0.670125\tvalid_1's l2: 0.74718\tvalid_1's rmse: 0.864396\n",
      "[849]\ttraining's l2: 0.449018\ttraining's rmse: 0.670088\tvalid_1's l2: 0.747143\tvalid_1's rmse: 0.864375\n",
      "[850]\ttraining's l2: 0.448935\ttraining's rmse: 0.670026\tvalid_1's l2: 0.747155\tvalid_1's rmse: 0.864381\n",
      "[851]\ttraining's l2: 0.448877\ttraining's rmse: 0.669983\tvalid_1's l2: 0.747193\tvalid_1's rmse: 0.864403\n",
      "[852]\ttraining's l2: 0.448793\ttraining's rmse: 0.66992\tvalid_1's l2: 0.747189\tvalid_1's rmse: 0.864401\n",
      "[853]\ttraining's l2: 0.448731\ttraining's rmse: 0.669874\tvalid_1's l2: 0.747209\tvalid_1's rmse: 0.864413\n",
      "[854]\ttraining's l2: 0.448652\ttraining's rmse: 0.669815\tvalid_1's l2: 0.747223\tvalid_1's rmse: 0.864421\n",
      "[855]\ttraining's l2: 0.448551\ttraining's rmse: 0.669739\tvalid_1's l2: 0.747227\tvalid_1's rmse: 0.864423\n",
      "[856]\ttraining's l2: 0.448487\ttraining's rmse: 0.669692\tvalid_1's l2: 0.747232\tvalid_1's rmse: 0.864426\n",
      "[857]\ttraining's l2: 0.448424\ttraining's rmse: 0.669645\tvalid_1's l2: 0.747211\tvalid_1's rmse: 0.864413\n",
      "[858]\ttraining's l2: 0.448373\ttraining's rmse: 0.669606\tvalid_1's l2: 0.747211\tvalid_1's rmse: 0.864414\n",
      "[859]\ttraining's l2: 0.448311\ttraining's rmse: 0.66956\tvalid_1's l2: 0.747191\tvalid_1's rmse: 0.864402\n",
      "[860]\ttraining's l2: 0.447917\ttraining's rmse: 0.669266\tvalid_1's l2: 0.74719\tvalid_1's rmse: 0.864401\n",
      "[861]\ttraining's l2: 0.447858\ttraining's rmse: 0.669222\tvalid_1's l2: 0.747117\tvalid_1's rmse: 0.864359\n",
      "[862]\ttraining's l2: 0.447805\ttraining's rmse: 0.669183\tvalid_1's l2: 0.747107\tvalid_1's rmse: 0.864354\n",
      "[863]\ttraining's l2: 0.447539\ttraining's rmse: 0.668984\tvalid_1's l2: 0.747107\tvalid_1's rmse: 0.864354\n",
      "[864]\ttraining's l2: 0.447317\ttraining's rmse: 0.668818\tvalid_1's l2: 0.747897\tvalid_1's rmse: 0.864811\n",
      "[865]\ttraining's l2: 0.447255\ttraining's rmse: 0.668771\tvalid_1's l2: 0.747939\tvalid_1's rmse: 0.864835\n",
      "[866]\ttraining's l2: 0.447194\ttraining's rmse: 0.668725\tvalid_1's l2: 0.747935\tvalid_1's rmse: 0.864832\n",
      "[867]\ttraining's l2: 0.446953\ttraining's rmse: 0.668545\tvalid_1's l2: 0.74797\tvalid_1's rmse: 0.864853\n",
      "[868]\ttraining's l2: 0.446855\ttraining's rmse: 0.668472\tvalid_1's l2: 0.747988\tvalid_1's rmse: 0.864863\n",
      "[869]\ttraining's l2: 0.446756\ttraining's rmse: 0.668398\tvalid_1's l2: 0.747933\tvalid_1's rmse: 0.864831\n",
      "[870]\ttraining's l2: 0.446703\ttraining's rmse: 0.668359\tvalid_1's l2: 0.747954\tvalid_1's rmse: 0.864843\n",
      "[871]\ttraining's l2: 0.446629\ttraining's rmse: 0.668303\tvalid_1's l2: 0.747936\tvalid_1's rmse: 0.864833\n",
      "[872]\ttraining's l2: 0.446591\ttraining's rmse: 0.668275\tvalid_1's l2: 0.74794\tvalid_1's rmse: 0.864835\n",
      "[873]\ttraining's l2: 0.446536\ttraining's rmse: 0.668234\tvalid_1's l2: 0.747906\tvalid_1's rmse: 0.864815\n",
      "[874]\ttraining's l2: 0.446306\ttraining's rmse: 0.668061\tvalid_1's l2: 0.747909\tvalid_1's rmse: 0.864817\n",
      "[875]\ttraining's l2: 0.446239\ttraining's rmse: 0.668011\tvalid_1's l2: 0.747911\tvalid_1's rmse: 0.864819\n",
      "[876]\ttraining's l2: 0.446131\ttraining's rmse: 0.667931\tvalid_1's l2: 0.747892\tvalid_1's rmse: 0.864807\n",
      "[877]\ttraining's l2: 0.445976\ttraining's rmse: 0.667814\tvalid_1's l2: 0.747916\tvalid_1's rmse: 0.864821\n",
      "[878]\ttraining's l2: 0.44587\ttraining's rmse: 0.667735\tvalid_1's l2: 0.747942\tvalid_1's rmse: 0.864836\n",
      "[879]\ttraining's l2: 0.445793\ttraining's rmse: 0.667677\tvalid_1's l2: 0.748019\tvalid_1's rmse: 0.864881\n",
      "[880]\ttraining's l2: 0.445734\ttraining's rmse: 0.667633\tvalid_1's l2: 0.748079\tvalid_1's rmse: 0.864916\n",
      "[881]\ttraining's l2: 0.445663\ttraining's rmse: 0.66758\tvalid_1's l2: 0.748029\tvalid_1's rmse: 0.864886\n",
      "[882]\ttraining's l2: 0.445595\ttraining's rmse: 0.667529\tvalid_1's l2: 0.748113\tvalid_1's rmse: 0.864935\n",
      "[883]\ttraining's l2: 0.44555\ttraining's rmse: 0.667495\tvalid_1's l2: 0.748157\tvalid_1's rmse: 0.864961\n",
      "[884]\ttraining's l2: 0.445297\ttraining's rmse: 0.667306\tvalid_1's l2: 0.7481\tvalid_1's rmse: 0.864928\n",
      "[885]\ttraining's l2: 0.44522\ttraining's rmse: 0.667248\tvalid_1's l2: 0.748135\tvalid_1's rmse: 0.864948\n",
      "[886]\ttraining's l2: 0.445079\ttraining's rmse: 0.667142\tvalid_1's l2: 0.748111\tvalid_1's rmse: 0.864934\n",
      "[887]\ttraining's l2: 0.445007\ttraining's rmse: 0.667088\tvalid_1's l2: 0.748099\tvalid_1's rmse: 0.864927\n",
      "[888]\ttraining's l2: 0.444961\ttraining's rmse: 0.667054\tvalid_1's l2: 0.748112\tvalid_1's rmse: 0.864934\n",
      "[889]\ttraining's l2: 0.444913\ttraining's rmse: 0.667018\tvalid_1's l2: 0.748114\tvalid_1's rmse: 0.864936\n",
      "[890]\ttraining's l2: 0.444637\ttraining's rmse: 0.666811\tvalid_1's l2: 0.748131\tvalid_1's rmse: 0.864945\n",
      "[891]\ttraining's l2: 0.444557\ttraining's rmse: 0.666751\tvalid_1's l2: 0.748131\tvalid_1's rmse: 0.864946\n",
      "[892]\ttraining's l2: 0.444484\ttraining's rmse: 0.666696\tvalid_1's l2: 0.748191\tvalid_1's rmse: 0.86498\n",
      "[893]\ttraining's l2: 0.444408\ttraining's rmse: 0.666639\tvalid_1's l2: 0.748228\tvalid_1's rmse: 0.865002\n",
      "[894]\ttraining's l2: 0.444339\ttraining's rmse: 0.666588\tvalid_1's l2: 0.748228\tvalid_1's rmse: 0.865002\n",
      "[895]\ttraining's l2: 0.444288\ttraining's rmse: 0.666549\tvalid_1's l2: 0.748228\tvalid_1's rmse: 0.865001\n",
      "[896]\ttraining's l2: 0.444233\ttraining's rmse: 0.666508\tvalid_1's l2: 0.748257\tvalid_1's rmse: 0.865018\n",
      "[897]\ttraining's l2: 0.444149\ttraining's rmse: 0.666445\tvalid_1's l2: 0.748258\tvalid_1's rmse: 0.865019\n",
      "[898]\ttraining's l2: 0.444075\ttraining's rmse: 0.666389\tvalid_1's l2: 0.74822\tvalid_1's rmse: 0.864997\n",
      "[899]\ttraining's l2: 0.444006\ttraining's rmse: 0.666338\tvalid_1's l2: 0.748199\tvalid_1's rmse: 0.864985\n",
      "[900]\ttraining's l2: 0.443952\ttraining's rmse: 0.666297\tvalid_1's l2: 0.748198\tvalid_1's rmse: 0.864985\n",
      "[901]\ttraining's l2: 0.443896\ttraining's rmse: 0.666255\tvalid_1's l2: 0.748213\tvalid_1's rmse: 0.864993\n",
      "[902]\ttraining's l2: 0.443778\ttraining's rmse: 0.666167\tvalid_1's l2: 0.748479\tvalid_1's rmse: 0.865147\n",
      "[903]\ttraining's l2: 0.443733\ttraining's rmse: 0.666133\tvalid_1's l2: 0.748506\tvalid_1's rmse: 0.865163\n",
      "[904]\ttraining's l2: 0.443681\ttraining's rmse: 0.666094\tvalid_1's l2: 0.748502\tvalid_1's rmse: 0.86516\n",
      "[905]\ttraining's l2: 0.443619\ttraining's rmse: 0.666047\tvalid_1's l2: 0.748507\tvalid_1's rmse: 0.865163\n",
      "[906]\ttraining's l2: 0.443571\ttraining's rmse: 0.666011\tvalid_1's l2: 0.748446\tvalid_1's rmse: 0.865128\n",
      "[907]\ttraining's l2: 0.443492\ttraining's rmse: 0.665952\tvalid_1's l2: 0.74841\tvalid_1's rmse: 0.865107\n",
      "[908]\ttraining's l2: 0.443446\ttraining's rmse: 0.665918\tvalid_1's l2: 0.748428\tvalid_1's rmse: 0.865117\n",
      "[909]\ttraining's l2: 0.443295\ttraining's rmse: 0.665804\tvalid_1's l2: 0.748321\tvalid_1's rmse: 0.865055\n",
      "[910]\ttraining's l2: 0.443234\ttraining's rmse: 0.665758\tvalid_1's l2: 0.748301\tvalid_1's rmse: 0.865044\n",
      "[911]\ttraining's l2: 0.443193\ttraining's rmse: 0.665727\tvalid_1's l2: 0.748322\tvalid_1's rmse: 0.865056\n",
      "[912]\ttraining's l2: 0.44314\ttraining's rmse: 0.665687\tvalid_1's l2: 0.748324\tvalid_1's rmse: 0.865057\n",
      "[913]\ttraining's l2: 0.443096\ttraining's rmse: 0.665654\tvalid_1's l2: 0.748324\tvalid_1's rmse: 0.865057\n",
      "[914]\ttraining's l2: 0.443018\ttraining's rmse: 0.665596\tvalid_1's l2: 0.748372\tvalid_1's rmse: 0.865085\n",
      "[915]\ttraining's l2: 0.442774\ttraining's rmse: 0.665413\tvalid_1's l2: 0.750141\tvalid_1's rmse: 0.866107\n",
      "[916]\ttraining's l2: 0.442628\ttraining's rmse: 0.665303\tvalid_1's l2: 0.750163\tvalid_1's rmse: 0.866119\n",
      "[917]\ttraining's l2: 0.442572\ttraining's rmse: 0.665261\tvalid_1's l2: 0.750236\tvalid_1's rmse: 0.866161\n",
      "[918]\ttraining's l2: 0.442526\ttraining's rmse: 0.665226\tvalid_1's l2: 0.750229\tvalid_1's rmse: 0.866158\n",
      "[919]\ttraining's l2: 0.442338\ttraining's rmse: 0.665085\tvalid_1's l2: 0.750219\tvalid_1's rmse: 0.866152\n",
      "[920]\ttraining's l2: 0.442249\ttraining's rmse: 0.665018\tvalid_1's l2: 0.750277\tvalid_1's rmse: 0.866185\n",
      "[921]\ttraining's l2: 0.442189\ttraining's rmse: 0.664973\tvalid_1's l2: 0.750275\tvalid_1's rmse: 0.866184\n",
      "[922]\ttraining's l2: 0.442125\ttraining's rmse: 0.664925\tvalid_1's l2: 0.750288\tvalid_1's rmse: 0.866192\n",
      "[923]\ttraining's l2: 0.442068\ttraining's rmse: 0.664882\tvalid_1's l2: 0.750269\tvalid_1's rmse: 0.86618\n",
      "[924]\ttraining's l2: 0.441989\ttraining's rmse: 0.664823\tvalid_1's l2: 0.750334\tvalid_1's rmse: 0.866218\n",
      "[925]\ttraining's l2: 0.441928\ttraining's rmse: 0.664776\tvalid_1's l2: 0.750423\tvalid_1's rmse: 0.86627\n",
      "[926]\ttraining's l2: 0.441604\ttraining's rmse: 0.664533\tvalid_1's l2: 0.750933\tvalid_1's rmse: 0.866564\n",
      "[927]\ttraining's l2: 0.441511\ttraining's rmse: 0.664463\tvalid_1's l2: 0.750928\tvalid_1's rmse: 0.866561\n",
      "[928]\ttraining's l2: 0.441473\ttraining's rmse: 0.664435\tvalid_1's l2: 0.750915\tvalid_1's rmse: 0.866554\n",
      "[929]\ttraining's l2: 0.441406\ttraining's rmse: 0.664384\tvalid_1's l2: 0.750925\tvalid_1's rmse: 0.866559\n",
      "[930]\ttraining's l2: 0.441348\ttraining's rmse: 0.66434\tvalid_1's l2: 0.750939\tvalid_1's rmse: 0.866567\n",
      "[931]\ttraining's l2: 0.440496\ttraining's rmse: 0.663699\tvalid_1's l2: 0.751123\tvalid_1's rmse: 0.866673\n",
      "[932]\ttraining's l2: 0.440421\ttraining's rmse: 0.663642\tvalid_1's l2: 0.751263\tvalid_1's rmse: 0.866754\n",
      "[933]\ttraining's l2: 0.440321\ttraining's rmse: 0.663567\tvalid_1's l2: 0.751242\tvalid_1's rmse: 0.866742\n",
      "[934]\ttraining's l2: 0.440261\ttraining's rmse: 0.663522\tvalid_1's l2: 0.751244\tvalid_1's rmse: 0.866743\n",
      "[935]\ttraining's l2: 0.440189\ttraining's rmse: 0.663468\tvalid_1's l2: 0.751249\tvalid_1's rmse: 0.866746\n",
      "[936]\ttraining's l2: 0.440123\ttraining's rmse: 0.663418\tvalid_1's l2: 0.751244\tvalid_1's rmse: 0.866743\n",
      "[937]\ttraining's l2: 0.440048\ttraining's rmse: 0.663361\tvalid_1's l2: 0.751256\tvalid_1's rmse: 0.86675\n",
      "[938]\ttraining's l2: 0.440001\ttraining's rmse: 0.663326\tvalid_1's l2: 0.751718\tvalid_1's rmse: 0.867017\n",
      "[939]\ttraining's l2: 0.439956\ttraining's rmse: 0.663292\tvalid_1's l2: 0.75172\tvalid_1's rmse: 0.867018\n",
      "[940]\ttraining's l2: 0.439882\ttraining's rmse: 0.663236\tvalid_1's l2: 0.751732\tvalid_1's rmse: 0.867025\n",
      "[941]\ttraining's l2: 0.439832\ttraining's rmse: 0.663198\tvalid_1's l2: 0.751763\tvalid_1's rmse: 0.867043\n",
      "[942]\ttraining's l2: 0.439797\ttraining's rmse: 0.663172\tvalid_1's l2: 0.751784\tvalid_1's rmse: 0.867055\n",
      "[943]\ttraining's l2: 0.439741\ttraining's rmse: 0.66313\tvalid_1's l2: 0.751831\tvalid_1's rmse: 0.867082\n",
      "[944]\ttraining's l2: 0.439582\ttraining's rmse: 0.66301\tvalid_1's l2: 0.751933\tvalid_1's rmse: 0.867141\n",
      "[945]\ttraining's l2: 0.438687\ttraining's rmse: 0.662335\tvalid_1's l2: 0.763734\tvalid_1's rmse: 0.873919\n",
      "[946]\ttraining's l2: 0.438097\ttraining's rmse: 0.661889\tvalid_1's l2: 0.763889\tvalid_1's rmse: 0.874007\n",
      "[947]\ttraining's l2: 0.438057\ttraining's rmse: 0.661859\tvalid_1's l2: 0.7639\tvalid_1's rmse: 0.874013\n",
      "[948]\ttraining's l2: 0.437321\ttraining's rmse: 0.661302\tvalid_1's l2: 0.767142\tvalid_1's rmse: 0.875866\n",
      "[949]\ttraining's l2: 0.437263\ttraining's rmse: 0.661259\tvalid_1's l2: 0.7672\tvalid_1's rmse: 0.8759\n",
      "[950]\ttraining's l2: 0.437153\ttraining's rmse: 0.661176\tvalid_1's l2: 0.767312\tvalid_1's rmse: 0.875963\n",
      "[951]\ttraining's l2: 0.43708\ttraining's rmse: 0.661121\tvalid_1's l2: 0.767343\tvalid_1's rmse: 0.875981\n",
      "[952]\ttraining's l2: 0.437012\ttraining's rmse: 0.661069\tvalid_1's l2: 0.767357\tvalid_1's rmse: 0.875989\n",
      "[953]\ttraining's l2: 0.436942\ttraining's rmse: 0.661016\tvalid_1's l2: 0.767362\tvalid_1's rmse: 0.875992\n",
      "[954]\ttraining's l2: 0.436712\ttraining's rmse: 0.660842\tvalid_1's l2: 0.767359\tvalid_1's rmse: 0.87599\n",
      "[955]\ttraining's l2: 0.436667\ttraining's rmse: 0.660808\tvalid_1's l2: 0.767358\tvalid_1's rmse: 0.87599\n",
      "[956]\ttraining's l2: 0.436566\ttraining's rmse: 0.660731\tvalid_1's l2: 0.767367\tvalid_1's rmse: 0.875995\n",
      "[957]\ttraining's l2: 0.435894\ttraining's rmse: 0.660223\tvalid_1's l2: 0.767304\tvalid_1's rmse: 0.875959\n",
      "[958]\ttraining's l2: 0.43575\ttraining's rmse: 0.660113\tvalid_1's l2: 0.767455\tvalid_1's rmse: 0.876045\n",
      "[959]\ttraining's l2: 0.435587\ttraining's rmse: 0.65999\tvalid_1's l2: 0.767612\tvalid_1's rmse: 0.876134\n",
      "[960]\ttraining's l2: 0.435545\ttraining's rmse: 0.659958\tvalid_1's l2: 0.767646\tvalid_1's rmse: 0.876154\n",
      "[961]\ttraining's l2: 0.435499\ttraining's rmse: 0.659923\tvalid_1's l2: 0.767615\tvalid_1's rmse: 0.876136\n",
      "[962]\ttraining's l2: 0.435337\ttraining's rmse: 0.659801\tvalid_1's l2: 0.767474\tvalid_1's rmse: 0.876056\n",
      "[963]\ttraining's l2: 0.435275\ttraining's rmse: 0.659753\tvalid_1's l2: 0.767513\tvalid_1's rmse: 0.876078\n",
      "[964]\ttraining's l2: 0.43524\ttraining's rmse: 0.659727\tvalid_1's l2: 0.767526\tvalid_1's rmse: 0.876086\n",
      "[965]\ttraining's l2: 0.435175\ttraining's rmse: 0.659678\tvalid_1's l2: 0.767531\tvalid_1's rmse: 0.876089\n",
      "[966]\ttraining's l2: 0.435124\ttraining's rmse: 0.659639\tvalid_1's l2: 0.767588\tvalid_1's rmse: 0.876121\n",
      "[967]\ttraining's l2: 0.43506\ttraining's rmse: 0.659591\tvalid_1's l2: 0.767629\tvalid_1's rmse: 0.876145\n",
      "[968]\ttraining's l2: 0.435012\ttraining's rmse: 0.659554\tvalid_1's l2: 0.767614\tvalid_1's rmse: 0.876136\n",
      "[969]\ttraining's l2: 0.434969\ttraining's rmse: 0.659522\tvalid_1's l2: 0.767478\tvalid_1's rmse: 0.876058\n",
      "[970]\ttraining's l2: 0.434895\ttraining's rmse: 0.659465\tvalid_1's l2: 0.767458\tvalid_1's rmse: 0.876047\n",
      "[971]\ttraining's l2: 0.434845\ttraining's rmse: 0.659428\tvalid_1's l2: 0.767462\tvalid_1's rmse: 0.876049\n",
      "[972]\ttraining's l2: 0.434792\ttraining's rmse: 0.659388\tvalid_1's l2: 0.767466\tvalid_1's rmse: 0.876052\n",
      "[973]\ttraining's l2: 0.434713\ttraining's rmse: 0.659328\tvalid_1's l2: 0.767513\tvalid_1's rmse: 0.876078\n",
      "[974]\ttraining's l2: 0.434662\ttraining's rmse: 0.659289\tvalid_1's l2: 0.767508\tvalid_1's rmse: 0.876075\n",
      "[975]\ttraining's l2: 0.434625\ttraining's rmse: 0.659261\tvalid_1's l2: 0.767509\tvalid_1's rmse: 0.876076\n",
      "[976]\ttraining's l2: 0.434507\ttraining's rmse: 0.659171\tvalid_1's l2: 0.767513\tvalid_1's rmse: 0.876078\n",
      "[977]\ttraining's l2: 0.434183\ttraining's rmse: 0.658925\tvalid_1's l2: 0.767945\tvalid_1's rmse: 0.876325\n",
      "[978]\ttraining's l2: 0.434068\ttraining's rmse: 0.658838\tvalid_1's l2: 0.767924\tvalid_1's rmse: 0.876313\n",
      "[979]\ttraining's l2: 0.433255\ttraining's rmse: 0.658221\tvalid_1's l2: 0.767853\tvalid_1's rmse: 0.876272\n",
      "[980]\ttraining's l2: 0.433198\ttraining's rmse: 0.658178\tvalid_1's l2: 0.767865\tvalid_1's rmse: 0.876279\n",
      "[981]\ttraining's l2: 0.433149\ttraining's rmse: 0.65814\tvalid_1's l2: 0.767881\tvalid_1's rmse: 0.876288\n",
      "[982]\ttraining's l2: 0.433106\ttraining's rmse: 0.658108\tvalid_1's l2: 0.76788\tvalid_1's rmse: 0.876288\n",
      "[983]\ttraining's l2: 0.433048\ttraining's rmse: 0.658064\tvalid_1's l2: 0.767893\tvalid_1's rmse: 0.876295\n",
      "[984]\ttraining's l2: 0.432877\ttraining's rmse: 0.657934\tvalid_1's l2: 0.767734\tvalid_1's rmse: 0.876204\n",
      "[985]\ttraining's l2: 0.432822\ttraining's rmse: 0.657892\tvalid_1's l2: 0.767757\tvalid_1's rmse: 0.876217\n",
      "[986]\ttraining's l2: 0.432788\ttraining's rmse: 0.657866\tvalid_1's l2: 0.767752\tvalid_1's rmse: 0.876214\n",
      "[987]\ttraining's l2: 0.432741\ttraining's rmse: 0.657831\tvalid_1's l2: 0.767792\tvalid_1's rmse: 0.876237\n",
      "[988]\ttraining's l2: 0.432691\ttraining's rmse: 0.657793\tvalid_1's l2: 0.767765\tvalid_1's rmse: 0.876222\n",
      "[989]\ttraining's l2: 0.432592\ttraining's rmse: 0.657717\tvalid_1's l2: 0.767752\tvalid_1's rmse: 0.876215\n",
      "[990]\ttraining's l2: 0.432518\ttraining's rmse: 0.657661\tvalid_1's l2: 0.767774\tvalid_1's rmse: 0.876227\n",
      "[991]\ttraining's l2: 0.432204\ttraining's rmse: 0.657422\tvalid_1's l2: 0.766772\tvalid_1's rmse: 0.875655\n",
      "[992]\ttraining's l2: 0.43214\ttraining's rmse: 0.657373\tvalid_1's l2: 0.766762\tvalid_1's rmse: 0.87565\n",
      "[993]\ttraining's l2: 0.432074\ttraining's rmse: 0.657323\tvalid_1's l2: 0.766786\tvalid_1's rmse: 0.875663\n",
      "[994]\ttraining's l2: 0.432036\ttraining's rmse: 0.657294\tvalid_1's l2: 0.766786\tvalid_1's rmse: 0.875663\n",
      "[995]\ttraining's l2: 0.431981\ttraining's rmse: 0.657253\tvalid_1's l2: 0.76681\tvalid_1's rmse: 0.875677\n",
      "[996]\ttraining's l2: 0.43188\ttraining's rmse: 0.657176\tvalid_1's l2: 0.766817\tvalid_1's rmse: 0.875681\n",
      "[997]\ttraining's l2: 0.431797\ttraining's rmse: 0.657113\tvalid_1's l2: 0.766818\tvalid_1's rmse: 0.875681\n",
      "[998]\ttraining's l2: 0.431694\ttraining's rmse: 0.657034\tvalid_1's l2: 0.766815\tvalid_1's rmse: 0.87568\n",
      "[999]\ttraining's l2: 0.431519\ttraining's rmse: 0.656901\tvalid_1's l2: 0.766577\tvalid_1's rmse: 0.875544\n",
      "[1000]\ttraining's l2: 0.431404\ttraining's rmse: 0.656813\tvalid_1's l2: 0.766589\tvalid_1's rmse: 0.87555\n",
      "[1001]\ttraining's l2: 0.431327\ttraining's rmse: 0.656755\tvalid_1's l2: 0.766499\tvalid_1's rmse: 0.875499\n",
      "[1002]\ttraining's l2: 0.431211\ttraining's rmse: 0.656666\tvalid_1's l2: 0.766364\tvalid_1's rmse: 0.875422\n",
      "[1003]\ttraining's l2: 0.431122\ttraining's rmse: 0.656599\tvalid_1's l2: 0.766402\tvalid_1's rmse: 0.875444\n",
      "[1004]\ttraining's l2: 0.431051\ttraining's rmse: 0.656545\tvalid_1's l2: 0.766467\tvalid_1's rmse: 0.875481\n",
      "[1005]\ttraining's l2: 0.430984\ttraining's rmse: 0.656494\tvalid_1's l2: 0.766423\tvalid_1's rmse: 0.875456\n",
      "[1006]\ttraining's l2: 0.430924\ttraining's rmse: 0.656448\tvalid_1's l2: 0.766421\tvalid_1's rmse: 0.875455\n",
      "[1007]\ttraining's l2: 0.43087\ttraining's rmse: 0.656407\tvalid_1's l2: 0.766415\tvalid_1's rmse: 0.875452\n",
      "[1008]\ttraining's l2: 0.430793\ttraining's rmse: 0.656349\tvalid_1's l2: 0.766416\tvalid_1's rmse: 0.875452\n",
      "[1009]\ttraining's l2: 0.430719\ttraining's rmse: 0.656292\tvalid_1's l2: 0.766411\tvalid_1's rmse: 0.875449\n",
      "[1010]\ttraining's l2: 0.430656\ttraining's rmse: 0.656244\tvalid_1's l2: 0.766413\tvalid_1's rmse: 0.87545\n",
      "[1011]\ttraining's l2: 0.430617\ttraining's rmse: 0.656214\tvalid_1's l2: 0.766459\tvalid_1's rmse: 0.875477\n",
      "[1012]\ttraining's l2: 0.430559\ttraining's rmse: 0.65617\tvalid_1's l2: 0.766487\tvalid_1's rmse: 0.875492\n",
      "[1013]\ttraining's l2: 0.430486\ttraining's rmse: 0.656115\tvalid_1's l2: 0.766488\tvalid_1's rmse: 0.875493\n",
      "[1014]\ttraining's l2: 0.430304\ttraining's rmse: 0.655976\tvalid_1's l2: 0.766487\tvalid_1's rmse: 0.875492\n",
      "[1015]\ttraining's l2: 0.430231\ttraining's rmse: 0.65592\tvalid_1's l2: 0.766495\tvalid_1's rmse: 0.875497\n",
      "[1016]\ttraining's l2: 0.430196\ttraining's rmse: 0.655893\tvalid_1's l2: 0.766489\tvalid_1's rmse: 0.875493\n",
      "[1017]\ttraining's l2: 0.430108\ttraining's rmse: 0.655826\tvalid_1's l2: 0.766494\tvalid_1's rmse: 0.875496\n",
      "[1018]\ttraining's l2: 0.430038\ttraining's rmse: 0.655773\tvalid_1's l2: 0.766532\tvalid_1's rmse: 0.875518\n",
      "[1019]\ttraining's l2: 0.429978\ttraining's rmse: 0.655727\tvalid_1's l2: 0.766546\tvalid_1's rmse: 0.875526\n",
      "[1020]\ttraining's l2: 0.429934\ttraining's rmse: 0.655694\tvalid_1's l2: 0.766499\tvalid_1's rmse: 0.875499\n",
      "[1021]\ttraining's l2: 0.429852\ttraining's rmse: 0.655631\tvalid_1's l2: 0.766571\tvalid_1's rmse: 0.875541\n",
      "[1022]\ttraining's l2: 0.429768\ttraining's rmse: 0.655567\tvalid_1's l2: 0.76656\tvalid_1's rmse: 0.875534\n",
      "[1023]\ttraining's l2: 0.429694\ttraining's rmse: 0.655511\tvalid_1's l2: 0.766575\tvalid_1's rmse: 0.875542\n",
      "[1024]\ttraining's l2: 0.429639\ttraining's rmse: 0.655469\tvalid_1's l2: 0.766621\tvalid_1's rmse: 0.875569\n",
      "[1025]\ttraining's l2: 0.429573\ttraining's rmse: 0.655418\tvalid_1's l2: 0.766622\tvalid_1's rmse: 0.875569\n",
      "[1026]\ttraining's l2: 0.429539\ttraining's rmse: 0.655392\tvalid_1's l2: 0.766661\tvalid_1's rmse: 0.875592\n",
      "[1027]\ttraining's l2: 0.429494\ttraining's rmse: 0.655358\tvalid_1's l2: 0.766662\tvalid_1's rmse: 0.875592\n",
      "[1028]\ttraining's l2: 0.429393\ttraining's rmse: 0.655281\tvalid_1's l2: 0.766651\tvalid_1's rmse: 0.875586\n",
      "[1029]\ttraining's l2: 0.429294\ttraining's rmse: 0.655205\tvalid_1's l2: 0.766685\tvalid_1's rmse: 0.875606\n",
      "[1030]\ttraining's l2: 0.429226\ttraining's rmse: 0.655154\tvalid_1's l2: 0.76669\tvalid_1's rmse: 0.875608\n",
      "[1031]\ttraining's l2: 0.429177\ttraining's rmse: 0.655116\tvalid_1's l2: 0.766703\tvalid_1's rmse: 0.875616\n",
      "[1032]\ttraining's l2: 0.429118\ttraining's rmse: 0.655071\tvalid_1's l2: 0.766704\tvalid_1's rmse: 0.875616\n",
      "[1033]\ttraining's l2: 0.429071\ttraining's rmse: 0.655035\tvalid_1's l2: 0.766704\tvalid_1's rmse: 0.875616\n",
      "[1034]\ttraining's l2: 0.42901\ttraining's rmse: 0.654988\tvalid_1's l2: 0.766705\tvalid_1's rmse: 0.875617\n",
      "[1035]\ttraining's l2: 0.428936\ttraining's rmse: 0.654932\tvalid_1's l2: 0.766733\tvalid_1's rmse: 0.875633\n",
      "[1036]\ttraining's l2: 0.428874\ttraining's rmse: 0.654885\tvalid_1's l2: 0.766727\tvalid_1's rmse: 0.87563\n",
      "[1037]\ttraining's l2: 0.428816\ttraining's rmse: 0.654841\tvalid_1's l2: 0.766668\tvalid_1's rmse: 0.875596\n",
      "[1038]\ttraining's l2: 0.428755\ttraining's rmse: 0.654794\tvalid_1's l2: 0.766668\tvalid_1's rmse: 0.875596\n",
      "[1039]\ttraining's l2: 0.428718\ttraining's rmse: 0.654766\tvalid_1's l2: 0.766668\tvalid_1's rmse: 0.875596\n",
      "[1040]\ttraining's l2: 0.42866\ttraining's rmse: 0.654721\tvalid_1's l2: 0.766636\tvalid_1's rmse: 0.875577\n",
      "[1041]\ttraining's l2: 0.428569\ttraining's rmse: 0.654652\tvalid_1's l2: 0.766601\tvalid_1's rmse: 0.875557\n",
      "[1042]\ttraining's l2: 0.428499\ttraining's rmse: 0.654598\tvalid_1's l2: 0.766605\tvalid_1's rmse: 0.87556\n",
      "[1043]\ttraining's l2: 0.428005\ttraining's rmse: 0.654221\tvalid_1's l2: 0.766733\tvalid_1's rmse: 0.875633\n",
      "[1044]\ttraining's l2: 0.427781\ttraining's rmse: 0.65405\tvalid_1's l2: 0.767256\tvalid_1's rmse: 0.875931\n",
      "[1045]\ttraining's l2: 0.427719\ttraining's rmse: 0.654002\tvalid_1's l2: 0.767242\tvalid_1's rmse: 0.875923\n",
      "[1046]\ttraining's l2: 0.427642\ttraining's rmse: 0.653943\tvalid_1's l2: 0.767249\tvalid_1's rmse: 0.875928\n",
      "[1047]\ttraining's l2: 0.427604\ttraining's rmse: 0.653914\tvalid_1's l2: 0.767259\tvalid_1's rmse: 0.875933\n",
      "[1048]\ttraining's l2: 0.427526\ttraining's rmse: 0.653855\tvalid_1's l2: 0.767233\tvalid_1's rmse: 0.875919\n",
      "[1049]\ttraining's l2: 0.42746\ttraining's rmse: 0.653804\tvalid_1's l2: 0.767242\tvalid_1's rmse: 0.875924\n",
      "[1050]\ttraining's l2: 0.427429\ttraining's rmse: 0.653781\tvalid_1's l2: 0.767253\tvalid_1's rmse: 0.87593\n",
      "[1051]\ttraining's l2: 0.427057\ttraining's rmse: 0.653496\tvalid_1's l2: 0.767248\tvalid_1's rmse: 0.875927\n",
      "[1052]\ttraining's l2: 0.426996\ttraining's rmse: 0.653449\tvalid_1's l2: 0.76725\tvalid_1's rmse: 0.875928\n",
      "[1053]\ttraining's l2: 0.426957\ttraining's rmse: 0.653419\tvalid_1's l2: 0.767258\tvalid_1's rmse: 0.875932\n",
      "[1054]\ttraining's l2: 0.426903\ttraining's rmse: 0.653378\tvalid_1's l2: 0.767275\tvalid_1's rmse: 0.875943\n",
      "[1055]\ttraining's l2: 0.426838\ttraining's rmse: 0.653329\tvalid_1's l2: 0.767451\tvalid_1's rmse: 0.876043\n",
      "[1056]\ttraining's l2: 0.426791\ttraining's rmse: 0.653292\tvalid_1's l2: 0.767455\tvalid_1's rmse: 0.876045\n",
      "Early stopping, best iteration is:\n",
      "[56]\ttraining's l2: 0.650271\ttraining's rmse: 0.806394\tvalid_1's l2: 0.699509\tvalid_1's rmse: 0.836367\n"
     ]
    },
    {
     "data": {
      "text/plain": [
       "LGBMRegressor(boosting_type='gbdt', class_weight=None, colsample_bytree=1.0,\n",
       "       early_stopping_rounds=1000, importance_type='split',\n",
       "       learning_rate=0.3, max_depth=-1, min_child_samples=20,\n",
       "       min_child_weight=0.001, min_split_gain=0.0, n_estimators=5000,\n",
       "       n_jobs=-1, num_leaves=31, objective=None, random_state=0,\n",
       "       reg_alpha=0.0, reg_lambda=0.0, silent=True, subsample=1.0,\n",
       "       subsample_for_bin=200000, subsample_freq=0)"
      ]
     },
     "execution_count": 133,
     "metadata": {},
     "output_type": "execute_result"
    }
   ],
   "source": [
    "model_lgb.fit(X_train,y_train,eval_metric=\"rmse\",eval_set=[(X_train,y_train),(X_valid,y_valid)])"
   ]
  },
  {
   "cell_type": "code",
   "execution_count": 134,
   "metadata": {
    "_uuid": "8ff5a80a22d046c5ca1cb27e938c757b607551d2"
   },
   "outputs": [],
   "source": [
    "y_test = model_lgb.predict(X_test).clip(0, 20)\n",
    "\n",
    "c = pd.DataFrame({\n",
    "    \"ID\": test.index, \n",
    "    \"item_cnt_month\": y_test\n",
    "})\n"
   ]
  },
  {
   "cell_type": "code",
   "execution_count": 137,
   "metadata": {},
   "outputs": [
    {
     "data": {
      "text/html": [
       "<a href='cour.csv' target='_blank'>cour.csv</a><br>"
      ],
      "text/plain": [
       "/kaggle/working/cour.csv"
      ]
     },
     "execution_count": 137,
     "metadata": {},
     "output_type": "execute_result"
    }
   ],
   "source": [
    "from IPython.display import FileLink\n",
    "def create_submission(submission_file, submission_name):\n",
    "    submission_file.to_csv(submission_name+\".csv\",index=False)\n",
    "    return FileLink(submission_name+\".csv\")\n",
    "\n",
    "create_submission(submission_file=c, submission_name=\"cour\")"
   ]
  },
  {
   "cell_type": "code",
   "execution_count": 135,
   "metadata": {},
   "outputs": [],
   "source": [
    "pickle.dump(model_lgb, open(\"lightgbm.pickle\", 'wb'))"
   ]
  },
  {
   "cell_type": "code",
   "execution_count": 136,
   "metadata": {},
   "outputs": [
    {
     "data": {
      "text/html": [
       "<a href='lightgbm.pickle' target='_blank'>lightgbm.pickle</a><br>"
      ],
      "text/plain": [
       "/kaggle/working/lightgbm.pickle"
      ]
     },
     "execution_count": 136,
     "metadata": {},
     "output_type": "execute_result"
    }
   ],
   "source": [
    "FileLink(\"lightgbm.pickle\")"
   ]
  },
  {
   "cell_type": "code",
   "execution_count": null,
   "metadata": {},
   "outputs": [],
   "source": []
  },
  {
   "cell_type": "code",
   "execution_count": null,
   "metadata": {},
   "outputs": [],
   "source": []
  },
  {
   "cell_type": "code",
   "execution_count": null,
   "metadata": {},
   "outputs": [],
   "source": []
  },
  {
   "cell_type": "code",
   "execution_count": null,
   "metadata": {},
   "outputs": [],
   "source": []
  },
  {
   "cell_type": "code",
   "execution_count": 3,
   "metadata": {},
   "outputs": [],
   "source": [
    "df = pd.DataFrame({\"postID\":[30,30,40,50,50,60,60]})"
   ]
  },
  {
   "cell_type": "code",
   "execution_count": 4,
   "metadata": {},
   "outputs": [
    {
     "data": {
      "text/plain": [
       "30    2\n",
       "60    2\n",
       "50    2\n",
       "40    1\n",
       "Name: postID, dtype: int64"
      ]
     },
     "execution_count": 4,
     "metadata": {},
     "output_type": "execute_result"
    }
   ],
   "source": [
    "df[\"postID\"].value_counts()"
   ]
  },
  {
   "cell_type": "code",
   "execution_count": 5,
   "metadata": {},
   "outputs": [
    {
     "data": {
      "text/plain": [
       "Int64Index([30, 60, 50, 40], dtype='int64')"
      ]
     },
     "execution_count": 5,
     "metadata": {},
     "output_type": "execute_result"
    }
   ],
   "source": [
    "df[\"postID\"].value_counts().index"
   ]
  },
  {
   "cell_type": "code",
   "execution_count": 6,
   "metadata": {},
   "outputs": [
    {
     "data": {
      "text/plain": [
       "array([2, 2, 2, 1], dtype=int64)"
      ]
     },
     "execution_count": 6,
     "metadata": {},
     "output_type": "execute_result"
    }
   ],
   "source": [
    "df[\"postID\"].value_counts().values"
   ]
  },
  {
   "cell_type": "code",
   "execution_count": null,
   "metadata": {},
   "outputs": [],
   "source": []
  }
 ],
 "metadata": {
  "kernelspec": {
   "display_name": "Python 3",
   "language": "python",
   "name": "python3"
  },
  "language_info": {
   "codemirror_mode": {
    "name": "ipython",
    "version": 3
   },
   "file_extension": ".py",
   "mimetype": "text/x-python",
   "name": "python",
   "nbconvert_exporter": "python",
   "pygments_lexer": "ipython3",
   "version": "3.6.8"
  }
 },
 "nbformat": 4,
 "nbformat_minor": 2
}
